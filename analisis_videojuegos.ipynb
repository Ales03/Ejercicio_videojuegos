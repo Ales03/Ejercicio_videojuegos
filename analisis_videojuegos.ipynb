{
 "cells": [
  {
   "cell_type": "markdown",
   "metadata": {},
   "source": [
    "-----"
   ]
  },
  {
   "cell_type": "markdown",
   "metadata": {},
   "source": [
    "------"
   ]
  },
  {
   "cell_type": "markdown",
   "metadata": {
    "tags": [
     "e5c1f0c2-db9f-43a0-99b9-4875c52427e8"
    ]
   },
   "source": [
    "# ¿Cuáles son los juegos más exitosos?\n",
    "\n",
    "Esta es un ejercicio que se realizó para la tienda online Ice que vende videojuegos por todo el mundo. Las reseñas de usuarios y expertos, los géneros, las plataformas (por ejemplo, Xbox o PlayStation) y los datos históricos sobre las ventas de juegos están disponibles en fuentes abiertas. Para desarrollarlo tuve que identificar patrones para determinar si un juego tiene éxito o no. Esto permitirá detectar proyectos prometedores y planificar campañas publicitarias.\n",
    "\n",
    "La serie de datos se remonta a 2016. \n",
    "Imaginemos que es diciembre de 2016 y estás planeando una campaña para 2017."
   ]
  },
  {
   "cell_type": "markdown",
   "metadata": {},
   "source": [
    "Pasos a seguir:\n",
    "\n",
    "1. Cargar los archivos y las librerías con las que voy a trabajar\n",
    "2. Diagnósticos de los datos\n",
    "3. Procesamiento de los datos\n",
    "4. Análisis de la información\n",
    "5. Perfil por región\n",
    "6. Pruebas de hipótesis\n",
    "7. Conclusión general"
   ]
  },
  {
   "cell_type": "markdown",
   "metadata": {},
   "source": [
    "## Inicialización"
   ]
  },
  {
   "cell_type": "code",
   "execution_count": 1,
   "metadata": {},
   "outputs": [],
   "source": [
    "# Cargar todas las librerías\n",
    "import pandas as pd\n",
    "import numpy as np\n",
    "import seaborn as sns\n",
    "from scipy import stats as st\n",
    "from matplotlib import pyplot as plt"
   ]
  },
  {
   "cell_type": "markdown",
   "metadata": {},
   "source": [
    "## Cargar datos"
   ]
  },
  {
   "cell_type": "code",
   "execution_count": 2,
   "metadata": {},
   "outputs": [],
   "source": [
    "# Cargar el archivo\n",
    "games = pd.read_csv('/datasets/games.csv')"
   ]
  },
  {
   "cell_type": "markdown",
   "metadata": {},
   "source": [
    "## Diagnóstico inicial de los datos"
   ]
  },
  {
   "cell_type": "code",
   "execution_count": 3,
   "metadata": {},
   "outputs": [
    {
     "name": "stdout",
     "output_type": "stream",
     "text": [
      "<class 'pandas.core.frame.DataFrame'>\n",
      "RangeIndex: 16715 entries, 0 to 16714\n",
      "Data columns (total 11 columns):\n",
      " #   Column           Non-Null Count  Dtype  \n",
      "---  ------           --------------  -----  \n",
      " 0   Name             16713 non-null  object \n",
      " 1   Platform         16715 non-null  object \n",
      " 2   Year_of_Release  16446 non-null  float64\n",
      " 3   Genre            16713 non-null  object \n",
      " 4   NA_sales         16715 non-null  float64\n",
      " 5   EU_sales         16715 non-null  float64\n",
      " 6   JP_sales         16715 non-null  float64\n",
      " 7   Other_sales      16715 non-null  float64\n",
      " 8   Critic_Score     8137 non-null   float64\n",
      " 9   User_Score       10014 non-null  object \n",
      " 10  Rating           9949 non-null   object \n",
      "dtypes: float64(6), object(5)\n",
      "memory usage: 1.4+ MB\n"
     ]
    }
   ],
   "source": [
    "# Información general/resumida sobre el DataFrame\n",
    "games.info()"
   ]
  },
  {
   "cell_type": "code",
   "execution_count": 4,
   "metadata": {},
   "outputs": [
    {
     "data": {
      "text/html": [
       "<div>\n",
       "<style scoped>\n",
       "    .dataframe tbody tr th:only-of-type {\n",
       "        vertical-align: middle;\n",
       "    }\n",
       "\n",
       "    .dataframe tbody tr th {\n",
       "        vertical-align: top;\n",
       "    }\n",
       "\n",
       "    .dataframe thead th {\n",
       "        text-align: right;\n",
       "    }\n",
       "</style>\n",
       "<table border=\"1\" class=\"dataframe\">\n",
       "  <thead>\n",
       "    <tr style=\"text-align: right;\">\n",
       "      <th></th>\n",
       "      <th>Name</th>\n",
       "      <th>Platform</th>\n",
       "      <th>Year_of_Release</th>\n",
       "      <th>Genre</th>\n",
       "      <th>NA_sales</th>\n",
       "      <th>EU_sales</th>\n",
       "      <th>JP_sales</th>\n",
       "      <th>Other_sales</th>\n",
       "      <th>Critic_Score</th>\n",
       "      <th>User_Score</th>\n",
       "      <th>Rating</th>\n",
       "    </tr>\n",
       "  </thead>\n",
       "  <tbody>\n",
       "    <tr>\n",
       "      <th>7106</th>\n",
       "      <td>NBA ShootOut 2003</td>\n",
       "      <td>PS2</td>\n",
       "      <td>2002.0</td>\n",
       "      <td>Sports</td>\n",
       "      <td>0.11</td>\n",
       "      <td>0.09</td>\n",
       "      <td>0.00</td>\n",
       "      <td>0.03</td>\n",
       "      <td>62.0</td>\n",
       "      <td>5.9</td>\n",
       "      <td>E</td>\n",
       "    </tr>\n",
       "    <tr>\n",
       "      <th>10641</th>\n",
       "      <td>Gekido</td>\n",
       "      <td>PS</td>\n",
       "      <td>1999.0</td>\n",
       "      <td>Fighting</td>\n",
       "      <td>0.06</td>\n",
       "      <td>0.04</td>\n",
       "      <td>0.00</td>\n",
       "      <td>0.01</td>\n",
       "      <td>NaN</td>\n",
       "      <td>NaN</td>\n",
       "      <td>NaN</td>\n",
       "    </tr>\n",
       "    <tr>\n",
       "      <th>15764</th>\n",
       "      <td>Moe Star: Moeru Toudai Eigojuku</td>\n",
       "      <td>DS</td>\n",
       "      <td>2008.0</td>\n",
       "      <td>Misc</td>\n",
       "      <td>0.00</td>\n",
       "      <td>0.00</td>\n",
       "      <td>0.02</td>\n",
       "      <td>0.00</td>\n",
       "      <td>NaN</td>\n",
       "      <td>NaN</td>\n",
       "      <td>NaN</td>\n",
       "    </tr>\n",
       "    <tr>\n",
       "      <th>12168</th>\n",
       "      <td>Shin Lucky * Star: Moe Drill ~Tabidachi~</td>\n",
       "      <td>DS</td>\n",
       "      <td>2007.0</td>\n",
       "      <td>Action</td>\n",
       "      <td>0.00</td>\n",
       "      <td>0.00</td>\n",
       "      <td>0.07</td>\n",
       "      <td>0.00</td>\n",
       "      <td>NaN</td>\n",
       "      <td>NaN</td>\n",
       "      <td>NaN</td>\n",
       "    </tr>\n",
       "    <tr>\n",
       "      <th>10420</th>\n",
       "      <td>Taiko no Tatsujin: V Version</td>\n",
       "      <td>PSV</td>\n",
       "      <td>2015.0</td>\n",
       "      <td>Action</td>\n",
       "      <td>0.00</td>\n",
       "      <td>0.00</td>\n",
       "      <td>0.10</td>\n",
       "      <td>0.00</td>\n",
       "      <td>NaN</td>\n",
       "      <td>NaN</td>\n",
       "      <td>NaN</td>\n",
       "    </tr>\n",
       "    <tr>\n",
       "      <th>14735</th>\n",
       "      <td>Wrestle Angels: Survivor 2</td>\n",
       "      <td>PS2</td>\n",
       "      <td>2008.0</td>\n",
       "      <td>Fighting</td>\n",
       "      <td>0.00</td>\n",
       "      <td>0.00</td>\n",
       "      <td>0.03</td>\n",
       "      <td>0.00</td>\n",
       "      <td>NaN</td>\n",
       "      <td>NaN</td>\n",
       "      <td>NaN</td>\n",
       "    </tr>\n",
       "    <tr>\n",
       "      <th>13035</th>\n",
       "      <td>Ultra Bust-A-Move</td>\n",
       "      <td>XB</td>\n",
       "      <td>2004.0</td>\n",
       "      <td>Puzzle</td>\n",
       "      <td>0.04</td>\n",
       "      <td>0.01</td>\n",
       "      <td>0.00</td>\n",
       "      <td>0.00</td>\n",
       "      <td>74.0</td>\n",
       "      <td>tbd</td>\n",
       "      <td>E</td>\n",
       "    </tr>\n",
       "    <tr>\n",
       "      <th>7358</th>\n",
       "      <td>Viewtiful Joe 2</td>\n",
       "      <td>PS2</td>\n",
       "      <td>2004.0</td>\n",
       "      <td>Action</td>\n",
       "      <td>0.10</td>\n",
       "      <td>0.08</td>\n",
       "      <td>0.00</td>\n",
       "      <td>0.03</td>\n",
       "      <td>85.0</td>\n",
       "      <td>7.7</td>\n",
       "      <td>T</td>\n",
       "    </tr>\n",
       "    <tr>\n",
       "      <th>15679</th>\n",
       "      <td>Germany's Next Topmodel 2011</td>\n",
       "      <td>Wii</td>\n",
       "      <td>2011.0</td>\n",
       "      <td>Simulation</td>\n",
       "      <td>0.00</td>\n",
       "      <td>0.02</td>\n",
       "      <td>0.00</td>\n",
       "      <td>0.00</td>\n",
       "      <td>NaN</td>\n",
       "      <td>NaN</td>\n",
       "      <td>NaN</td>\n",
       "    </tr>\n",
       "    <tr>\n",
       "      <th>11286</th>\n",
       "      <td>Famicom Mini: Famicom Mukashi Banashi - Shin O...</td>\n",
       "      <td>GBA</td>\n",
       "      <td>2004.0</td>\n",
       "      <td>Adventure</td>\n",
       "      <td>0.00</td>\n",
       "      <td>0.00</td>\n",
       "      <td>0.08</td>\n",
       "      <td>0.00</td>\n",
       "      <td>NaN</td>\n",
       "      <td>NaN</td>\n",
       "      <td>NaN</td>\n",
       "    </tr>\n",
       "  </tbody>\n",
       "</table>\n",
       "</div>"
      ],
      "text/plain": [
       "                                                    Name Platform  \\\n",
       "7106                                   NBA ShootOut 2003      PS2   \n",
       "10641                                             Gekido       PS   \n",
       "15764                    Moe Star: Moeru Toudai Eigojuku       DS   \n",
       "12168           Shin Lucky * Star: Moe Drill ~Tabidachi~       DS   \n",
       "10420                       Taiko no Tatsujin: V Version      PSV   \n",
       "14735                         Wrestle Angels: Survivor 2      PS2   \n",
       "13035                                  Ultra Bust-A-Move       XB   \n",
       "7358                                     Viewtiful Joe 2      PS2   \n",
       "15679                       Germany's Next Topmodel 2011      Wii   \n",
       "11286  Famicom Mini: Famicom Mukashi Banashi - Shin O...      GBA   \n",
       "\n",
       "       Year_of_Release       Genre  NA_sales  EU_sales  JP_sales  Other_sales  \\\n",
       "7106            2002.0      Sports      0.11      0.09      0.00         0.03   \n",
       "10641           1999.0    Fighting      0.06      0.04      0.00         0.01   \n",
       "15764           2008.0        Misc      0.00      0.00      0.02         0.00   \n",
       "12168           2007.0      Action      0.00      0.00      0.07         0.00   \n",
       "10420           2015.0      Action      0.00      0.00      0.10         0.00   \n",
       "14735           2008.0    Fighting      0.00      0.00      0.03         0.00   \n",
       "13035           2004.0      Puzzle      0.04      0.01      0.00         0.00   \n",
       "7358            2004.0      Action      0.10      0.08      0.00         0.03   \n",
       "15679           2011.0  Simulation      0.00      0.02      0.00         0.00   \n",
       "11286           2004.0   Adventure      0.00      0.00      0.08         0.00   \n",
       "\n",
       "       Critic_Score User_Score Rating  \n",
       "7106           62.0        5.9      E  \n",
       "10641           NaN        NaN    NaN  \n",
       "15764           NaN        NaN    NaN  \n",
       "12168           NaN        NaN    NaN  \n",
       "10420           NaN        NaN    NaN  \n",
       "14735           NaN        NaN    NaN  \n",
       "13035          74.0        tbd      E  \n",
       "7358           85.0        7.7      T  \n",
       "15679           NaN        NaN    NaN  \n",
       "11286           NaN        NaN    NaN  "
      ]
     },
     "execution_count": 4,
     "metadata": {},
     "output_type": "execute_result"
    }
   ],
   "source": [
    "#Un ejemplo\n",
    "games.sample(10)"
   ]
  },
  {
   "cell_type": "code",
   "execution_count": 5,
   "metadata": {},
   "outputs": [
    {
     "data": {
      "text/plain": [
       "2600     133\n",
       "3DO        3\n",
       "3DS      520\n",
       "DC        52\n",
       "DS      2151\n",
       "GB        98\n",
       "GBA      822\n",
       "GC       556\n",
       "GEN       29\n",
       "GG         1\n",
       "N64      319\n",
       "NES       98\n",
       "NG        12\n",
       "PC       974\n",
       "PCFX       1\n",
       "PS      1197\n",
       "PS2     2161\n",
       "PS3     1331\n",
       "PS4      392\n",
       "PSP     1209\n",
       "PSV      430\n",
       "SAT      173\n",
       "SCD        6\n",
       "SNES     239\n",
       "TG16       2\n",
       "WS         6\n",
       "Wii     1320\n",
       "WiiU     147\n",
       "X360    1262\n",
       "XB       824\n",
       "XOne     247\n",
       "Name: Platform, dtype: int64"
      ]
     },
     "execution_count": 5,
     "metadata": {},
     "output_type": "execute_result"
    }
   ],
   "source": [
    "#Imprimir la columna de plataforma para ver qué contiene\n",
    "games['Platform'].value_counts().sort_index()"
   ]
  },
  {
   "cell_type": "markdown",
   "metadata": {},
   "source": [
    "Los nombres de las plataformas están muy desagrupados. Se podría conglomerar en diversas categorías para evitar tener tantos."
   ]
  },
  {
   "cell_type": "code",
   "execution_count": 6,
   "metadata": {},
   "outputs": [
    {
     "data": {
      "text/plain": [
       "Action          3369\n",
       "Adventure       1303\n",
       "Fighting         849\n",
       "Misc            1750\n",
       "Platform         888\n",
       "Puzzle           580\n",
       "Racing          1249\n",
       "Role-Playing    1498\n",
       "Shooter         1323\n",
       "Simulation       873\n",
       "Sports          2348\n",
       "Strategy         683\n",
       "Name: Genre, dtype: int64"
      ]
     },
     "execution_count": 6,
     "metadata": {},
     "output_type": "execute_result"
    }
   ],
   "source": [
    "#Imprimir la columna 'genre' para ver qué contiene\n",
    "games['Genre'].value_counts().sort_index()"
   ]
  },
  {
   "cell_type": "markdown",
   "metadata": {},
   "source": [
    "De momento parece que todo bien"
   ]
  },
  {
   "cell_type": "code",
   "execution_count": 7,
   "metadata": {},
   "outputs": [
    {
     "data": {
      "text/plain": [
       "AO         1\n",
       "E       3990\n",
       "E10+    1420\n",
       "EC         8\n",
       "K-A        3\n",
       "M       1563\n",
       "RP         3\n",
       "T       2961\n",
       "Name: Rating, dtype: int64"
      ]
     },
     "execution_count": 7,
     "metadata": {},
     "output_type": "execute_result"
    }
   ],
   "source": [
    "#Imprimir la columna de Rating para ver qué contiene\n",
    "games['Rating'].value_counts().sort_index()"
   ]
  },
  {
   "cell_type": "markdown",
   "metadata": {},
   "source": [
    "Los nombres de esas categorías están difíciles de entender para un público que no sea conocedor de videojuegos. Los cambiaré para que sean más entendibles."
   ]
  },
  {
   "cell_type": "code",
   "execution_count": 8,
   "metadata": {},
   "outputs": [
    {
     "data": {
      "text/plain": [
       "0         1\n",
       "0.2       2\n",
       "0.3       2\n",
       "0.5       2\n",
       "0.6       2\n",
       "       ... \n",
       "9.4      11\n",
       "9.5       6\n",
       "9.6       2\n",
       "9.7       1\n",
       "tbd    2424\n",
       "Name: User_Score, Length: 96, dtype: int64"
      ]
     },
     "execution_count": 8,
     "metadata": {},
     "output_type": "execute_result"
    }
   ],
   "source": [
    "#Imprimir la columna de User_score para ver qué contiene\n",
    "games['User_Score'].value_counts().sort_index()"
   ]
  },
  {
   "cell_type": "code",
   "execution_count": 9,
   "metadata": {},
   "outputs": [
    {
     "data": {
      "text/plain": [
       "13.0     1\n",
       "17.0     1\n",
       "19.0     6\n",
       "20.0     3\n",
       "21.0     1\n",
       "        ..\n",
       "94.0    37\n",
       "95.0    16\n",
       "96.0    18\n",
       "97.0    11\n",
       "98.0     4\n",
       "Name: Critic_Score, Length: 82, dtype: int64"
      ]
     },
     "execution_count": 9,
     "metadata": {},
     "output_type": "execute_result"
    }
   ],
   "source": [
    "#Imprimir la columna de critic_score para ver qué contiene\n",
    "games['Critic_Score'].value_counts().sort_index()"
   ]
  },
  {
   "cell_type": "markdown",
   "metadata": {},
   "source": [
    "Estas columnas están midiendo la puntuación de cada videojuego, pero en diferente escala. Voy a homologar para que ambas estén en la misma escala y podamos comparar más fácilmente. "
   ]
  },
  {
   "cell_type": "markdown",
   "metadata": {},
   "source": [
    "## Corregir datos"
   ]
  },
  {
   "cell_type": "markdown",
   "metadata": {},
   "source": [
    "**Plan de trabajo:**\n",
    "\n",
    "1. Cambiar los nombres a minúsculas.\n",
    "2. Columna name:\n",
    "   * Homologar los nombres en minúsculas, quitar espacios y caracteres especiales.\n",
    "   * Verificar valores perdidos y reemplazarlos.\n",
    "3. Columna platform:\n",
    "   * Agrupar en categorías más grandes y crear una nueva columna\n",
    "4. Columna year_of_release\n",
    "   * Verificar valores ausentes\n",
    "   * Cambiar el type a entero\n",
    "5. Columna genre\n",
    "   * Verificar valores ausentes\n",
    "6. Columna user_score\n",
    "   * Quitar el 'tbd'\n",
    "   * Verificar valores ausentes\n",
    "   * Cambiar el type a float\n",
    "   * Igualar escala con columna 'critic_score'\n",
    "7. Columna_rating\n",
    "   * Crear una nueva columna para una mejor descripción\n",
    "   * Verificar valores ausentes\n",
    "8. Columnas de 'sales'\n",
    "   * Verificar valores ausentes y reemplazar por '0'\n",
    "9. Generar una nueva columna total_sales\n",
    "10. Revisar duplicados"
   ]
  },
  {
   "cell_type": "markdown",
   "metadata": {},
   "source": [
    "#### **1. Cambiar columnas a minúsculas**"
   ]
  },
  {
   "cell_type": "code",
   "execution_count": 10,
   "metadata": {},
   "outputs": [
    {
     "name": "stdout",
     "output_type": "stream",
     "text": [
      "<class 'pandas.core.frame.DataFrame'>\n",
      "RangeIndex: 16715 entries, 0 to 16714\n",
      "Data columns (total 11 columns):\n",
      " #   Column           Non-Null Count  Dtype  \n",
      "---  ------           --------------  -----  \n",
      " 0   name             16713 non-null  object \n",
      " 1   platform         16715 non-null  object \n",
      " 2   year_of_release  16446 non-null  float64\n",
      " 3   genre            16713 non-null  object \n",
      " 4   na_sales         16715 non-null  float64\n",
      " 5   eu_sales         16715 non-null  float64\n",
      " 6   jp_sales         16715 non-null  float64\n",
      " 7   other_sales      16715 non-null  float64\n",
      " 8   critic_score     8137 non-null   float64\n",
      " 9   user_score       10014 non-null  object \n",
      " 10  rating           9949 non-null   object \n",
      "dtypes: float64(6), object(5)\n",
      "memory usage: 1.4+ MB\n"
     ]
    }
   ],
   "source": [
    "games.columns = games.columns.str.lower()\n",
    "games.info()"
   ]
  },
  {
   "cell_type": "markdown",
   "metadata": {},
   "source": [
    "#### **2. Trabajar con la columna name**"
   ]
  },
  {
   "cell_type": "code",
   "execution_count": 11,
   "metadata": {},
   "outputs": [
    {
     "data": {
      "text/plain": [
       "8875          Major League Baseball 2K12\n",
       "8190        Back to the Future: The Game\n",
       "8824     FIFA 06: Road to FIFA World Cup\n",
       "5547      Discovery Kids: Puppy Playtime\n",
       "6819          Lunar: Silver Star Harmony\n",
       "11895      Tak: The Great Juju Challenge\n",
       "13978                     Minna no Chizu\n",
       "9804                             McDROID\n",
       "7033          Tetris 2 (weekly jp sales)\n",
       "14429         Chaos;Head - Love Chu*Chu!\n",
       "Name: name, dtype: object"
      ]
     },
     "execution_count": 11,
     "metadata": {},
     "output_type": "execute_result"
    }
   ],
   "source": [
    "#imprimir un ejemplo para ver cómo vienen los datos\n",
    "games['name'].sample(10)"
   ]
  },
  {
   "cell_type": "code",
   "execution_count": 12,
   "metadata": {},
   "outputs": [],
   "source": [
    "#Para poder trabajar mejor con los datos, cambiaré todos los nombres a minúsculas\n",
    "games['name'] = games['name'].str.lower()"
   ]
  },
  {
   "cell_type": "code",
   "execution_count": 13,
   "metadata": {},
   "outputs": [],
   "source": [
    "#Quitar espacios y caracteres especiales\n",
    "games['name'] = games['name'].str.strip()\n",
    "games['name'] = games['name'].str.replace(r'[^\\w\\s]+','')"
   ]
  },
  {
   "cell_type": "code",
   "execution_count": 14,
   "metadata": {},
   "outputs": [
    {
     "data": {
      "text/plain": [
       "need for speed most wanted             12\n",
       "fifa 14                                 9\n",
       "ratatouille                             9\n",
       "madden nfl 07                           9\n",
       "lego marvel super heroes                9\n",
       "                                       ..\n",
       "puella magi madoka magica portable      1\n",
       "battlefield 2 modern combatjp sales     1\n",
       "kinnikuman muscle grand prix max        1\n",
       "the 7th guest                           1\n",
       "are you smarter than a 5th grader       1\n",
       "Name: name, Length: 11536, dtype: int64"
      ]
     },
     "execution_count": 14,
     "metadata": {},
     "output_type": "execute_result"
    }
   ],
   "source": [
    "#Imprimir un ejemplo\n",
    "games['name'].value_counts().sort_values(ascending=False)"
   ]
  },
  {
   "cell_type": "code",
   "execution_count": 15,
   "metadata": {},
   "outputs": [
    {
     "data": {
      "text/html": [
       "<div>\n",
       "<style scoped>\n",
       "    .dataframe tbody tr th:only-of-type {\n",
       "        vertical-align: middle;\n",
       "    }\n",
       "\n",
       "    .dataframe tbody tr th {\n",
       "        vertical-align: top;\n",
       "    }\n",
       "\n",
       "    .dataframe thead th {\n",
       "        text-align: right;\n",
       "    }\n",
       "</style>\n",
       "<table border=\"1\" class=\"dataframe\">\n",
       "  <thead>\n",
       "    <tr style=\"text-align: right;\">\n",
       "      <th></th>\n",
       "      <th>name</th>\n",
       "      <th>platform</th>\n",
       "      <th>year_of_release</th>\n",
       "      <th>genre</th>\n",
       "      <th>na_sales</th>\n",
       "      <th>eu_sales</th>\n",
       "      <th>jp_sales</th>\n",
       "      <th>other_sales</th>\n",
       "      <th>critic_score</th>\n",
       "      <th>user_score</th>\n",
       "      <th>rating</th>\n",
       "    </tr>\n",
       "  </thead>\n",
       "  <tbody>\n",
       "    <tr>\n",
       "      <th>659</th>\n",
       "      <td>NaN</td>\n",
       "      <td>GEN</td>\n",
       "      <td>1993.0</td>\n",
       "      <td>NaN</td>\n",
       "      <td>1.78</td>\n",
       "      <td>0.53</td>\n",
       "      <td>0.00</td>\n",
       "      <td>0.08</td>\n",
       "      <td>NaN</td>\n",
       "      <td>NaN</td>\n",
       "      <td>NaN</td>\n",
       "    </tr>\n",
       "    <tr>\n",
       "      <th>14244</th>\n",
       "      <td>NaN</td>\n",
       "      <td>GEN</td>\n",
       "      <td>1993.0</td>\n",
       "      <td>NaN</td>\n",
       "      <td>0.00</td>\n",
       "      <td>0.00</td>\n",
       "      <td>0.03</td>\n",
       "      <td>0.00</td>\n",
       "      <td>NaN</td>\n",
       "      <td>NaN</td>\n",
       "      <td>NaN</td>\n",
       "    </tr>\n",
       "  </tbody>\n",
       "</table>\n",
       "</div>"
      ],
      "text/plain": [
       "      name platform  year_of_release genre  na_sales  eu_sales  jp_sales  \\\n",
       "659    NaN      GEN           1993.0   NaN      1.78      0.53      0.00   \n",
       "14244  NaN      GEN           1993.0   NaN      0.00      0.00      0.03   \n",
       "\n",
       "       other_sales  critic_score user_score rating  \n",
       "659           0.08           NaN        NaN    NaN  \n",
       "14244         0.00           NaN        NaN    NaN  "
      ]
     },
     "execution_count": 15,
     "metadata": {},
     "output_type": "execute_result"
    }
   ],
   "source": [
    "#Verificar valores perdidos\n",
    "games[games['name'].isna()]"
   ]
  },
  {
   "cell_type": "code",
   "execution_count": 16,
   "metadata": {},
   "outputs": [],
   "source": [
    "#Reemplazar los valores perdidos por \"not defined\"\n",
    "games['name'] = games['name'].fillna('not defined')"
   ]
  },
  {
   "cell_type": "markdown",
   "metadata": {},
   "source": [
    "He decidido cambiar los valores perdidos por 'not defined' porque parece lo más conveniente al ser solo 2 valores. "
   ]
  },
  {
   "cell_type": "markdown",
   "metadata": {},
   "source": [
    "#### **3. Trabajar con la columna platform**"
   ]
  },
  {
   "cell_type": "code",
   "execution_count": 17,
   "metadata": {},
   "outputs": [
    {
     "data": {
      "text/plain": [
       "array(['Wii', 'NES', 'GB', 'DS', 'X360', 'PS3', 'PS2', 'SNES', 'GBA',\n",
       "       'PS4', '3DS', 'N64', 'PS', 'XB', 'PC', '2600', 'PSP', 'XOne',\n",
       "       'WiiU', 'GC', 'GEN', 'DC', 'PSV', 'SAT', 'SCD', 'WS', 'NG', 'TG16',\n",
       "       '3DO', 'GG', 'PCFX'], dtype=object)"
      ]
     },
     "execution_count": 17,
     "metadata": {},
     "output_type": "execute_result"
    }
   ],
   "source": [
    "games['platform'].unique()"
   ]
  },
  {
   "cell_type": "code",
   "execution_count": 18,
   "metadata": {},
   "outputs": [],
   "source": [
    "#Función para agrupar en categorías a las diferentes plataformas:\n",
    "def fun_plataform (x):\n",
    "    if x in ['3DS','DS','GB','GBA','GC','N64','NES','SNES','Wii','WiiU']:\n",
    "        return \"Nintendo\"\n",
    "    elif x in ['PC','PCFX']:\n",
    "        return \"PC\"\n",
    "    elif x in ['PS','PS2','PS3','PS4','PSP','PSV']:\n",
    "        return \"PlayStation\"\n",
    "    elif x in ['X360','XB','XOne']:\n",
    "        return \"XBox\"\n",
    "    elif x in ['GEN', 'SCD', 'SAT', 'GG', 'DC']:\n",
    "        return \"Sega\"\n",
    "    else:\n",
    "        return \"Other\""
   ]
  },
  {
   "cell_type": "code",
   "execution_count": 19,
   "metadata": {},
   "outputs": [
    {
     "data": {
      "text/html": [
       "<div>\n",
       "<style scoped>\n",
       "    .dataframe tbody tr th:only-of-type {\n",
       "        vertical-align: middle;\n",
       "    }\n",
       "\n",
       "    .dataframe tbody tr th {\n",
       "        vertical-align: top;\n",
       "    }\n",
       "\n",
       "    .dataframe thead th {\n",
       "        text-align: right;\n",
       "    }\n",
       "</style>\n",
       "<table border=\"1\" class=\"dataframe\">\n",
       "  <thead>\n",
       "    <tr style=\"text-align: right;\">\n",
       "      <th></th>\n",
       "      <th>name</th>\n",
       "      <th>platform</th>\n",
       "      <th>year_of_release</th>\n",
       "      <th>genre</th>\n",
       "      <th>na_sales</th>\n",
       "      <th>eu_sales</th>\n",
       "      <th>jp_sales</th>\n",
       "      <th>other_sales</th>\n",
       "      <th>critic_score</th>\n",
       "      <th>user_score</th>\n",
       "      <th>rating</th>\n",
       "      <th>platform_group</th>\n",
       "    </tr>\n",
       "  </thead>\n",
       "  <tbody>\n",
       "    <tr>\n",
       "      <th>13055</th>\n",
       "      <td>tna impact cross the line</td>\n",
       "      <td>PSP</td>\n",
       "      <td>2010.0</td>\n",
       "      <td>Fighting</td>\n",
       "      <td>0.05</td>\n",
       "      <td>0.00</td>\n",
       "      <td>0.00</td>\n",
       "      <td>0.00</td>\n",
       "      <td>50.0</td>\n",
       "      <td>6.5</td>\n",
       "      <td>T</td>\n",
       "      <td>PlayStation</td>\n",
       "    </tr>\n",
       "    <tr>\n",
       "      <th>9649</th>\n",
       "      <td>puella magi madoka magica portable</td>\n",
       "      <td>PSP</td>\n",
       "      <td>2012.0</td>\n",
       "      <td>Role-Playing</td>\n",
       "      <td>0.00</td>\n",
       "      <td>0.00</td>\n",
       "      <td>0.12</td>\n",
       "      <td>0.00</td>\n",
       "      <td>NaN</td>\n",
       "      <td>NaN</td>\n",
       "      <td>NaN</td>\n",
       "      <td>PlayStation</td>\n",
       "    </tr>\n",
       "    <tr>\n",
       "      <th>5173</th>\n",
       "      <td>super fire prowrestling special</td>\n",
       "      <td>SNES</td>\n",
       "      <td>1994.0</td>\n",
       "      <td>Fighting</td>\n",
       "      <td>0.00</td>\n",
       "      <td>0.00</td>\n",
       "      <td>0.36</td>\n",
       "      <td>0.00</td>\n",
       "      <td>NaN</td>\n",
       "      <td>NaN</td>\n",
       "      <td>NaN</td>\n",
       "      <td>Nintendo</td>\n",
       "    </tr>\n",
       "    <tr>\n",
       "      <th>10651</th>\n",
       "      <td>tom clancys splinter cell</td>\n",
       "      <td>GBA</td>\n",
       "      <td>2003.0</td>\n",
       "      <td>Action</td>\n",
       "      <td>0.07</td>\n",
       "      <td>0.03</td>\n",
       "      <td>0.00</td>\n",
       "      <td>0.00</td>\n",
       "      <td>77.0</td>\n",
       "      <td>8.6</td>\n",
       "      <td>T</td>\n",
       "      <td>Nintendo</td>\n",
       "    </tr>\n",
       "    <tr>\n",
       "      <th>6345</th>\n",
       "      <td>mat hoffmans pro bmx</td>\n",
       "      <td>GBA</td>\n",
       "      <td>2001.0</td>\n",
       "      <td>Sports</td>\n",
       "      <td>0.19</td>\n",
       "      <td>0.07</td>\n",
       "      <td>0.00</td>\n",
       "      <td>0.00</td>\n",
       "      <td>71.0</td>\n",
       "      <td>tbd</td>\n",
       "      <td>E</td>\n",
       "      <td>Nintendo</td>\n",
       "    </tr>\n",
       "    <tr>\n",
       "      <th>8785</th>\n",
       "      <td>michael jackson the experience</td>\n",
       "      <td>PSP</td>\n",
       "      <td>2010.0</td>\n",
       "      <td>Misc</td>\n",
       "      <td>0.11</td>\n",
       "      <td>0.03</td>\n",
       "      <td>0.00</td>\n",
       "      <td>0.02</td>\n",
       "      <td>NaN</td>\n",
       "      <td>6.2</td>\n",
       "      <td>E10+</td>\n",
       "      <td>PlayStation</td>\n",
       "    </tr>\n",
       "    <tr>\n",
       "      <th>13159</th>\n",
       "      <td>all star tennis 99</td>\n",
       "      <td>N64</td>\n",
       "      <td>1999.0</td>\n",
       "      <td>Sports</td>\n",
       "      <td>0.04</td>\n",
       "      <td>0.01</td>\n",
       "      <td>0.00</td>\n",
       "      <td>0.00</td>\n",
       "      <td>NaN</td>\n",
       "      <td>NaN</td>\n",
       "      <td>NaN</td>\n",
       "      <td>Nintendo</td>\n",
       "    </tr>\n",
       "    <tr>\n",
       "      <th>9731</th>\n",
       "      <td>major league baseball 2k8 fantasy allstars</td>\n",
       "      <td>DS</td>\n",
       "      <td>2008.0</td>\n",
       "      <td>Sports</td>\n",
       "      <td>0.11</td>\n",
       "      <td>0.00</td>\n",
       "      <td>0.00</td>\n",
       "      <td>0.01</td>\n",
       "      <td>59.0</td>\n",
       "      <td>7</td>\n",
       "      <td>E</td>\n",
       "      <td>Nintendo</td>\n",
       "    </tr>\n",
       "    <tr>\n",
       "      <th>1710</th>\n",
       "      <td>injustice gods among us</td>\n",
       "      <td>PS3</td>\n",
       "      <td>2013.0</td>\n",
       "      <td>Fighting</td>\n",
       "      <td>0.48</td>\n",
       "      <td>0.50</td>\n",
       "      <td>0.01</td>\n",
       "      <td>0.20</td>\n",
       "      <td>78.0</td>\n",
       "      <td>7.9</td>\n",
       "      <td>T</td>\n",
       "      <td>PlayStation</td>\n",
       "    </tr>\n",
       "    <tr>\n",
       "      <th>15736</th>\n",
       "      <td>haneru no tobira wii girigirissu</td>\n",
       "      <td>Wii</td>\n",
       "      <td>2007.0</td>\n",
       "      <td>Misc</td>\n",
       "      <td>0.00</td>\n",
       "      <td>0.00</td>\n",
       "      <td>0.02</td>\n",
       "      <td>0.00</td>\n",
       "      <td>NaN</td>\n",
       "      <td>NaN</td>\n",
       "      <td>NaN</td>\n",
       "      <td>Nintendo</td>\n",
       "    </tr>\n",
       "  </tbody>\n",
       "</table>\n",
       "</div>"
      ],
      "text/plain": [
       "                                             name platform  year_of_release  \\\n",
       "13055                   tna impact cross the line      PSP           2010.0   \n",
       "9649           puella magi madoka magica portable      PSP           2012.0   \n",
       "5173              super fire prowrestling special     SNES           1994.0   \n",
       "10651                   tom clancys splinter cell      GBA           2003.0   \n",
       "6345                         mat hoffmans pro bmx      GBA           2001.0   \n",
       "8785               michael jackson the experience      PSP           2010.0   \n",
       "13159                          all star tennis 99      N64           1999.0   \n",
       "9731   major league baseball 2k8 fantasy allstars       DS           2008.0   \n",
       "1710                      injustice gods among us      PS3           2013.0   \n",
       "15736            haneru no tobira wii girigirissu      Wii           2007.0   \n",
       "\n",
       "              genre  na_sales  eu_sales  jp_sales  other_sales  critic_score  \\\n",
       "13055      Fighting      0.05      0.00      0.00         0.00          50.0   \n",
       "9649   Role-Playing      0.00      0.00      0.12         0.00           NaN   \n",
       "5173       Fighting      0.00      0.00      0.36         0.00           NaN   \n",
       "10651        Action      0.07      0.03      0.00         0.00          77.0   \n",
       "6345         Sports      0.19      0.07      0.00         0.00          71.0   \n",
       "8785           Misc      0.11      0.03      0.00         0.02           NaN   \n",
       "13159        Sports      0.04      0.01      0.00         0.00           NaN   \n",
       "9731         Sports      0.11      0.00      0.00         0.01          59.0   \n",
       "1710       Fighting      0.48      0.50      0.01         0.20          78.0   \n",
       "15736          Misc      0.00      0.00      0.02         0.00           NaN   \n",
       "\n",
       "      user_score rating platform_group  \n",
       "13055        6.5      T    PlayStation  \n",
       "9649         NaN    NaN    PlayStation  \n",
       "5173         NaN    NaN       Nintendo  \n",
       "10651        8.6      T       Nintendo  \n",
       "6345         tbd      E       Nintendo  \n",
       "8785         6.2   E10+    PlayStation  \n",
       "13159        NaN    NaN       Nintendo  \n",
       "9731           7      E       Nintendo  \n",
       "1710         7.9      T    PlayStation  \n",
       "15736        NaN    NaN       Nintendo  "
      ]
     },
     "execution_count": 19,
     "metadata": {},
     "output_type": "execute_result"
    }
   ],
   "source": [
    "#aplicar la función y crear una nueva columna\n",
    "games['platform_group'] = games['platform'].apply(fun_plataform)\n",
    "games.sample(10)"
   ]
  },
  {
   "cell_type": "code",
   "execution_count": 20,
   "metadata": {},
   "outputs": [
    {
     "data": {
      "text/plain": [
       "PlayStation    6720\n",
       "Nintendo       6270\n",
       "XBox           2333\n",
       "PC              975\n",
       "Sega            261\n",
       "Other           156\n",
       "Name: platform_group, dtype: int64"
      ]
     },
     "execution_count": 20,
     "metadata": {},
     "output_type": "execute_result"
    }
   ],
   "source": [
    "#Cuántos hay por categoría:\n",
    "games['platform_group'].value_counts()"
   ]
  },
  {
   "cell_type": "markdown",
   "metadata": {},
   "source": [
    "#### **4. Trabajar con la columna 'year_of_release'**"
   ]
  },
  {
   "cell_type": "code",
   "execution_count": 21,
   "metadata": {},
   "outputs": [
    {
     "data": {
      "text/plain": [
       "269"
      ]
     },
     "execution_count": 21,
     "metadata": {},
     "output_type": "execute_result"
    }
   ],
   "source": [
    "games['year_of_release'].isna().sum()"
   ]
  },
  {
   "cell_type": "code",
   "execution_count": 22,
   "metadata": {},
   "outputs": [
    {
     "name": "stdout",
     "output_type": "stream",
     "text": [
      "<class 'pandas.core.frame.DataFrame'>\n",
      "Int64Index: 16446 entries, 0 to 16714\n",
      "Data columns (total 12 columns):\n",
      " #   Column           Non-Null Count  Dtype  \n",
      "---  ------           --------------  -----  \n",
      " 0   name             16446 non-null  object \n",
      " 1   platform         16446 non-null  object \n",
      " 2   year_of_release  16446 non-null  float64\n",
      " 3   genre            16444 non-null  object \n",
      " 4   na_sales         16446 non-null  float64\n",
      " 5   eu_sales         16446 non-null  float64\n",
      " 6   jp_sales         16446 non-null  float64\n",
      " 7   other_sales      16446 non-null  float64\n",
      " 8   critic_score     7983 non-null   float64\n",
      " 9   user_score       9839 non-null   object \n",
      " 10  rating           9768 non-null   object \n",
      " 11  platform_group   16446 non-null  object \n",
      "dtypes: float64(6), object(6)\n",
      "memory usage: 1.6+ MB\n"
     ]
    }
   ],
   "source": [
    "#hay algunos valores ausentes\n",
    "games = games.dropna(subset = ['year_of_release'])\n",
    "games.info()"
   ]
  },
  {
   "cell_type": "markdown",
   "metadata": {},
   "source": [
    "Decidí eliminar los valores ausentes de esta columna, ya que eran muy poquitos y no parecía afectar mi análisis general. "
   ]
  },
  {
   "cell_type": "code",
   "execution_count": 23,
   "metadata": {},
   "outputs": [
    {
     "name": "stdout",
     "output_type": "stream",
     "text": [
      "<class 'pandas.core.frame.DataFrame'>\n",
      "Int64Index: 16446 entries, 0 to 16714\n",
      "Data columns (total 12 columns):\n",
      " #   Column           Non-Null Count  Dtype  \n",
      "---  ------           --------------  -----  \n",
      " 0   name             16446 non-null  object \n",
      " 1   platform         16446 non-null  object \n",
      " 2   year_of_release  16446 non-null  int64  \n",
      " 3   genre            16444 non-null  object \n",
      " 4   na_sales         16446 non-null  float64\n",
      " 5   eu_sales         16446 non-null  float64\n",
      " 6   jp_sales         16446 non-null  float64\n",
      " 7   other_sales      16446 non-null  float64\n",
      " 8   critic_score     7983 non-null   float64\n",
      " 9   user_score       9839 non-null   object \n",
      " 10  rating           9768 non-null   object \n",
      " 11  platform_group   16446 non-null  object \n",
      "dtypes: float64(5), int64(1), object(6)\n",
      "memory usage: 1.6+ MB\n"
     ]
    }
   ],
   "source": [
    "#convertir a tipo 'entero' en vez de 'float'\n",
    "games['year_of_release'] = games['year_of_release'].astype(int)\n",
    "games.info()"
   ]
  },
  {
   "cell_type": "code",
   "execution_count": 24,
   "metadata": {},
   "outputs": [
    {
     "data": {
      "text/plain": [
       "13957    2006\n",
       "11390    2012\n",
       "12076    2008\n",
       "2507     2007\n",
       "14656    2007\n",
       "Name: year_of_release, dtype: int64"
      ]
     },
     "execution_count": 24,
     "metadata": {},
     "output_type": "execute_result"
    }
   ],
   "source": [
    "games['year_of_release'].sample(5)"
   ]
  },
  {
   "cell_type": "markdown",
   "metadata": {},
   "source": [
    "#### **5. Trabajar con la columna 'genre'**"
   ]
  },
  {
   "cell_type": "code",
   "execution_count": 25,
   "metadata": {},
   "outputs": [
    {
     "data": {
      "text/html": [
       "<div>\n",
       "<style scoped>\n",
       "    .dataframe tbody tr th:only-of-type {\n",
       "        vertical-align: middle;\n",
       "    }\n",
       "\n",
       "    .dataframe tbody tr th {\n",
       "        vertical-align: top;\n",
       "    }\n",
       "\n",
       "    .dataframe thead th {\n",
       "        text-align: right;\n",
       "    }\n",
       "</style>\n",
       "<table border=\"1\" class=\"dataframe\">\n",
       "  <thead>\n",
       "    <tr style=\"text-align: right;\">\n",
       "      <th></th>\n",
       "      <th>name</th>\n",
       "      <th>platform</th>\n",
       "      <th>year_of_release</th>\n",
       "      <th>genre</th>\n",
       "      <th>na_sales</th>\n",
       "      <th>eu_sales</th>\n",
       "      <th>jp_sales</th>\n",
       "      <th>other_sales</th>\n",
       "      <th>critic_score</th>\n",
       "      <th>user_score</th>\n",
       "      <th>rating</th>\n",
       "      <th>platform_group</th>\n",
       "    </tr>\n",
       "  </thead>\n",
       "  <tbody>\n",
       "    <tr>\n",
       "      <th>659</th>\n",
       "      <td>not defined</td>\n",
       "      <td>GEN</td>\n",
       "      <td>1993</td>\n",
       "      <td>NaN</td>\n",
       "      <td>1.78</td>\n",
       "      <td>0.53</td>\n",
       "      <td>0.00</td>\n",
       "      <td>0.08</td>\n",
       "      <td>NaN</td>\n",
       "      <td>NaN</td>\n",
       "      <td>NaN</td>\n",
       "      <td>Sega</td>\n",
       "    </tr>\n",
       "    <tr>\n",
       "      <th>14244</th>\n",
       "      <td>not defined</td>\n",
       "      <td>GEN</td>\n",
       "      <td>1993</td>\n",
       "      <td>NaN</td>\n",
       "      <td>0.00</td>\n",
       "      <td>0.00</td>\n",
       "      <td>0.03</td>\n",
       "      <td>0.00</td>\n",
       "      <td>NaN</td>\n",
       "      <td>NaN</td>\n",
       "      <td>NaN</td>\n",
       "      <td>Sega</td>\n",
       "    </tr>\n",
       "  </tbody>\n",
       "</table>\n",
       "</div>"
      ],
      "text/plain": [
       "              name platform  year_of_release genre  na_sales  eu_sales  \\\n",
       "659    not defined      GEN             1993   NaN      1.78      0.53   \n",
       "14244  not defined      GEN             1993   NaN      0.00      0.00   \n",
       "\n",
       "       jp_sales  other_sales  critic_score user_score rating platform_group  \n",
       "659        0.00         0.08           NaN        NaN    NaN           Sega  \n",
       "14244      0.03         0.00           NaN        NaN    NaN           Sega  "
      ]
     },
     "execution_count": 25,
     "metadata": {},
     "output_type": "execute_result"
    }
   ],
   "source": [
    "#Buscar valores ausentes\n",
    "games[games['genre'].isna()]"
   ]
  },
  {
   "cell_type": "code",
   "execution_count": 26,
   "metadata": {},
   "outputs": [],
   "source": [
    "#Vemos que coincide con los valores ausentes de la columna 'name'"
   ]
  },
  {
   "cell_type": "code",
   "execution_count": 27,
   "metadata": {},
   "outputs": [],
   "source": [
    "#Voy a imputar 'not defined' también para estos valores ausentes\n",
    "games['genre'] = games['genre'].fillna('not defined')"
   ]
  },
  {
   "cell_type": "code",
   "execution_count": 28,
   "metadata": {},
   "outputs": [
    {
     "data": {
      "text/plain": [
       "Action          3307\n",
       "Sports          2306\n",
       "Misc            1721\n",
       "Role-Playing    1481\n",
       "Shooter         1296\n",
       "Adventure       1293\n",
       "Racing          1226\n",
       "Platform         878\n",
       "Simulation       857\n",
       "Fighting         837\n",
       "Strategy         673\n",
       "Puzzle           569\n",
       "not defined        2\n",
       "Name: genre, dtype: int64"
      ]
     },
     "execution_count": 28,
     "metadata": {},
     "output_type": "execute_result"
    }
   ],
   "source": [
    "#Contar cuántos hay por categoría\n",
    "games['genre'].value_counts()"
   ]
  },
  {
   "cell_type": "markdown",
   "metadata": {},
   "source": [
    "Decidí imputar con 'not defined' ya que su type es 'object'. Es lo más conveniente en estos casos. Además, coincide con los juegos que tampoco tienen nombre, pero cómo sí tienen ventas, no parece conveniente eliminar estas filas. "
   ]
  },
  {
   "cell_type": "markdown",
   "metadata": {},
   "source": [
    "#### **6. Trabajar con la columna 'user_score'**"
   ]
  },
  {
   "cell_type": "code",
   "execution_count": 29,
   "metadata": {},
   "outputs": [
    {
     "data": {
      "text/plain": [
       "array(['8', nan, '8.3', '8.5', '6.6', '8.4', '8.6', '7.7', '6.3', '7.4',\n",
       "       '8.2', '9', '7.9', '8.1', '8.7', '7.1', '3.4', '5.3', '4.8', '3.2',\n",
       "       '8.9', '6.4', '7.8', '7.5', '2.6', '7.2', '9.2', '7', '7.3', '4.3',\n",
       "       '7.6', '5.7', '5', '9.1', '6.5', 'tbd', '8.8', '6.9', '9.4', '6.8',\n",
       "       '6.1', '6.7', '5.4', '4', '4.9', '4.5', '9.3', '6.2', '4.2', '6',\n",
       "       '3.7', '4.1', '5.8', '5.6', '5.5', '4.4', '4.6', '5.9', '3.9',\n",
       "       '3.1', '2.9', '5.2', '3.3', '4.7', '5.1', '3.5', '2.5', '1.9', '3',\n",
       "       '2.7', '2.2', '2', '9.5', '2.1', '3.6', '2.8', '1.8', '3.8', '0',\n",
       "       '1.6', '9.6', '2.4', '1.7', '1.1', '0.3', '1.5', '0.7', '1.2',\n",
       "       '2.3', '0.5', '1.3', '0.2', '0.6', '1.4', '0.9', '1', '9.7'],\n",
       "      dtype=object)"
      ]
     },
     "execution_count": 29,
     "metadata": {},
     "output_type": "execute_result"
    }
   ],
   "source": [
    "games['user_score'].unique()"
   ]
  },
  {
   "cell_type": "markdown",
   "metadata": {},
   "source": [
    "Esta columna tiene varios valores ausentes, así como un 'tbd' (to be determined). Vamos a cambiar esto porque eso sí puede afectar nuestro análisis."
   ]
  },
  {
   "cell_type": "code",
   "execution_count": 30,
   "metadata": {},
   "outputs": [],
   "source": [
    "#Voy a reemblazar el 'tbd' por nan, como valor ausente\n",
    "games['user_score'] = games['user_score'].replace('tbd', np.nan)"
   ]
  },
  {
   "cell_type": "code",
   "execution_count": 31,
   "metadata": {},
   "outputs": [
    {
     "data": {
      "text/plain": [
       "array(['8', nan, '8.3', '8.5', '6.6', '8.4', '8.6', '7.7', '6.3', '7.4',\n",
       "       '8.2', '9', '7.9', '8.1', '8.7', '7.1', '3.4', '5.3', '4.8', '3.2',\n",
       "       '8.9', '6.4', '7.8', '7.5', '2.6', '7.2', '9.2', '7', '7.3', '4.3',\n",
       "       '7.6', '5.7', '5', '9.1', '6.5', '8.8', '6.9', '9.4', '6.8', '6.1',\n",
       "       '6.7', '5.4', '4', '4.9', '4.5', '9.3', '6.2', '4.2', '6', '3.7',\n",
       "       '4.1', '5.8', '5.6', '5.5', '4.4', '4.6', '5.9', '3.9', '3.1',\n",
       "       '2.9', '5.2', '3.3', '4.7', '5.1', '3.5', '2.5', '1.9', '3', '2.7',\n",
       "       '2.2', '2', '9.5', '2.1', '3.6', '2.8', '1.8', '3.8', '0', '1.6',\n",
       "       '9.6', '2.4', '1.7', '1.1', '0.3', '1.5', '0.7', '1.2', '2.3',\n",
       "       '0.5', '1.3', '0.2', '0.6', '1.4', '0.9', '1', '9.7'], dtype=object)"
      ]
     },
     "execution_count": 31,
     "metadata": {},
     "output_type": "execute_result"
    }
   ],
   "source": [
    "#comprobar\n",
    "games['user_score'].unique()"
   ]
  },
  {
   "cell_type": "code",
   "execution_count": 32,
   "metadata": {},
   "outputs": [
    {
     "name": "stdout",
     "output_type": "stream",
     "text": [
      "<class 'pandas.core.frame.DataFrame'>\n",
      "Int64Index: 16446 entries, 0 to 16714\n",
      "Data columns (total 12 columns):\n",
      " #   Column           Non-Null Count  Dtype  \n",
      "---  ------           --------------  -----  \n",
      " 0   name             16446 non-null  object \n",
      " 1   platform         16446 non-null  object \n",
      " 2   year_of_release  16446 non-null  int64  \n",
      " 3   genre            16446 non-null  object \n",
      " 4   na_sales         16446 non-null  float64\n",
      " 5   eu_sales         16446 non-null  float64\n",
      " 6   jp_sales         16446 non-null  float64\n",
      " 7   other_sales      16446 non-null  float64\n",
      " 8   critic_score     7983 non-null   float64\n",
      " 9   user_score       7463 non-null   float64\n",
      " 10  rating           9768 non-null   object \n",
      " 11  platform_group   16446 non-null  object \n",
      "dtypes: float64(6), int64(1), object(5)\n",
      "memory usage: 1.6+ MB\n"
     ]
    }
   ],
   "source": [
    "#Convertir el type a 'float' desde 'object'\n",
    "games['user_score'] = games['user_score'].astype(float)\n",
    "games.info()"
   ]
  },
  {
   "cell_type": "markdown",
   "metadata": {},
   "source": [
    "Más de la mitad de los valores de esta columna, están ausentes. Son demasiados para eliminarlos y tampoco podemos imputar un cero, ya que podría tener una connotación errónea dada la categoría de datos de esta columna. Por lo tanto, los dejaré así.\n",
    "Es probable que existan muchos valores ausentes, ya que no todos los usuarios de video juegos se toman el tiempo para calificarlos. "
   ]
  },
  {
   "cell_type": "code",
   "execution_count": 33,
   "metadata": {},
   "outputs": [
    {
     "data": {
      "text/plain": [
       "933       NaN\n",
       "11585    75.0\n",
       "4436      NaN\n",
       "14537    83.0\n",
       "13277     NaN\n",
       "11003     NaN\n",
       "558      59.0\n",
       "552      32.0\n",
       "8703      NaN\n",
       "6896     91.0\n",
       "Name: user_score, dtype: float64"
      ]
     },
     "execution_count": 33,
     "metadata": {},
     "output_type": "execute_result"
    }
   ],
   "source": [
    "#Estandarizar los valores a 100 para empatarlos con la columna de 'critic score'\n",
    "games['user_score'] = games['user_score']*10\n",
    "games['user_score'].sample(10)"
   ]
  },
  {
   "cell_type": "code",
   "execution_count": 34,
   "metadata": {},
   "outputs": [
    {
     "data": {
      "text/plain": [
       "count    7463.0\n",
       "mean       71.3\n",
       "std        15.0\n",
       "min         0.0\n",
       "25%        64.0\n",
       "50%        75.0\n",
       "75%        82.0\n",
       "max        97.0\n",
       "Name: user_score, dtype: float64"
      ]
     },
     "execution_count": 34,
     "metadata": {},
     "output_type": "execute_result"
    }
   ],
   "source": [
    "#evaluar la columna para ver sus principales estadísticos\n",
    "games['user_score'].describe().round(1)"
   ]
  },
  {
   "cell_type": "code",
   "execution_count": 35,
   "metadata": {},
   "outputs": [
    {
     "data": {
      "text/plain": [
       "count    7983.0\n",
       "mean       69.0\n",
       "std        13.9\n",
       "min        13.0\n",
       "25%        60.0\n",
       "50%        71.0\n",
       "75%        79.0\n",
       "max        98.0\n",
       "Name: critic_score, dtype: float64"
      ]
     },
     "execution_count": 35,
     "metadata": {},
     "output_type": "execute_result"
    }
   ],
   "source": [
    "#compararlo con la columna 'critic score' para ver qué tan parecidos son\n",
    "games['critic_score'].describe().round(1)"
   ]
  },
  {
   "cell_type": "markdown",
   "metadata": {},
   "source": [
    "Las columnas tienen aprox el mismo número de valores. La puntuación mínima entre los usuarios es cero, mientras que entre los críticos es 13, probablemente porque los usuarios son más rigidos a la hora de calificar algo, mientras que los críticos consideran más variables.\n",
    "La columna de 'critic score' tiene menor dispersión, es decir, los valores están más agrupados en torno a la media. "
   ]
  },
  {
   "cell_type": "markdown",
   "metadata": {},
   "source": [
    "#### **7. Trabajar con la columna 'rating'**"
   ]
  },
  {
   "cell_type": "code",
   "execution_count": 36,
   "metadata": {},
   "outputs": [],
   "source": [
    "#Crear una función para cambiar el nombre a algo más comprensible\n",
    "def fun_rating (x):\n",
    "    if x == \"E\" or x == \"K-A\":\n",
    "        return \"Everyone\"\n",
    "    elif x == \"T\":\n",
    "        return \"Teens 13+\"\n",
    "    elif x == \"M\":\n",
    "        return \"Mature 17+\"\n",
    "    elif x == \"E10+\":\n",
    "        return \"Everyone 10+\"\n",
    "    elif x == \"EC\":\n",
    "        return \"Early Childhood\"\n",
    "    elif x == \"RP\":\n",
    "        return \"Pending\"\n",
    "    elif x == \"AO\":\n",
    "        return \"Adults Only\"\n",
    "    else:\n",
    "        return \"Pending\""
   ]
  },
  {
   "cell_type": "code",
   "execution_count": 37,
   "metadata": {},
   "outputs": [
    {
     "data": {
      "text/html": [
       "<div>\n",
       "<style scoped>\n",
       "    .dataframe tbody tr th:only-of-type {\n",
       "        vertical-align: middle;\n",
       "    }\n",
       "\n",
       "    .dataframe tbody tr th {\n",
       "        vertical-align: top;\n",
       "    }\n",
       "\n",
       "    .dataframe thead th {\n",
       "        text-align: right;\n",
       "    }\n",
       "</style>\n",
       "<table border=\"1\" class=\"dataframe\">\n",
       "  <thead>\n",
       "    <tr style=\"text-align: right;\">\n",
       "      <th></th>\n",
       "      <th>name</th>\n",
       "      <th>platform</th>\n",
       "      <th>year_of_release</th>\n",
       "      <th>genre</th>\n",
       "      <th>na_sales</th>\n",
       "      <th>eu_sales</th>\n",
       "      <th>jp_sales</th>\n",
       "      <th>other_sales</th>\n",
       "      <th>critic_score</th>\n",
       "      <th>user_score</th>\n",
       "      <th>rating</th>\n",
       "      <th>platform_group</th>\n",
       "      <th>rating_description</th>\n",
       "    </tr>\n",
       "  </thead>\n",
       "  <tbody>\n",
       "    <tr>\n",
       "      <th>10045</th>\n",
       "      <td>tom clancys rainbow six rogue spear</td>\n",
       "      <td>GBA</td>\n",
       "      <td>2002</td>\n",
       "      <td>Shooter</td>\n",
       "      <td>0.08</td>\n",
       "      <td>0.03</td>\n",
       "      <td>0.0</td>\n",
       "      <td>0.00</td>\n",
       "      <td>76.0</td>\n",
       "      <td>NaN</td>\n",
       "      <td>T</td>\n",
       "      <td>Nintendo</td>\n",
       "      <td>Teens 13+</td>\n",
       "    </tr>\n",
       "    <tr>\n",
       "      <th>9524</th>\n",
       "      <td>alter echo</td>\n",
       "      <td>PS2</td>\n",
       "      <td>2003</td>\n",
       "      <td>Shooter</td>\n",
       "      <td>0.06</td>\n",
       "      <td>0.05</td>\n",
       "      <td>0.0</td>\n",
       "      <td>0.02</td>\n",
       "      <td>62.0</td>\n",
       "      <td>70.0</td>\n",
       "      <td>T</td>\n",
       "      <td>PlayStation</td>\n",
       "      <td>Teens 13+</td>\n",
       "    </tr>\n",
       "    <tr>\n",
       "      <th>4188</th>\n",
       "      <td>pirates of the caribbean dead mans chest</td>\n",
       "      <td>GBA</td>\n",
       "      <td>2006</td>\n",
       "      <td>Adventure</td>\n",
       "      <td>0.33</td>\n",
       "      <td>0.12</td>\n",
       "      <td>0.0</td>\n",
       "      <td>0.01</td>\n",
       "      <td>70.0</td>\n",
       "      <td>56.0</td>\n",
       "      <td>E10+</td>\n",
       "      <td>Nintendo</td>\n",
       "      <td>Everyone 10+</td>\n",
       "    </tr>\n",
       "    <tr>\n",
       "      <th>7295</th>\n",
       "      <td>dark summit</td>\n",
       "      <td>PS2</td>\n",
       "      <td>2001</td>\n",
       "      <td>Sports</td>\n",
       "      <td>0.11</td>\n",
       "      <td>0.08</td>\n",
       "      <td>0.0</td>\n",
       "      <td>0.03</td>\n",
       "      <td>67.0</td>\n",
       "      <td>NaN</td>\n",
       "      <td>T</td>\n",
       "      <td>PlayStation</td>\n",
       "      <td>Teens 13+</td>\n",
       "    </tr>\n",
       "    <tr>\n",
       "      <th>3169</th>\n",
       "      <td>lemony snickets a series of unfortunate events</td>\n",
       "      <td>PS2</td>\n",
       "      <td>2004</td>\n",
       "      <td>Platform</td>\n",
       "      <td>0.31</td>\n",
       "      <td>0.24</td>\n",
       "      <td>0.0</td>\n",
       "      <td>0.08</td>\n",
       "      <td>63.0</td>\n",
       "      <td>57.0</td>\n",
       "      <td>E</td>\n",
       "      <td>PlayStation</td>\n",
       "      <td>Everyone</td>\n",
       "    </tr>\n",
       "    <tr>\n",
       "      <th>15723</th>\n",
       "      <td>voodoo chronicles first sign</td>\n",
       "      <td>PC</td>\n",
       "      <td>2011</td>\n",
       "      <td>Adventure</td>\n",
       "      <td>0.02</td>\n",
       "      <td>0.00</td>\n",
       "      <td>0.0</td>\n",
       "      <td>0.00</td>\n",
       "      <td>NaN</td>\n",
       "      <td>NaN</td>\n",
       "      <td>NaN</td>\n",
       "      <td>PC</td>\n",
       "      <td>Pending</td>\n",
       "    </tr>\n",
       "    <tr>\n",
       "      <th>11836</th>\n",
       "      <td>bomberman max 2 red advance</td>\n",
       "      <td>GBA</td>\n",
       "      <td>2002</td>\n",
       "      <td>Puzzle</td>\n",
       "      <td>0.05</td>\n",
       "      <td>0.02</td>\n",
       "      <td>0.0</td>\n",
       "      <td>0.00</td>\n",
       "      <td>75.0</td>\n",
       "      <td>NaN</td>\n",
       "      <td>E</td>\n",
       "      <td>Nintendo</td>\n",
       "      <td>Everyone</td>\n",
       "    </tr>\n",
       "    <tr>\n",
       "      <th>15824</th>\n",
       "      <td>wild west shootout</td>\n",
       "      <td>Wii</td>\n",
       "      <td>2010</td>\n",
       "      <td>Shooter</td>\n",
       "      <td>0.01</td>\n",
       "      <td>0.01</td>\n",
       "      <td>0.0</td>\n",
       "      <td>0.00</td>\n",
       "      <td>NaN</td>\n",
       "      <td>NaN</td>\n",
       "      <td>T</td>\n",
       "      <td>Nintendo</td>\n",
       "      <td>Teens 13+</td>\n",
       "    </tr>\n",
       "    <tr>\n",
       "      <th>3249</th>\n",
       "      <td>xgra extreme gracing association</td>\n",
       "      <td>PS2</td>\n",
       "      <td>2004</td>\n",
       "      <td>Racing</td>\n",
       "      <td>0.30</td>\n",
       "      <td>0.24</td>\n",
       "      <td>0.0</td>\n",
       "      <td>0.08</td>\n",
       "      <td>68.0</td>\n",
       "      <td>86.0</td>\n",
       "      <td>T</td>\n",
       "      <td>PlayStation</td>\n",
       "      <td>Teens 13+</td>\n",
       "    </tr>\n",
       "    <tr>\n",
       "      <th>9483</th>\n",
       "      <td>transformers prime</td>\n",
       "      <td>WiiU</td>\n",
       "      <td>2012</td>\n",
       "      <td>Action</td>\n",
       "      <td>0.09</td>\n",
       "      <td>0.03</td>\n",
       "      <td>0.0</td>\n",
       "      <td>0.01</td>\n",
       "      <td>NaN</td>\n",
       "      <td>NaN</td>\n",
       "      <td>NaN</td>\n",
       "      <td>Nintendo</td>\n",
       "      <td>Pending</td>\n",
       "    </tr>\n",
       "  </tbody>\n",
       "</table>\n",
       "</div>"
      ],
      "text/plain": [
       "                                                 name platform  \\\n",
       "10045             tom clancys rainbow six rogue spear      GBA   \n",
       "9524                                       alter echo      PS2   \n",
       "4188         pirates of the caribbean dead mans chest      GBA   \n",
       "7295                                      dark summit      PS2   \n",
       "3169   lemony snickets a series of unfortunate events      PS2   \n",
       "15723                    voodoo chronicles first sign       PC   \n",
       "11836                     bomberman max 2 red advance      GBA   \n",
       "15824                              wild west shootout      Wii   \n",
       "3249                 xgra extreme gracing association      PS2   \n",
       "9483                               transformers prime     WiiU   \n",
       "\n",
       "       year_of_release      genre  na_sales  eu_sales  jp_sales  other_sales  \\\n",
       "10045             2002    Shooter      0.08      0.03       0.0         0.00   \n",
       "9524              2003    Shooter      0.06      0.05       0.0         0.02   \n",
       "4188              2006  Adventure      0.33      0.12       0.0         0.01   \n",
       "7295              2001     Sports      0.11      0.08       0.0         0.03   \n",
       "3169              2004   Platform      0.31      0.24       0.0         0.08   \n",
       "15723             2011  Adventure      0.02      0.00       0.0         0.00   \n",
       "11836             2002     Puzzle      0.05      0.02       0.0         0.00   \n",
       "15824             2010    Shooter      0.01      0.01       0.0         0.00   \n",
       "3249              2004     Racing      0.30      0.24       0.0         0.08   \n",
       "9483              2012     Action      0.09      0.03       0.0         0.01   \n",
       "\n",
       "       critic_score  user_score rating platform_group rating_description  \n",
       "10045          76.0         NaN      T       Nintendo          Teens 13+  \n",
       "9524           62.0        70.0      T    PlayStation          Teens 13+  \n",
       "4188           70.0        56.0   E10+       Nintendo       Everyone 10+  \n",
       "7295           67.0         NaN      T    PlayStation          Teens 13+  \n",
       "3169           63.0        57.0      E    PlayStation           Everyone  \n",
       "15723           NaN         NaN    NaN             PC            Pending  \n",
       "11836          75.0         NaN      E       Nintendo           Everyone  \n",
       "15824           NaN         NaN      T       Nintendo          Teens 13+  \n",
       "3249           68.0        86.0      T    PlayStation          Teens 13+  \n",
       "9483            NaN         NaN    NaN       Nintendo            Pending  "
      ]
     },
     "execution_count": 37,
     "metadata": {},
     "output_type": "execute_result"
    }
   ],
   "source": [
    "games['rating_description'] = games['rating'].apply(fun_rating)\n",
    "games.sample(10)"
   ]
  },
  {
   "cell_type": "code",
   "execution_count": 38,
   "metadata": {},
   "outputs": [
    {
     "data": {
      "text/plain": [
       "Pending            6679\n",
       "Everyone           3924\n",
       "Teens 13+          2905\n",
       "Mature 17+         1536\n",
       "Everyone 10+       1393\n",
       "Early Childhood       8\n",
       "Adults Only           1\n",
       "Name: rating_description, dtype: int64"
      ]
     },
     "execution_count": 38,
     "metadata": {},
     "output_type": "execute_result"
    }
   ],
   "source": [
    "#contar por nueva categoría de ratings\n",
    "games['rating_description'].value_counts()"
   ]
  },
  {
   "cell_type": "markdown",
   "metadata": {},
   "source": [
    "Hay muchos videojuegos que no están clasificados, esto podría ser porque tal vez todavía no han sido clasificados, pero también puede ser un error por datos faltantes o mal registrados."
   ]
  },
  {
   "cell_type": "code",
   "execution_count": 39,
   "metadata": {},
   "outputs": [
    {
     "data": {
      "text/plain": [
       "6678"
      ]
     },
     "execution_count": 39,
     "metadata": {},
     "output_type": "execute_result"
    }
   ],
   "source": [
    "# Valores realmente ausentes\n",
    "games['rating'].isna().sum()             "
   ]
  },
  {
   "cell_type": "markdown",
   "metadata": {},
   "source": [
    "Bien, ahora veo que la gran mayoría eran valores ausentes. De cualquier forma, hace sentido que se queden como 'pending'"
   ]
  },
  {
   "cell_type": "code",
   "execution_count": 40,
   "metadata": {},
   "outputs": [
    {
     "name": "stdout",
     "output_type": "stream",
     "text": [
      "<class 'pandas.core.frame.DataFrame'>\n",
      "Int64Index: 16446 entries, 0 to 16714\n",
      "Data columns (total 13 columns):\n",
      " #   Column              Non-Null Count  Dtype  \n",
      "---  ------              --------------  -----  \n",
      " 0   name                16446 non-null  object \n",
      " 1   platform            16446 non-null  object \n",
      " 2   year_of_release     16446 non-null  int64  \n",
      " 3   genre               16446 non-null  object \n",
      " 4   na_sales            16446 non-null  float64\n",
      " 5   eu_sales            16446 non-null  float64\n",
      " 6   jp_sales            16446 non-null  float64\n",
      " 7   other_sales         16446 non-null  float64\n",
      " 8   critic_score        7983 non-null   float64\n",
      " 9   user_score          7463 non-null   float64\n",
      " 10  rating              16446 non-null  object \n",
      " 11  platform_group      16446 non-null  object \n",
      " 12  rating_description  16446 non-null  object \n",
      "dtypes: float64(6), int64(1), object(6)\n",
      "memory usage: 1.8+ MB\n"
     ]
    }
   ],
   "source": [
    "games['rating'] = games['rating'].fillna('Pending')\n",
    "games.info()"
   ]
  },
  {
   "cell_type": "markdown",
   "metadata": {},
   "source": [
    "#### **8. Verificar valores ausentes en las columnas de 'sales'**"
   ]
  },
  {
   "cell_type": "code",
   "execution_count": 41,
   "metadata": {},
   "outputs": [
    {
     "name": "stdout",
     "output_type": "stream",
     "text": [
      "na_sales    0\n",
      "eu_sales    0\n",
      "jp_sales    0\n",
      "dtype: int64\n"
     ]
    }
   ],
   "source": [
    "print(games[['na_sales', 'eu_sales', 'jp_sales']].isna().sum())"
   ]
  },
  {
   "cell_type": "markdown",
   "metadata": {},
   "source": [
    "Ya sabíamos que no había valores ausentes, pero consideré importante verificarlo por columna."
   ]
  },
  {
   "cell_type": "markdown",
   "metadata": {},
   "source": [
    "#### **9. Generar una nueva columna llamada 'ventas totales'**"
   ]
  },
  {
   "cell_type": "code",
   "execution_count": 42,
   "metadata": {},
   "outputs": [],
   "source": [
    "#sumar las ventas de las 4 zonas y agruparlas en una nueva variable\n",
    "games['total_sales'] = games['na_sales'] + games['eu_sales'] + games['jp_sales'] + games['other_sales']"
   ]
  },
  {
   "cell_type": "code",
   "execution_count": 43,
   "metadata": {},
   "outputs": [
    {
     "data": {
      "text/html": [
       "<div>\n",
       "<style scoped>\n",
       "    .dataframe tbody tr th:only-of-type {\n",
       "        vertical-align: middle;\n",
       "    }\n",
       "\n",
       "    .dataframe tbody tr th {\n",
       "        vertical-align: top;\n",
       "    }\n",
       "\n",
       "    .dataframe thead th {\n",
       "        text-align: right;\n",
       "    }\n",
       "</style>\n",
       "<table border=\"1\" class=\"dataframe\">\n",
       "  <thead>\n",
       "    <tr style=\"text-align: right;\">\n",
       "      <th></th>\n",
       "      <th>name</th>\n",
       "      <th>platform</th>\n",
       "      <th>year_of_release</th>\n",
       "      <th>genre</th>\n",
       "      <th>na_sales</th>\n",
       "      <th>eu_sales</th>\n",
       "      <th>jp_sales</th>\n",
       "      <th>other_sales</th>\n",
       "      <th>critic_score</th>\n",
       "      <th>user_score</th>\n",
       "      <th>rating</th>\n",
       "      <th>platform_group</th>\n",
       "      <th>rating_description</th>\n",
       "      <th>total_sales</th>\n",
       "    </tr>\n",
       "  </thead>\n",
       "  <tbody>\n",
       "    <tr>\n",
       "      <th>0</th>\n",
       "      <td>wii sports</td>\n",
       "      <td>Wii</td>\n",
       "      <td>2006</td>\n",
       "      <td>Sports</td>\n",
       "      <td>41.36</td>\n",
       "      <td>28.96</td>\n",
       "      <td>3.77</td>\n",
       "      <td>8.45</td>\n",
       "      <td>76.0</td>\n",
       "      <td>80.0</td>\n",
       "      <td>E</td>\n",
       "      <td>Nintendo</td>\n",
       "      <td>Everyone</td>\n",
       "      <td>82.54</td>\n",
       "    </tr>\n",
       "    <tr>\n",
       "      <th>1</th>\n",
       "      <td>super mario bros</td>\n",
       "      <td>NES</td>\n",
       "      <td>1985</td>\n",
       "      <td>Platform</td>\n",
       "      <td>29.08</td>\n",
       "      <td>3.58</td>\n",
       "      <td>6.81</td>\n",
       "      <td>0.77</td>\n",
       "      <td>NaN</td>\n",
       "      <td>NaN</td>\n",
       "      <td>Pending</td>\n",
       "      <td>Nintendo</td>\n",
       "      <td>Pending</td>\n",
       "      <td>40.24</td>\n",
       "    </tr>\n",
       "    <tr>\n",
       "      <th>2</th>\n",
       "      <td>mario kart wii</td>\n",
       "      <td>Wii</td>\n",
       "      <td>2008</td>\n",
       "      <td>Racing</td>\n",
       "      <td>15.68</td>\n",
       "      <td>12.76</td>\n",
       "      <td>3.79</td>\n",
       "      <td>3.29</td>\n",
       "      <td>82.0</td>\n",
       "      <td>83.0</td>\n",
       "      <td>E</td>\n",
       "      <td>Nintendo</td>\n",
       "      <td>Everyone</td>\n",
       "      <td>35.52</td>\n",
       "    </tr>\n",
       "    <tr>\n",
       "      <th>3</th>\n",
       "      <td>wii sports resort</td>\n",
       "      <td>Wii</td>\n",
       "      <td>2009</td>\n",
       "      <td>Sports</td>\n",
       "      <td>15.61</td>\n",
       "      <td>10.93</td>\n",
       "      <td>3.28</td>\n",
       "      <td>2.95</td>\n",
       "      <td>80.0</td>\n",
       "      <td>80.0</td>\n",
       "      <td>E</td>\n",
       "      <td>Nintendo</td>\n",
       "      <td>Everyone</td>\n",
       "      <td>32.77</td>\n",
       "    </tr>\n",
       "    <tr>\n",
       "      <th>4</th>\n",
       "      <td>pokemon redpokemon blue</td>\n",
       "      <td>GB</td>\n",
       "      <td>1996</td>\n",
       "      <td>Role-Playing</td>\n",
       "      <td>11.27</td>\n",
       "      <td>8.89</td>\n",
       "      <td>10.22</td>\n",
       "      <td>1.00</td>\n",
       "      <td>NaN</td>\n",
       "      <td>NaN</td>\n",
       "      <td>Pending</td>\n",
       "      <td>Nintendo</td>\n",
       "      <td>Pending</td>\n",
       "      <td>31.38</td>\n",
       "    </tr>\n",
       "    <tr>\n",
       "      <th>5</th>\n",
       "      <td>tetris</td>\n",
       "      <td>GB</td>\n",
       "      <td>1989</td>\n",
       "      <td>Puzzle</td>\n",
       "      <td>23.20</td>\n",
       "      <td>2.26</td>\n",
       "      <td>4.22</td>\n",
       "      <td>0.58</td>\n",
       "      <td>NaN</td>\n",
       "      <td>NaN</td>\n",
       "      <td>Pending</td>\n",
       "      <td>Nintendo</td>\n",
       "      <td>Pending</td>\n",
       "      <td>30.26</td>\n",
       "    </tr>\n",
       "    <tr>\n",
       "      <th>6</th>\n",
       "      <td>new super mario bros</td>\n",
       "      <td>DS</td>\n",
       "      <td>2006</td>\n",
       "      <td>Platform</td>\n",
       "      <td>11.28</td>\n",
       "      <td>9.14</td>\n",
       "      <td>6.50</td>\n",
       "      <td>2.88</td>\n",
       "      <td>89.0</td>\n",
       "      <td>85.0</td>\n",
       "      <td>E</td>\n",
       "      <td>Nintendo</td>\n",
       "      <td>Everyone</td>\n",
       "      <td>29.80</td>\n",
       "    </tr>\n",
       "    <tr>\n",
       "      <th>7</th>\n",
       "      <td>wii play</td>\n",
       "      <td>Wii</td>\n",
       "      <td>2006</td>\n",
       "      <td>Misc</td>\n",
       "      <td>13.96</td>\n",
       "      <td>9.18</td>\n",
       "      <td>2.93</td>\n",
       "      <td>2.84</td>\n",
       "      <td>58.0</td>\n",
       "      <td>66.0</td>\n",
       "      <td>E</td>\n",
       "      <td>Nintendo</td>\n",
       "      <td>Everyone</td>\n",
       "      <td>28.91</td>\n",
       "    </tr>\n",
       "    <tr>\n",
       "      <th>8</th>\n",
       "      <td>new super mario bros wii</td>\n",
       "      <td>Wii</td>\n",
       "      <td>2009</td>\n",
       "      <td>Platform</td>\n",
       "      <td>14.44</td>\n",
       "      <td>6.94</td>\n",
       "      <td>4.70</td>\n",
       "      <td>2.24</td>\n",
       "      <td>87.0</td>\n",
       "      <td>84.0</td>\n",
       "      <td>E</td>\n",
       "      <td>Nintendo</td>\n",
       "      <td>Everyone</td>\n",
       "      <td>28.32</td>\n",
       "    </tr>\n",
       "    <tr>\n",
       "      <th>9</th>\n",
       "      <td>duck hunt</td>\n",
       "      <td>NES</td>\n",
       "      <td>1984</td>\n",
       "      <td>Shooter</td>\n",
       "      <td>26.93</td>\n",
       "      <td>0.63</td>\n",
       "      <td>0.28</td>\n",
       "      <td>0.47</td>\n",
       "      <td>NaN</td>\n",
       "      <td>NaN</td>\n",
       "      <td>Pending</td>\n",
       "      <td>Nintendo</td>\n",
       "      <td>Pending</td>\n",
       "      <td>28.31</td>\n",
       "    </tr>\n",
       "    <tr>\n",
       "      <th>10</th>\n",
       "      <td>nintendogs</td>\n",
       "      <td>DS</td>\n",
       "      <td>2005</td>\n",
       "      <td>Simulation</td>\n",
       "      <td>9.05</td>\n",
       "      <td>10.95</td>\n",
       "      <td>1.93</td>\n",
       "      <td>2.74</td>\n",
       "      <td>NaN</td>\n",
       "      <td>NaN</td>\n",
       "      <td>Pending</td>\n",
       "      <td>Nintendo</td>\n",
       "      <td>Pending</td>\n",
       "      <td>24.67</td>\n",
       "    </tr>\n",
       "    <tr>\n",
       "      <th>11</th>\n",
       "      <td>mario kart ds</td>\n",
       "      <td>DS</td>\n",
       "      <td>2005</td>\n",
       "      <td>Racing</td>\n",
       "      <td>9.71</td>\n",
       "      <td>7.47</td>\n",
       "      <td>4.13</td>\n",
       "      <td>1.90</td>\n",
       "      <td>91.0</td>\n",
       "      <td>86.0</td>\n",
       "      <td>E</td>\n",
       "      <td>Nintendo</td>\n",
       "      <td>Everyone</td>\n",
       "      <td>23.21</td>\n",
       "    </tr>\n",
       "    <tr>\n",
       "      <th>12</th>\n",
       "      <td>pokemon goldpokemon silver</td>\n",
       "      <td>GB</td>\n",
       "      <td>1999</td>\n",
       "      <td>Role-Playing</td>\n",
       "      <td>9.00</td>\n",
       "      <td>6.18</td>\n",
       "      <td>7.20</td>\n",
       "      <td>0.71</td>\n",
       "      <td>NaN</td>\n",
       "      <td>NaN</td>\n",
       "      <td>Pending</td>\n",
       "      <td>Nintendo</td>\n",
       "      <td>Pending</td>\n",
       "      <td>23.09</td>\n",
       "    </tr>\n",
       "    <tr>\n",
       "      <th>13</th>\n",
       "      <td>wii fit</td>\n",
       "      <td>Wii</td>\n",
       "      <td>2007</td>\n",
       "      <td>Sports</td>\n",
       "      <td>8.92</td>\n",
       "      <td>8.03</td>\n",
       "      <td>3.60</td>\n",
       "      <td>2.15</td>\n",
       "      <td>80.0</td>\n",
       "      <td>77.0</td>\n",
       "      <td>E</td>\n",
       "      <td>Nintendo</td>\n",
       "      <td>Everyone</td>\n",
       "      <td>22.70</td>\n",
       "    </tr>\n",
       "    <tr>\n",
       "      <th>14</th>\n",
       "      <td>kinect adventures</td>\n",
       "      <td>X360</td>\n",
       "      <td>2010</td>\n",
       "      <td>Misc</td>\n",
       "      <td>15.00</td>\n",
       "      <td>4.89</td>\n",
       "      <td>0.24</td>\n",
       "      <td>1.69</td>\n",
       "      <td>61.0</td>\n",
       "      <td>63.0</td>\n",
       "      <td>E</td>\n",
       "      <td>XBox</td>\n",
       "      <td>Everyone</td>\n",
       "      <td>21.82</td>\n",
       "    </tr>\n",
       "    <tr>\n",
       "      <th>15</th>\n",
       "      <td>wii fit plus</td>\n",
       "      <td>Wii</td>\n",
       "      <td>2009</td>\n",
       "      <td>Sports</td>\n",
       "      <td>9.01</td>\n",
       "      <td>8.49</td>\n",
       "      <td>2.53</td>\n",
       "      <td>1.77</td>\n",
       "      <td>80.0</td>\n",
       "      <td>74.0</td>\n",
       "      <td>E</td>\n",
       "      <td>Nintendo</td>\n",
       "      <td>Everyone</td>\n",
       "      <td>21.80</td>\n",
       "    </tr>\n",
       "    <tr>\n",
       "      <th>16</th>\n",
       "      <td>grand theft auto v</td>\n",
       "      <td>PS3</td>\n",
       "      <td>2013</td>\n",
       "      <td>Action</td>\n",
       "      <td>7.02</td>\n",
       "      <td>9.09</td>\n",
       "      <td>0.98</td>\n",
       "      <td>3.96</td>\n",
       "      <td>97.0</td>\n",
       "      <td>82.0</td>\n",
       "      <td>M</td>\n",
       "      <td>PlayStation</td>\n",
       "      <td>Mature 17+</td>\n",
       "      <td>21.05</td>\n",
       "    </tr>\n",
       "    <tr>\n",
       "      <th>17</th>\n",
       "      <td>grand theft auto san andreas</td>\n",
       "      <td>PS2</td>\n",
       "      <td>2004</td>\n",
       "      <td>Action</td>\n",
       "      <td>9.43</td>\n",
       "      <td>0.40</td>\n",
       "      <td>0.41</td>\n",
       "      <td>10.57</td>\n",
       "      <td>95.0</td>\n",
       "      <td>90.0</td>\n",
       "      <td>M</td>\n",
       "      <td>PlayStation</td>\n",
       "      <td>Mature 17+</td>\n",
       "      <td>20.81</td>\n",
       "    </tr>\n",
       "    <tr>\n",
       "      <th>18</th>\n",
       "      <td>super mario world</td>\n",
       "      <td>SNES</td>\n",
       "      <td>1990</td>\n",
       "      <td>Platform</td>\n",
       "      <td>12.78</td>\n",
       "      <td>3.75</td>\n",
       "      <td>3.54</td>\n",
       "      <td>0.55</td>\n",
       "      <td>NaN</td>\n",
       "      <td>NaN</td>\n",
       "      <td>Pending</td>\n",
       "      <td>Nintendo</td>\n",
       "      <td>Pending</td>\n",
       "      <td>20.62</td>\n",
       "    </tr>\n",
       "    <tr>\n",
       "      <th>19</th>\n",
       "      <td>brain age train your brain in minutes a day</td>\n",
       "      <td>DS</td>\n",
       "      <td>2005</td>\n",
       "      <td>Misc</td>\n",
       "      <td>4.74</td>\n",
       "      <td>9.20</td>\n",
       "      <td>4.16</td>\n",
       "      <td>2.04</td>\n",
       "      <td>77.0</td>\n",
       "      <td>79.0</td>\n",
       "      <td>E</td>\n",
       "      <td>Nintendo</td>\n",
       "      <td>Everyone</td>\n",
       "      <td>20.14</td>\n",
       "    </tr>\n",
       "  </tbody>\n",
       "</table>\n",
       "</div>"
      ],
      "text/plain": [
       "                                           name platform  year_of_release  \\\n",
       "0                                    wii sports      Wii             2006   \n",
       "1                              super mario bros      NES             1985   \n",
       "2                                mario kart wii      Wii             2008   \n",
       "3                             wii sports resort      Wii             2009   \n",
       "4                       pokemon redpokemon blue       GB             1996   \n",
       "5                                        tetris       GB             1989   \n",
       "6                          new super mario bros       DS             2006   \n",
       "7                                      wii play      Wii             2006   \n",
       "8                      new super mario bros wii      Wii             2009   \n",
       "9                                     duck hunt      NES             1984   \n",
       "10                                   nintendogs       DS             2005   \n",
       "11                                mario kart ds       DS             2005   \n",
       "12                   pokemon goldpokemon silver       GB             1999   \n",
       "13                                      wii fit      Wii             2007   \n",
       "14                            kinect adventures     X360             2010   \n",
       "15                                 wii fit plus      Wii             2009   \n",
       "16                           grand theft auto v      PS3             2013   \n",
       "17                 grand theft auto san andreas      PS2             2004   \n",
       "18                            super mario world     SNES             1990   \n",
       "19  brain age train your brain in minutes a day       DS             2005   \n",
       "\n",
       "           genre  na_sales  eu_sales  jp_sales  other_sales  critic_score  \\\n",
       "0         Sports     41.36     28.96      3.77         8.45          76.0   \n",
       "1       Platform     29.08      3.58      6.81         0.77           NaN   \n",
       "2         Racing     15.68     12.76      3.79         3.29          82.0   \n",
       "3         Sports     15.61     10.93      3.28         2.95          80.0   \n",
       "4   Role-Playing     11.27      8.89     10.22         1.00           NaN   \n",
       "5         Puzzle     23.20      2.26      4.22         0.58           NaN   \n",
       "6       Platform     11.28      9.14      6.50         2.88          89.0   \n",
       "7           Misc     13.96      9.18      2.93         2.84          58.0   \n",
       "8       Platform     14.44      6.94      4.70         2.24          87.0   \n",
       "9        Shooter     26.93      0.63      0.28         0.47           NaN   \n",
       "10    Simulation      9.05     10.95      1.93         2.74           NaN   \n",
       "11        Racing      9.71      7.47      4.13         1.90          91.0   \n",
       "12  Role-Playing      9.00      6.18      7.20         0.71           NaN   \n",
       "13        Sports      8.92      8.03      3.60         2.15          80.0   \n",
       "14          Misc     15.00      4.89      0.24         1.69          61.0   \n",
       "15        Sports      9.01      8.49      2.53         1.77          80.0   \n",
       "16        Action      7.02      9.09      0.98         3.96          97.0   \n",
       "17        Action      9.43      0.40      0.41        10.57          95.0   \n",
       "18      Platform     12.78      3.75      3.54         0.55           NaN   \n",
       "19          Misc      4.74      9.20      4.16         2.04          77.0   \n",
       "\n",
       "    user_score   rating platform_group rating_description  total_sales  \n",
       "0         80.0        E       Nintendo           Everyone        82.54  \n",
       "1          NaN  Pending       Nintendo            Pending        40.24  \n",
       "2         83.0        E       Nintendo           Everyone        35.52  \n",
       "3         80.0        E       Nintendo           Everyone        32.77  \n",
       "4          NaN  Pending       Nintendo            Pending        31.38  \n",
       "5          NaN  Pending       Nintendo            Pending        30.26  \n",
       "6         85.0        E       Nintendo           Everyone        29.80  \n",
       "7         66.0        E       Nintendo           Everyone        28.91  \n",
       "8         84.0        E       Nintendo           Everyone        28.32  \n",
       "9          NaN  Pending       Nintendo            Pending        28.31  \n",
       "10         NaN  Pending       Nintendo            Pending        24.67  \n",
       "11        86.0        E       Nintendo           Everyone        23.21  \n",
       "12         NaN  Pending       Nintendo            Pending        23.09  \n",
       "13        77.0        E       Nintendo           Everyone        22.70  \n",
       "14        63.0        E           XBox           Everyone        21.82  \n",
       "15        74.0        E       Nintendo           Everyone        21.80  \n",
       "16        82.0        M    PlayStation         Mature 17+        21.05  \n",
       "17        90.0        M    PlayStation         Mature 17+        20.81  \n",
       "18         NaN  Pending       Nintendo            Pending        20.62  \n",
       "19        79.0        E       Nintendo           Everyone        20.14  "
      ]
     },
     "execution_count": 43,
     "metadata": {},
     "output_type": "execute_result"
    }
   ],
   "source": [
    "#imprimir una muestra\n",
    "games.head(20)"
   ]
  },
  {
   "cell_type": "code",
   "execution_count": 44,
   "metadata": {},
   "outputs": [],
   "source": [
    "#reordenar las columnas para que el DF tenga más sentido:\n",
    "new_column_order = [\n",
    "    'name', 'platform', 'platform_group', 'year_of_release', 'genre',\n",
    "    'na_sales', 'eu_sales', 'jp_sales', 'other_sales', 'total_sales',\n",
    "    'critic_score', 'user_score', 'rating', 'rating_description'\n",
    "]\n",
    "\n",
    "#reasignar\n",
    "games = games[new_column_order]"
   ]
  },
  {
   "cell_type": "code",
   "execution_count": 45,
   "metadata": {},
   "outputs": [
    {
     "data": {
      "text/html": [
       "<div>\n",
       "<style scoped>\n",
       "    .dataframe tbody tr th:only-of-type {\n",
       "        vertical-align: middle;\n",
       "    }\n",
       "\n",
       "    .dataframe tbody tr th {\n",
       "        vertical-align: top;\n",
       "    }\n",
       "\n",
       "    .dataframe thead th {\n",
       "        text-align: right;\n",
       "    }\n",
       "</style>\n",
       "<table border=\"1\" class=\"dataframe\">\n",
       "  <thead>\n",
       "    <tr style=\"text-align: right;\">\n",
       "      <th></th>\n",
       "      <th>name</th>\n",
       "      <th>platform</th>\n",
       "      <th>platform_group</th>\n",
       "      <th>year_of_release</th>\n",
       "      <th>genre</th>\n",
       "      <th>na_sales</th>\n",
       "      <th>eu_sales</th>\n",
       "      <th>jp_sales</th>\n",
       "      <th>other_sales</th>\n",
       "      <th>total_sales</th>\n",
       "      <th>critic_score</th>\n",
       "      <th>user_score</th>\n",
       "      <th>rating</th>\n",
       "      <th>rating_description</th>\n",
       "    </tr>\n",
       "  </thead>\n",
       "  <tbody>\n",
       "    <tr>\n",
       "      <th>0</th>\n",
       "      <td>wii sports</td>\n",
       "      <td>Wii</td>\n",
       "      <td>Nintendo</td>\n",
       "      <td>2006</td>\n",
       "      <td>Sports</td>\n",
       "      <td>41.36</td>\n",
       "      <td>28.96</td>\n",
       "      <td>3.77</td>\n",
       "      <td>8.45</td>\n",
       "      <td>82.54</td>\n",
       "      <td>76.0</td>\n",
       "      <td>80.0</td>\n",
       "      <td>E</td>\n",
       "      <td>Everyone</td>\n",
       "    </tr>\n",
       "    <tr>\n",
       "      <th>1</th>\n",
       "      <td>super mario bros</td>\n",
       "      <td>NES</td>\n",
       "      <td>Nintendo</td>\n",
       "      <td>1985</td>\n",
       "      <td>Platform</td>\n",
       "      <td>29.08</td>\n",
       "      <td>3.58</td>\n",
       "      <td>6.81</td>\n",
       "      <td>0.77</td>\n",
       "      <td>40.24</td>\n",
       "      <td>NaN</td>\n",
       "      <td>NaN</td>\n",
       "      <td>Pending</td>\n",
       "      <td>Pending</td>\n",
       "    </tr>\n",
       "    <tr>\n",
       "      <th>2</th>\n",
       "      <td>mario kart wii</td>\n",
       "      <td>Wii</td>\n",
       "      <td>Nintendo</td>\n",
       "      <td>2008</td>\n",
       "      <td>Racing</td>\n",
       "      <td>15.68</td>\n",
       "      <td>12.76</td>\n",
       "      <td>3.79</td>\n",
       "      <td>3.29</td>\n",
       "      <td>35.52</td>\n",
       "      <td>82.0</td>\n",
       "      <td>83.0</td>\n",
       "      <td>E</td>\n",
       "      <td>Everyone</td>\n",
       "    </tr>\n",
       "    <tr>\n",
       "      <th>3</th>\n",
       "      <td>wii sports resort</td>\n",
       "      <td>Wii</td>\n",
       "      <td>Nintendo</td>\n",
       "      <td>2009</td>\n",
       "      <td>Sports</td>\n",
       "      <td>15.61</td>\n",
       "      <td>10.93</td>\n",
       "      <td>3.28</td>\n",
       "      <td>2.95</td>\n",
       "      <td>32.77</td>\n",
       "      <td>80.0</td>\n",
       "      <td>80.0</td>\n",
       "      <td>E</td>\n",
       "      <td>Everyone</td>\n",
       "    </tr>\n",
       "    <tr>\n",
       "      <th>4</th>\n",
       "      <td>pokemon redpokemon blue</td>\n",
       "      <td>GB</td>\n",
       "      <td>Nintendo</td>\n",
       "      <td>1996</td>\n",
       "      <td>Role-Playing</td>\n",
       "      <td>11.27</td>\n",
       "      <td>8.89</td>\n",
       "      <td>10.22</td>\n",
       "      <td>1.00</td>\n",
       "      <td>31.38</td>\n",
       "      <td>NaN</td>\n",
       "      <td>NaN</td>\n",
       "      <td>Pending</td>\n",
       "      <td>Pending</td>\n",
       "    </tr>\n",
       "  </tbody>\n",
       "</table>\n",
       "</div>"
      ],
      "text/plain": [
       "                      name platform platform_group  year_of_release  \\\n",
       "0               wii sports      Wii       Nintendo             2006   \n",
       "1         super mario bros      NES       Nintendo             1985   \n",
       "2           mario kart wii      Wii       Nintendo             2008   \n",
       "3        wii sports resort      Wii       Nintendo             2009   \n",
       "4  pokemon redpokemon blue       GB       Nintendo             1996   \n",
       "\n",
       "          genre  na_sales  eu_sales  jp_sales  other_sales  total_sales  \\\n",
       "0        Sports     41.36     28.96      3.77         8.45        82.54   \n",
       "1      Platform     29.08      3.58      6.81         0.77        40.24   \n",
       "2        Racing     15.68     12.76      3.79         3.29        35.52   \n",
       "3        Sports     15.61     10.93      3.28         2.95        32.77   \n",
       "4  Role-Playing     11.27      8.89     10.22         1.00        31.38   \n",
       "\n",
       "   critic_score  user_score   rating rating_description  \n",
       "0          76.0        80.0        E           Everyone  \n",
       "1           NaN         NaN  Pending            Pending  \n",
       "2          82.0        83.0        E           Everyone  \n",
       "3          80.0        80.0        E           Everyone  \n",
       "4           NaN         NaN  Pending            Pending  "
      ]
     },
     "execution_count": 45,
     "metadata": {},
     "output_type": "execute_result"
    }
   ],
   "source": [
    "#mostrar un ejemplo\n",
    "games.head()"
   ]
  },
  {
   "cell_type": "markdown",
   "metadata": {},
   "source": [
    "#### **10. Revisar duplicados**"
   ]
  },
  {
   "cell_type": "code",
   "execution_count": 46,
   "metadata": {},
   "outputs": [
    {
     "data": {
      "text/plain": [
       "0"
      ]
     },
     "execution_count": 46,
     "metadata": {},
     "output_type": "execute_result"
    }
   ],
   "source": [
    "games.duplicated().sum()"
   ]
  },
  {
   "cell_type": "markdown",
   "metadata": {},
   "source": [
    "Parece que no hay duplicados en nuestro DF, pero ahora revisaré por columnas"
   ]
  },
  {
   "cell_type": "code",
   "execution_count": 47,
   "metadata": {},
   "outputs": [
    {
     "data": {
      "text/plain": [
       "5"
      ]
     },
     "execution_count": 47,
     "metadata": {},
     "output_type": "execute_result"
    }
   ],
   "source": [
    "#Revisar si la columna 'name' con 'platform' se duplican algunos juegos\n",
    "games[['name', 'platform']].duplicated().sum()"
   ]
  },
  {
   "cell_type": "code",
   "execution_count": 48,
   "metadata": {},
   "outputs": [
    {
     "data": {
      "text/html": [
       "<div>\n",
       "<style scoped>\n",
       "    .dataframe tbody tr th:only-of-type {\n",
       "        vertical-align: middle;\n",
       "    }\n",
       "\n",
       "    .dataframe tbody tr th {\n",
       "        vertical-align: top;\n",
       "    }\n",
       "\n",
       "    .dataframe thead th {\n",
       "        text-align: right;\n",
       "    }\n",
       "</style>\n",
       "<table border=\"1\" class=\"dataframe\">\n",
       "  <thead>\n",
       "    <tr style=\"text-align: right;\">\n",
       "      <th></th>\n",
       "      <th>name</th>\n",
       "      <th>platform</th>\n",
       "      <th>platform_group</th>\n",
       "      <th>year_of_release</th>\n",
       "      <th>genre</th>\n",
       "      <th>na_sales</th>\n",
       "      <th>eu_sales</th>\n",
       "      <th>jp_sales</th>\n",
       "      <th>other_sales</th>\n",
       "      <th>total_sales</th>\n",
       "      <th>critic_score</th>\n",
       "      <th>user_score</th>\n",
       "      <th>rating</th>\n",
       "      <th>rating_description</th>\n",
       "    </tr>\n",
       "  </thead>\n",
       "  <tbody>\n",
       "    <tr>\n",
       "      <th>604</th>\n",
       "      <td>madden nfl 13</td>\n",
       "      <td>PS3</td>\n",
       "      <td>PlayStation</td>\n",
       "      <td>2012</td>\n",
       "      <td>Sports</td>\n",
       "      <td>2.11</td>\n",
       "      <td>0.22</td>\n",
       "      <td>0.00</td>\n",
       "      <td>0.23</td>\n",
       "      <td>2.56</td>\n",
       "      <td>83.0</td>\n",
       "      <td>55.0</td>\n",
       "      <td>E</td>\n",
       "      <td>Everyone</td>\n",
       "    </tr>\n",
       "    <tr>\n",
       "      <th>659</th>\n",
       "      <td>not defined</td>\n",
       "      <td>GEN</td>\n",
       "      <td>Sega</td>\n",
       "      <td>1993</td>\n",
       "      <td>not defined</td>\n",
       "      <td>1.78</td>\n",
       "      <td>0.53</td>\n",
       "      <td>0.00</td>\n",
       "      <td>0.08</td>\n",
       "      <td>2.39</td>\n",
       "      <td>NaN</td>\n",
       "      <td>NaN</td>\n",
       "      <td>Pending</td>\n",
       "      <td>Pending</td>\n",
       "    </tr>\n",
       "    <tr>\n",
       "      <th>1190</th>\n",
       "      <td>need for speed most wanted</td>\n",
       "      <td>X360</td>\n",
       "      <td>XBox</td>\n",
       "      <td>2012</td>\n",
       "      <td>Racing</td>\n",
       "      <td>0.62</td>\n",
       "      <td>0.78</td>\n",
       "      <td>0.01</td>\n",
       "      <td>0.15</td>\n",
       "      <td>1.56</td>\n",
       "      <td>83.0</td>\n",
       "      <td>85.0</td>\n",
       "      <td>T</td>\n",
       "      <td>Teens 13+</td>\n",
       "    </tr>\n",
       "    <tr>\n",
       "      <th>1591</th>\n",
       "      <td>need for speed most wanted</td>\n",
       "      <td>X360</td>\n",
       "      <td>XBox</td>\n",
       "      <td>2005</td>\n",
       "      <td>Racing</td>\n",
       "      <td>1.00</td>\n",
       "      <td>0.13</td>\n",
       "      <td>0.02</td>\n",
       "      <td>0.10</td>\n",
       "      <td>1.25</td>\n",
       "      <td>83.0</td>\n",
       "      <td>85.0</td>\n",
       "      <td>T</td>\n",
       "      <td>Teens 13+</td>\n",
       "    </tr>\n",
       "    <tr>\n",
       "      <th>2523</th>\n",
       "      <td>dragon warrior iii</td>\n",
       "      <td>GB</td>\n",
       "      <td>Nintendo</td>\n",
       "      <td>2000</td>\n",
       "      <td>Role-Playing</td>\n",
       "      <td>0.00</td>\n",
       "      <td>0.00</td>\n",
       "      <td>0.81</td>\n",
       "      <td>0.00</td>\n",
       "      <td>0.81</td>\n",
       "      <td>NaN</td>\n",
       "      <td>NaN</td>\n",
       "      <td>Pending</td>\n",
       "      <td>Pending</td>\n",
       "    </tr>\n",
       "    <tr>\n",
       "      <th>2660</th>\n",
       "      <td>dragon warrior iii</td>\n",
       "      <td>GB</td>\n",
       "      <td>Nintendo</td>\n",
       "      <td>1999</td>\n",
       "      <td>Role-Playing</td>\n",
       "      <td>0.00</td>\n",
       "      <td>0.00</td>\n",
       "      <td>0.77</td>\n",
       "      <td>0.00</td>\n",
       "      <td>0.77</td>\n",
       "      <td>NaN</td>\n",
       "      <td>NaN</td>\n",
       "      <td>Pending</td>\n",
       "      <td>Pending</td>\n",
       "    </tr>\n",
       "    <tr>\n",
       "      <th>5972</th>\n",
       "      <td>need for speed most wanted</td>\n",
       "      <td>PC</td>\n",
       "      <td>PC</td>\n",
       "      <td>2005</td>\n",
       "      <td>Racing</td>\n",
       "      <td>0.02</td>\n",
       "      <td>0.23</td>\n",
       "      <td>0.00</td>\n",
       "      <td>0.04</td>\n",
       "      <td>0.29</td>\n",
       "      <td>82.0</td>\n",
       "      <td>85.0</td>\n",
       "      <td>T</td>\n",
       "      <td>Teens 13+</td>\n",
       "    </tr>\n",
       "    <tr>\n",
       "      <th>11715</th>\n",
       "      <td>need for speed most wanted</td>\n",
       "      <td>PC</td>\n",
       "      <td>PC</td>\n",
       "      <td>2012</td>\n",
       "      <td>Racing</td>\n",
       "      <td>0.00</td>\n",
       "      <td>0.06</td>\n",
       "      <td>0.00</td>\n",
       "      <td>0.02</td>\n",
       "      <td>0.08</td>\n",
       "      <td>82.0</td>\n",
       "      <td>85.0</td>\n",
       "      <td>T</td>\n",
       "      <td>Teens 13+</td>\n",
       "    </tr>\n",
       "    <tr>\n",
       "      <th>14244</th>\n",
       "      <td>not defined</td>\n",
       "      <td>GEN</td>\n",
       "      <td>Sega</td>\n",
       "      <td>1993</td>\n",
       "      <td>not defined</td>\n",
       "      <td>0.00</td>\n",
       "      <td>0.00</td>\n",
       "      <td>0.03</td>\n",
       "      <td>0.00</td>\n",
       "      <td>0.03</td>\n",
       "      <td>NaN</td>\n",
       "      <td>NaN</td>\n",
       "      <td>Pending</td>\n",
       "      <td>Pending</td>\n",
       "    </tr>\n",
       "    <tr>\n",
       "      <th>16230</th>\n",
       "      <td>madden nfl 13</td>\n",
       "      <td>PS3</td>\n",
       "      <td>PlayStation</td>\n",
       "      <td>2012</td>\n",
       "      <td>Sports</td>\n",
       "      <td>0.00</td>\n",
       "      <td>0.01</td>\n",
       "      <td>0.00</td>\n",
       "      <td>0.00</td>\n",
       "      <td>0.01</td>\n",
       "      <td>83.0</td>\n",
       "      <td>55.0</td>\n",
       "      <td>E</td>\n",
       "      <td>Everyone</td>\n",
       "    </tr>\n",
       "  </tbody>\n",
       "</table>\n",
       "</div>"
      ],
      "text/plain": [
       "                             name platform platform_group  year_of_release  \\\n",
       "604                 madden nfl 13      PS3    PlayStation             2012   \n",
       "659                   not defined      GEN           Sega             1993   \n",
       "1190   need for speed most wanted     X360           XBox             2012   \n",
       "1591   need for speed most wanted     X360           XBox             2005   \n",
       "2523           dragon warrior iii       GB       Nintendo             2000   \n",
       "2660           dragon warrior iii       GB       Nintendo             1999   \n",
       "5972   need for speed most wanted       PC             PC             2005   \n",
       "11715  need for speed most wanted       PC             PC             2012   \n",
       "14244                 not defined      GEN           Sega             1993   \n",
       "16230               madden nfl 13      PS3    PlayStation             2012   \n",
       "\n",
       "              genre  na_sales  eu_sales  jp_sales  other_sales  total_sales  \\\n",
       "604          Sports      2.11      0.22      0.00         0.23         2.56   \n",
       "659     not defined      1.78      0.53      0.00         0.08         2.39   \n",
       "1190         Racing      0.62      0.78      0.01         0.15         1.56   \n",
       "1591         Racing      1.00      0.13      0.02         0.10         1.25   \n",
       "2523   Role-Playing      0.00      0.00      0.81         0.00         0.81   \n",
       "2660   Role-Playing      0.00      0.00      0.77         0.00         0.77   \n",
       "5972         Racing      0.02      0.23      0.00         0.04         0.29   \n",
       "11715        Racing      0.00      0.06      0.00         0.02         0.08   \n",
       "14244   not defined      0.00      0.00      0.03         0.00         0.03   \n",
       "16230        Sports      0.00      0.01      0.00         0.00         0.01   \n",
       "\n",
       "       critic_score  user_score   rating rating_description  \n",
       "604            83.0        55.0        E           Everyone  \n",
       "659             NaN         NaN  Pending            Pending  \n",
       "1190           83.0        85.0        T          Teens 13+  \n",
       "1591           83.0        85.0        T          Teens 13+  \n",
       "2523            NaN         NaN  Pending            Pending  \n",
       "2660            NaN         NaN  Pending            Pending  \n",
       "5972           82.0        85.0        T          Teens 13+  \n",
       "11715          82.0        85.0        T          Teens 13+  \n",
       "14244           NaN         NaN  Pending            Pending  \n",
       "16230          83.0        55.0        E           Everyone  "
      ]
     },
     "execution_count": 48,
     "metadata": {},
     "output_type": "execute_result"
    }
   ],
   "source": [
    "#Son 5! Veamos cuáles son esos juegos que se están duplicando\n",
    "games[games[['name', 'platform']].duplicated(keep=False)]"
   ]
  },
  {
   "cell_type": "markdown",
   "metadata": {},
   "source": [
    "Bien, aquí lo que se muestra es que aunque el nombre es igual, el año es distinto, probablemente son remakes o relanzamientos de los juegos. Aunque no deberían ser considerados como duplicados, ya que se trata de versiones diferentes, en realidad son tan poquitos que realmente no creo que valga la pena dejarlos. "
   ]
  },
  {
   "cell_type": "code",
   "execution_count": 49,
   "metadata": {},
   "outputs": [],
   "source": [
    "#removeré los duplicados quedandome solo con los de las ventas más altas\n",
    "games = games.sort_values(by='total_sales', ascending=False)\n",
    "games = games.drop_duplicates(subset=['name', 'platform'], keep='first')"
   ]
  },
  {
   "cell_type": "code",
   "execution_count": 50,
   "metadata": {},
   "outputs": [
    {
     "data": {
      "text/plain": [
       "0"
      ]
     },
     "execution_count": 50,
     "metadata": {},
     "output_type": "execute_result"
    }
   ],
   "source": [
    "#comprobar\n",
    "games[['name', 'platform']].duplicated().sum()"
   ]
  },
  {
   "cell_type": "markdown",
   "metadata": {},
   "source": [
    "## **Análisis de datos**"
   ]
  },
  {
   "cell_type": "markdown",
   "metadata": {},
   "source": [
    "1.  Evaluar las ventas por plataforma para cada región (NA, UE, JP) .\n",
    "2.  Encontrar los cinco géneros más y los menos rentables.\n",
    "3.  Evalúa si las clasificaciones de ESRB afectan a las ventas en regiones individuales.\n",
    "4.  Cuántos juegos fueron lanzados en diferentes años.\n",
    "5.  Evalúa las ventas totales por plataforma para saber cuál es la más rentable.\n",
    "6.  Determina si las reseñas de usuarios y profesionales afectan las ventas."
   ]
  },
  {
   "cell_type": "code",
   "execution_count": 51,
   "metadata": {},
   "outputs": [
    {
     "name": "stdout",
     "output_type": "stream",
     "text": [
      "<class 'pandas.core.frame.DataFrame'>\n",
      "Int64Index: 16441 entries, 0 to 16709\n",
      "Data columns (total 14 columns):\n",
      " #   Column              Non-Null Count  Dtype  \n",
      "---  ------              --------------  -----  \n",
      " 0   name                16441 non-null  object \n",
      " 1   platform            16441 non-null  object \n",
      " 2   platform_group      16441 non-null  object \n",
      " 3   year_of_release     16441 non-null  int64  \n",
      " 4   genre               16441 non-null  object \n",
      " 5   na_sales            16441 non-null  float64\n",
      " 6   eu_sales            16441 non-null  float64\n",
      " 7   jp_sales            16441 non-null  float64\n",
      " 8   other_sales         16441 non-null  float64\n",
      " 9   total_sales         16441 non-null  float64\n",
      " 10  critic_score        7980 non-null   float64\n",
      " 11  user_score          7460 non-null   float64\n",
      " 12  rating              16441 non-null  object \n",
      " 13  rating_description  16441 non-null  object \n",
      "dtypes: float64(7), int64(1), object(6)\n",
      "memory usage: 1.9+ MB\n"
     ]
    }
   ],
   "source": [
    "games.info()"
   ]
  },
  {
   "cell_type": "markdown",
   "metadata": {},
   "source": [
    "#### **1. Principales plataformas.**"
   ]
  },
  {
   "cell_type": "markdown",
   "metadata": {},
   "source": [
    "Agruparé las ventas por región y por plataforma."
   ]
  },
  {
   "cell_type": "code",
   "execution_count": 52,
   "metadata": {},
   "outputs": [
    {
     "name": "stdout",
     "output_type": "stream",
     "text": [
      "                na_sales  eu_sales  jp_sales  other_sales\n",
      "platform_group                                           \n",
      "Nintendo         1743.71    774.77    758.14       189.71\n",
      "Other              80.78      4.86      3.12         0.84\n",
      "PC                 93.34    140.31      0.20        21.86\n",
      "PlayStation      1526.25   1092.00    470.41       461.29\n",
      "Sega               28.20      8.64     43.98         1.36\n",
      "XBox              869.92    379.43     14.00       107.53\n"
     ]
    }
   ],
   "source": [
    "# Agrupar ventas por región por plataforma\n",
    "sales_per_region = games.groupby('platform_group')[['na_sales', 'eu_sales', 'jp_sales', 'other_sales']].sum()\n",
    "print(sales_per_region)"
   ]
  },
  {
   "cell_type": "code",
   "execution_count": 53,
   "metadata": {},
   "outputs": [
    {
     "data": {
      "image/png": "[encoded data removed]",
      "text/plain": [
       "<Figure size 1000x600 with 1 Axes>"
      ]
     },
     "metadata": {},
     "output_type": "display_data"
    }
   ],
   "source": [
    "#Hacer una gráfica de barras para visualmente ver cómo se comportan las ventas por región.\n",
    "\n",
    "# Ordenar por total combinado\n",
    "sales_per_region['total_sales'] = sales_per_region.sum(axis=1)\n",
    "sales_per_region = sales_per_region.sort_values('total_sales', ascending=False)\n",
    "sales_per_region = sales_per_region.drop(columns='total_sales') \n",
    "\n",
    "# Crear gráfica de barras apiladas\n",
    "sales_per_region.plot(kind='bar', stacked=True, figsize=(10, 6), colormap='Set2')\n",
    "\n",
    "plt.title('Regional sales by platform')\n",
    "plt.xlabel('Platform')\n",
    "plt.ylabel('Sales (millions of USD)')\n",
    "plt.legend(title='Region')\n",
    "plt.xticks(rotation=45)\n",
    "plt.tight_layout()\n",
    "plt.show()"
   ]
  },
  {
   "cell_type": "code",
   "execution_count": 54,
   "metadata": {},
   "outputs": [
    {
     "name": "stdout",
     "output_type": "stream",
     "text": [
      "       na_sales  eu_sales  jp_sales  other_sales\n",
      "count       6.0       6.0       6.0          6.0\n",
      "mean      723.7     400.0     215.0        130.4\n",
      "std       774.6     446.4     322.8        178.2\n",
      "min        28.2       4.9       0.2          0.8\n",
      "25%        83.9      41.6       5.8          6.5\n",
      "50%       481.6     259.9      29.0         64.7\n",
      "75%      1362.2     675.9     363.8        169.2\n",
      "max      1743.7    1092.0     758.1        461.3\n"
     ]
    }
   ],
   "source": [
    "print(sales_per_region.describe().round(1))"
   ]
  },
  {
   "cell_type": "markdown",
   "metadata": {},
   "source": [
    "Aquí podemos ver cómo la plataforma que tiene más ventas es Play Station, seguida de Nintendo. Además, la región más importante para la venta de videojuegos es Norteamérica y en segundo lugar está el mercado europeo. En Europa, Play Station es más popular, pero en Japón, es Nintendo."
   ]
  },
  {
   "cell_type": "markdown",
   "metadata": {},
   "source": [
    "#### **2. Principales géneros por región**"
   ]
  },
  {
   "cell_type": "markdown",
   "metadata": {},
   "source": [
    "Ahora haré el mismo análisis, pero para evaluar los géneros."
   ]
  },
  {
   "cell_type": "code",
   "execution_count": 55,
   "metadata": {},
   "outputs": [
    {
     "name": "stdout",
     "output_type": "stream",
     "text": [
      "              na_sales  eu_sales  jp_sales  other_sales\n",
      "genre                                                  \n",
      "Action          863.17    510.99    160.14       182.22\n",
      "Adventure       101.52     63.20     52.24        16.37\n",
      "Fighting        220.51     99.00     87.28        35.87\n",
      "Misc            399.57    210.60    107.02        73.10\n",
      "Platform        444.44    199.39    130.71        51.01\n",
      "Puzzle          121.13     49.78     56.68        12.30\n",
      "Racing          355.86    234.30     56.61        75.39\n",
      "Role-Playing    330.04    188.24    352.62        59.41\n",
      "Shooter         584.83    314.52     38.68       103.33\n",
      "Simulation      180.40    113.35     63.64        30.57\n",
      "Sports          671.20    371.32    134.93       132.21\n",
      "Strategy         67.75     44.79     49.30        10.73\n",
      "not defined       1.78      0.53      0.00         0.08\n"
     ]
    }
   ],
   "source": [
    "# Agrupar ventas por región por género\n",
    "sales_per_genre = games.groupby('genre')[['na_sales', 'eu_sales', 'jp_sales', 'other_sales']].sum()\n",
    "print(sales_per_genre)"
   ]
  },
  {
   "cell_type": "code",
   "execution_count": 56,
   "metadata": {},
   "outputs": [
    {
     "data": {
      "image/png": "[encoded data removed]",
      "text/plain": [
       "<Figure size 1000x600 with 1 Axes>"
      ]
     },
     "metadata": {},
     "output_type": "display_data"
    }
   ],
   "source": [
    "#Hacer una gráfica de barras solo con los 5 géneros con mayores ventas.\n",
    "\n",
    "# Ordenar por total combinado\n",
    "sales_per_genre['total_sales'] = sales_per_genre.sum(axis=1)\n",
    "top5_genres = sales_per_genre.sort_values('total_sales', ascending=False).head(5)\n",
    "top5_genres = top5_genres.drop(columns='total_sales')\n",
    "\n",
    "# Crear gráfica de barras apiladas\n",
    "top5_genres.plot(kind='bar', stacked=True, figsize=(10, 6), colormap='Set2')\n",
    "\n",
    "plt.title('Regional Sales by Genre (Top 5)')\n",
    "plt.xlabel('Genre')\n",
    "plt.ylabel('Sales (millions of USD)')\n",
    "plt.legend(title='Region')\n",
    "plt.xticks(rotation=45)\n",
    "plt.tight_layout()\n",
    "plt.show()"
   ]
  },
  {
   "cell_type": "markdown",
   "metadata": {},
   "source": [
    "Action es, con diferencia, el género más rentable a nivel global. Lidera las ventas en todas las regiones, especialmente en Norteamérica y Europa. Sports y Shooter también se destacan con ventas muy elevadas, principalmente en Norteamérica y Europa. Aunque géneros como Role-Playing no están entre los cinco más rentables globalmente, en Japón dominan por un amplio margen. Esto evidencia cómo las preferencias regionales influyen significativamente en las ventas. "
   ]
  },
  {
   "cell_type": "code",
   "execution_count": 57,
   "metadata": {},
   "outputs": [
    {
     "name": "stdout",
     "output_type": "stream",
     "text": [
      "\n",
      "Ventas totales por género:\n",
      "              total_sales\n",
      "genre                    \n",
      "Action            1716.52\n",
      "Sports            1309.66\n",
      "Shooter           1041.36\n",
      "Role-Playing       930.31\n",
      "Platform           825.55\n",
      "Misc               790.29\n",
      "Racing             722.16\n",
      "Fighting           442.66\n",
      "Simulation         387.96\n",
      "Puzzle             239.89\n",
      "Adventure          233.33\n",
      "Strategy           172.57\n",
      "not defined          2.39\n"
     ]
    }
   ],
   "source": [
    "#ordenar por total de ventas para identificar a los géneros más y menos rentables\n",
    "sales_per_genre_sorted = sales_per_genre.sort_values('total_sales', ascending=False)\n",
    "\n",
    "# Mostrar tabla:\n",
    "print(\"\\nVentas totales por género:\")\n",
    "print(sales_per_genre_sorted[['total_sales']])"
   ]
  },
  {
   "cell_type": "code",
   "execution_count": 58,
   "metadata": {},
   "outputs": [
    {
     "name": "stdout",
     "output_type": "stream",
     "text": [
      "\n",
      "Estadísticas descriptivas de ventas totales por género:\n",
      "count      13.0\n",
      "mean      678.0\n",
      "std       495.9\n",
      "min         2.4\n",
      "25%       239.9\n",
      "50%       722.2\n",
      "75%       930.3\n",
      "max      1716.5\n",
      "Name: total_sales, dtype: float64\n"
     ]
    }
   ],
   "source": [
    "# Mostrar estadísticas generales de las ventas por género\n",
    "print(\"\\nEstadísticas descriptivas de ventas totales por género:\")\n",
    "print(sales_per_genre_sorted['total_sales'].describe().round(1))"
   ]
  },
  {
   "cell_type": "markdown",
   "metadata": {},
   "source": [
    "Después de evaluar a los géneros más rentables (Action, Sports, Shooter, Role-Paying y Platform), vemos que Strategy, Puzzle, y Adventure muestran consistentemente los niveles más bajos de ventas en todas las regiones. Esto sugiere que, si bien pueden tener valor de nicho, no representan géneros con alto rendimiento comercial global."
   ]
  },
  {
   "cell_type": "markdown",
   "metadata": {},
   "source": [
    "#### **3. Clasificaciones de ESBR**"
   ]
  },
  {
   "cell_type": "raw",
   "metadata": {},
   "source": [
    "Analizar si el 'rating' está influyendo en las ventas de cada región"
   ]
  },
  {
   "cell_type": "code",
   "execution_count": 59,
   "metadata": {},
   "outputs": [
    {
     "name": "stdout",
     "output_type": "stream",
     "text": [
      "                    na_sales  eu_sales  jp_sales  other_sales\n",
      "rating_description                                           \n",
      "Adults Only             1.26      0.61      0.00         0.09\n",
      "Early Childhood         1.53      0.11      0.00         0.11\n",
      "Everyone             1276.80    704.13    199.42       231.57\n",
      "Everyone 10+          345.50    183.35     40.20        71.93\n",
      "Mature 17+            742.89    480.00     63.58       176.06\n",
      "Pending              1227.62    610.21    835.97       149.96\n",
      "Teens 13+             746.60    421.60    150.68       152.87\n"
     ]
    }
   ],
   "source": [
    "# Agrupar ventas por región para cada clasificación ESRB\n",
    "sales_per_rating = games.groupby('rating_description')[['na_sales', 'eu_sales', 'jp_sales', 'other_sales']].sum()\n",
    "print(sales_per_rating)"
   ]
  },
  {
   "cell_type": "code",
   "execution_count": 60,
   "metadata": {},
   "outputs": [
    {
     "data": {
      "image/png": "[encoded data removed]",
      "text/plain": [
       "<Figure size 1000x600 with 1 Axes>"
      ]
     },
     "metadata": {},
     "output_type": "display_data"
    }
   ],
   "source": [
    "# Ordenar por total combinado\n",
    "sales_per_rating['total_sales'] = sales_per_rating.sum(axis=1)\n",
    "sales_per_rating = sales_per_rating.sort_values('total_sales', ascending=False)\n",
    "sales_per_rating = sales_per_rating.drop(columns='total_sales') \n",
    "\n",
    "# Crear gráfica de barras apiladas\n",
    "sales_per_rating.plot(kind='bar', stacked=True, figsize=(10, 6), colormap='Set2')\n",
    "\n",
    "plt.title('Regional Sales by rating')\n",
    "plt.xlabel('Rating')\n",
    "plt.ylabel('Sales (millions of USD)')\n",
    "plt.legend(title='Region')\n",
    "plt.xticks(rotation=45)\n",
    "plt.tight_layout()\n",
    "plt.show()"
   ]
  },
  {
   "cell_type": "markdown",
   "metadata": {},
   "source": [
    "Norteamérica y Europa venden más juegos que son clasificados para todas las edades, seguido de juegos para mayores de 13 y mayores de 17 años. Por su parte, Japón tiene una gran lista de juegos sin clasificar. Esto podría deberse a que probablemente el país nipón no esté alineado al sistema ESBR estadounidene, ya que ellos cuentan con su propio sistema oficial de clasificación de videojuegos. Entonces podría ser que sus ventas sí se hayan visto afectadas por esta clasificación y por eso los dejaron de clasificar. "
   ]
  },
  {
   "cell_type": "markdown",
   "metadata": {},
   "source": [
    "#### **4. Cúantos juegos fueron lanzados por año**"
   ]
  },
  {
   "cell_type": "markdown",
   "metadata": {},
   "source": [
    "Clasificar cuántos juegos fueron lanzados por año y ver su comportamiento y ver si son significativos los datos de cada periodo. "
   ]
  },
  {
   "cell_type": "code",
   "execution_count": 61,
   "metadata": {},
   "outputs": [
    {
     "data": {
      "text/plain": [
       "year_of_release\n",
       "1980       9\n",
       "1981      46\n",
       "1982      36\n",
       "1983      17\n",
       "1984      14\n",
       "1985      14\n",
       "1986      21\n",
       "1987      16\n",
       "1988      15\n",
       "1989      17\n",
       "1990      16\n",
       "1991      41\n",
       "1992      43\n",
       "1993      61\n",
       "1994     121\n",
       "1995     219\n",
       "1996     263\n",
       "1997     289\n",
       "1998     379\n",
       "1999     337\n",
       "2000     350\n",
       "2001     482\n",
       "2002     829\n",
       "2003     775\n",
       "2004     762\n",
       "2005     938\n",
       "2006    1006\n",
       "2007    1197\n",
       "2008    1427\n",
       "2009    1426\n",
       "2010    1255\n",
       "2011    1136\n",
       "2012     651\n",
       "2013     544\n",
       "2014     581\n",
       "2015     606\n",
       "2016     502\n",
       "Name: name, dtype: int64"
      ]
     },
     "execution_count": 61,
     "metadata": {},
     "output_type": "execute_result"
    }
   ],
   "source": [
    "#Contar cuántos videojuegos fueron lanzados por año de lanzamiento\n",
    "games_per_year = games.groupby('year_of_release')['name'].count()\n",
    "games_per_year"
   ]
  },
  {
   "cell_type": "code",
   "execution_count": 62,
   "metadata": {},
   "outputs": [
    {
     "data": {
      "text/plain": [
       "<AxesSubplot:title={'center':'Games released per year'}, xlabel='Year', ylabel='Number of games'>"
      ]
     },
     "execution_count": 62,
     "metadata": {},
     "output_type": "execute_result"
    },
    {
     "data": {
      "image/png": "[encoded data removed]",
      "text/plain": [
       "<Figure size 640x480 with 1 Axes>"
      ]
     },
     "metadata": {},
     "output_type": "display_data"
    }
   ],
   "source": [
    "#visualizar\n",
    "games_per_year.plot(\n",
    "    title='Games released per year',\n",
    "    xlabel='Year',\n",
    "    ylabel='Number of games'\n",
    ")"
   ]
  },
  {
   "cell_type": "markdown",
   "metadata": {},
   "source": [
    "Existe una tendencia alcista en el lanzamiento de juegos, que alcanzó su pico más alto en el 2008. Sin embargo, a partir de ahí se presenta una fuerte tendencia a la baja que se puede explicar por diversos factores: la crisis financiera global, un salto tecnológico hacia consolas y juegos más sofisticados que alargó los tiempos de lanzamiento; y la llegada de  juegos móviles, que debió impactar en las ventas de juegos de consolas. "
   ]
  },
  {
   "cell_type": "markdown",
   "metadata": {},
   "source": [
    "#### **5. Ventas por plataforma por año**"
   ]
  },
  {
   "cell_type": "code",
   "execution_count": 63,
   "metadata": {},
   "outputs": [
    {
     "data": {
      "text/html": [
       "<div>\n",
       "<style scoped>\n",
       "    .dataframe tbody tr th:only-of-type {\n",
       "        vertical-align: middle;\n",
       "    }\n",
       "\n",
       "    .dataframe tbody tr th {\n",
       "        vertical-align: top;\n",
       "    }\n",
       "\n",
       "    .dataframe thead th {\n",
       "        text-align: right;\n",
       "    }\n",
       "</style>\n",
       "<table border=\"1\" class=\"dataframe\">\n",
       "  <thead>\n",
       "    <tr style=\"text-align: right;\">\n",
       "      <th>platform_group</th>\n",
       "      <th>Nintendo</th>\n",
       "      <th>Other</th>\n",
       "      <th>PC</th>\n",
       "      <th>PlayStation</th>\n",
       "      <th>Sega</th>\n",
       "      <th>XBox</th>\n",
       "    </tr>\n",
       "    <tr>\n",
       "      <th>year_of_release</th>\n",
       "      <th></th>\n",
       "      <th></th>\n",
       "      <th></th>\n",
       "      <th></th>\n",
       "      <th></th>\n",
       "      <th></th>\n",
       "    </tr>\n",
       "  </thead>\n",
       "  <tbody>\n",
       "    <tr>\n",
       "      <th>1980</th>\n",
       "      <td>0.00</td>\n",
       "      <td>11.38</td>\n",
       "      <td>0.00</td>\n",
       "      <td>0.00</td>\n",
       "      <td>0.00</td>\n",
       "      <td>0.00</td>\n",
       "    </tr>\n",
       "    <tr>\n",
       "      <th>1981</th>\n",
       "      <td>0.00</td>\n",
       "      <td>35.68</td>\n",
       "      <td>0.00</td>\n",
       "      <td>0.00</td>\n",
       "      <td>0.00</td>\n",
       "      <td>0.00</td>\n",
       "    </tr>\n",
       "    <tr>\n",
       "      <th>1982</th>\n",
       "      <td>0.00</td>\n",
       "      <td>28.88</td>\n",
       "      <td>0.00</td>\n",
       "      <td>0.00</td>\n",
       "      <td>0.00</td>\n",
       "      <td>0.00</td>\n",
       "    </tr>\n",
       "    <tr>\n",
       "      <th>1983</th>\n",
       "      <td>10.96</td>\n",
       "      <td>5.84</td>\n",
       "      <td>0.00</td>\n",
       "      <td>0.00</td>\n",
       "      <td>0.00</td>\n",
       "      <td>0.00</td>\n",
       "    </tr>\n",
       "    <tr>\n",
       "      <th>1984</th>\n",
       "      <td>50.08</td>\n",
       "      <td>0.27</td>\n",
       "      <td>0.00</td>\n",
       "      <td>0.00</td>\n",
       "      <td>0.00</td>\n",
       "      <td>0.00</td>\n",
       "    </tr>\n",
       "    <tr>\n",
       "      <th>1985</th>\n",
       "      <td>53.46</td>\n",
       "      <td>0.45</td>\n",
       "      <td>0.04</td>\n",
       "      <td>0.00</td>\n",
       "      <td>0.00</td>\n",
       "      <td>0.00</td>\n",
       "    </tr>\n",
       "    <tr>\n",
       "      <th>1986</th>\n",
       "      <td>36.41</td>\n",
       "      <td>0.67</td>\n",
       "      <td>0.00</td>\n",
       "      <td>0.00</td>\n",
       "      <td>0.00</td>\n",
       "      <td>0.00</td>\n",
       "    </tr>\n",
       "    <tr>\n",
       "      <th>1987</th>\n",
       "      <td>19.76</td>\n",
       "      <td>1.94</td>\n",
       "      <td>0.00</td>\n",
       "      <td>0.00</td>\n",
       "      <td>0.00</td>\n",
       "      <td>0.00</td>\n",
       "    </tr>\n",
       "    <tr>\n",
       "      <th>1988</th>\n",
       "      <td>46.44</td>\n",
       "      <td>0.74</td>\n",
       "      <td>0.03</td>\n",
       "      <td>0.00</td>\n",
       "      <td>0.00</td>\n",
       "      <td>0.00</td>\n",
       "    </tr>\n",
       "    <tr>\n",
       "      <th>1989</th>\n",
       "      <td>72.82</td>\n",
       "      <td>0.63</td>\n",
       "      <td>0.00</td>\n",
       "      <td>0.00</td>\n",
       "      <td>0.00</td>\n",
       "      <td>0.00</td>\n",
       "    </tr>\n",
       "    <tr>\n",
       "      <th>1990</th>\n",
       "      <td>46.77</td>\n",
       "      <td>0.00</td>\n",
       "      <td>0.00</td>\n",
       "      <td>0.00</td>\n",
       "      <td>2.60</td>\n",
       "      <td>0.00</td>\n",
       "    </tr>\n",
       "    <tr>\n",
       "      <th>1991</th>\n",
       "      <td>27.90</td>\n",
       "      <td>0.00</td>\n",
       "      <td>0.00</td>\n",
       "      <td>0.00</td>\n",
       "      <td>4.33</td>\n",
       "      <td>0.00</td>\n",
       "    </tr>\n",
       "    <tr>\n",
       "      <th>1992</th>\n",
       "      <td>60.45</td>\n",
       "      <td>0.00</td>\n",
       "      <td>3.03</td>\n",
       "      <td>0.00</td>\n",
       "      <td>12.68</td>\n",
       "      <td>0.00</td>\n",
       "    </tr>\n",
       "    <tr>\n",
       "      <th>1993</th>\n",
       "      <td>43.63</td>\n",
       "      <td>0.21</td>\n",
       "      <td>0.00</td>\n",
       "      <td>0.00</td>\n",
       "      <td>4.54</td>\n",
       "      <td>0.00</td>\n",
       "    </tr>\n",
       "    <tr>\n",
       "      <th>1994</th>\n",
       "      <td>47.37</td>\n",
       "      <td>0.82</td>\n",
       "      <td>12.87</td>\n",
       "      <td>6.03</td>\n",
       "      <td>12.14</td>\n",
       "      <td>0.00</td>\n",
       "    </tr>\n",
       "    <tr>\n",
       "      <th>1995</th>\n",
       "      <td>35.80</td>\n",
       "      <td>0.57</td>\n",
       "      <td>4.22</td>\n",
       "      <td>35.96</td>\n",
       "      <td>11.57</td>\n",
       "      <td>0.00</td>\n",
       "    </tr>\n",
       "    <tr>\n",
       "      <th>1996</th>\n",
       "      <td>86.05</td>\n",
       "      <td>0.10</td>\n",
       "      <td>10.61</td>\n",
       "      <td>94.70</td>\n",
       "      <td>7.69</td>\n",
       "      <td>0.00</td>\n",
       "    </tr>\n",
       "    <tr>\n",
       "      <th>1997</th>\n",
       "      <td>46.86</td>\n",
       "      <td>0.00</td>\n",
       "      <td>11.27</td>\n",
       "      <td>136.17</td>\n",
       "      <td>6.77</td>\n",
       "      <td>0.00</td>\n",
       "    </tr>\n",
       "    <tr>\n",
       "      <th>1998</th>\n",
       "      <td>76.36</td>\n",
       "      <td>0.00</td>\n",
       "      <td>3.26</td>\n",
       "      <td>169.49</td>\n",
       "      <td>7.20</td>\n",
       "      <td>0.00</td>\n",
       "    </tr>\n",
       "    <tr>\n",
       "      <th>1999</th>\n",
       "      <td>95.36</td>\n",
       "      <td>0.46</td>\n",
       "      <td>4.74</td>\n",
       "      <td>144.53</td>\n",
       "      <td>5.25</td>\n",
       "      <td>0.00</td>\n",
       "    </tr>\n",
       "    <tr>\n",
       "      <th>2000</th>\n",
       "      <td>53.80</td>\n",
       "      <td>0.68</td>\n",
       "      <td>4.66</td>\n",
       "      <td>135.54</td>\n",
       "      <td>5.99</td>\n",
       "      <td>0.99</td>\n",
       "    </tr>\n",
       "    <tr>\n",
       "      <th>2001</th>\n",
       "      <td>100.36</td>\n",
       "      <td>0.28</td>\n",
       "      <td>5.47</td>\n",
       "      <td>202.02</td>\n",
       "      <td>1.07</td>\n",
       "      <td>22.26</td>\n",
       "    </tr>\n",
       "    <tr>\n",
       "      <th>2002</th>\n",
       "      <td>126.05</td>\n",
       "      <td>0.00</td>\n",
       "      <td>8.57</td>\n",
       "      <td>212.05</td>\n",
       "      <td>0.29</td>\n",
       "      <td>48.01</td>\n",
       "    </tr>\n",
       "    <tr>\n",
       "      <th>2003</th>\n",
       "      <td>107.28</td>\n",
       "      <td>0.00</td>\n",
       "      <td>8.84</td>\n",
       "      <td>186.38</td>\n",
       "      <td>0.00</td>\n",
       "      <td>55.04</td>\n",
       "    </tr>\n",
       "    <tr>\n",
       "      <th>2004</th>\n",
       "      <td>124.00</td>\n",
       "      <td>0.00</td>\n",
       "      <td>10.39</td>\n",
       "      <td>218.87</td>\n",
       "      <td>0.00</td>\n",
       "      <td>65.42</td>\n",
       "    </tr>\n",
       "    <tr>\n",
       "      <th>2005</th>\n",
       "      <td>191.62</td>\n",
       "      <td>0.00</td>\n",
       "      <td>4.37</td>\n",
       "      <td>204.50</td>\n",
       "      <td>0.00</td>\n",
       "      <td>56.08</td>\n",
       "    </tr>\n",
       "    <tr>\n",
       "      <th>2006</th>\n",
       "      <td>273.50</td>\n",
       "      <td>0.00</td>\n",
       "      <td>2.85</td>\n",
       "      <td>179.70</td>\n",
       "      <td>0.00</td>\n",
       "      <td>61.66</td>\n",
       "    </tr>\n",
       "    <tr>\n",
       "      <th>2007</th>\n",
       "      <td>303.38</td>\n",
       "      <td>0.00</td>\n",
       "      <td>9.28</td>\n",
       "      <td>196.11</td>\n",
       "      <td>0.02</td>\n",
       "      <td>95.96</td>\n",
       "    </tr>\n",
       "    <tr>\n",
       "      <th>2008</th>\n",
       "      <td>316.63</td>\n",
       "      <td>0.00</td>\n",
       "      <td>12.42</td>\n",
       "      <td>206.97</td>\n",
       "      <td>0.04</td>\n",
       "      <td>135.44</td>\n",
       "    </tr>\n",
       "    <tr>\n",
       "      <th>2009</th>\n",
       "      <td>326.51</td>\n",
       "      <td>0.00</td>\n",
       "      <td>16.91</td>\n",
       "      <td>195.11</td>\n",
       "      <td>0.00</td>\n",
       "      <td>120.29</td>\n",
       "    </tr>\n",
       "    <tr>\n",
       "      <th>2010</th>\n",
       "      <td>212.97</td>\n",
       "      <td>0.00</td>\n",
       "      <td>24.28</td>\n",
       "      <td>182.85</td>\n",
       "      <td>0.00</td>\n",
       "      <td>170.03</td>\n",
       "    </tr>\n",
       "    <tr>\n",
       "      <th>2011</th>\n",
       "      <td>149.03</td>\n",
       "      <td>0.00</td>\n",
       "      <td>35.03</td>\n",
       "      <td>179.68</td>\n",
       "      <td>0.00</td>\n",
       "      <td>143.84</td>\n",
       "    </tr>\n",
       "    <tr>\n",
       "      <th>2012</th>\n",
       "      <td>101.64</td>\n",
       "      <td>0.00</td>\n",
       "      <td>23.14</td>\n",
       "      <td>131.23</td>\n",
       "      <td>0.00</td>\n",
       "      <td>99.74</td>\n",
       "    </tr>\n",
       "    <tr>\n",
       "      <th>2013</th>\n",
       "      <td>88.35</td>\n",
       "      <td>0.00</td>\n",
       "      <td>12.38</td>\n",
       "      <td>152.97</td>\n",
       "      <td>0.00</td>\n",
       "      <td>107.54</td>\n",
       "    </tr>\n",
       "    <tr>\n",
       "      <th>2014</th>\n",
       "      <td>69.54</td>\n",
       "      <td>0.00</td>\n",
       "      <td>13.28</td>\n",
       "      <td>159.90</td>\n",
       "      <td>0.00</td>\n",
       "      <td>88.81</td>\n",
       "    </tr>\n",
       "    <tr>\n",
       "      <th>2015</th>\n",
       "      <td>45.27</td>\n",
       "      <td>0.00</td>\n",
       "      <td>8.52</td>\n",
       "      <td>142.09</td>\n",
       "      <td>0.00</td>\n",
       "      <td>72.10</td>\n",
       "    </tr>\n",
       "    <tr>\n",
       "      <th>2016</th>\n",
       "      <td>19.92</td>\n",
       "      <td>0.00</td>\n",
       "      <td>5.25</td>\n",
       "      <td>77.10</td>\n",
       "      <td>0.00</td>\n",
       "      <td>27.67</td>\n",
       "    </tr>\n",
       "  </tbody>\n",
       "</table>\n",
       "</div>"
      ],
      "text/plain": [
       "platform_group   Nintendo  Other     PC  PlayStation   Sega    XBox\n",
       "year_of_release                                                    \n",
       "1980                 0.00  11.38   0.00         0.00   0.00    0.00\n",
       "1981                 0.00  35.68   0.00         0.00   0.00    0.00\n",
       "1982                 0.00  28.88   0.00         0.00   0.00    0.00\n",
       "1983                10.96   5.84   0.00         0.00   0.00    0.00\n",
       "1984                50.08   0.27   0.00         0.00   0.00    0.00\n",
       "1985                53.46   0.45   0.04         0.00   0.00    0.00\n",
       "1986                36.41   0.67   0.00         0.00   0.00    0.00\n",
       "1987                19.76   1.94   0.00         0.00   0.00    0.00\n",
       "1988                46.44   0.74   0.03         0.00   0.00    0.00\n",
       "1989                72.82   0.63   0.00         0.00   0.00    0.00\n",
       "1990                46.77   0.00   0.00         0.00   2.60    0.00\n",
       "1991                27.90   0.00   0.00         0.00   4.33    0.00\n",
       "1992                60.45   0.00   3.03         0.00  12.68    0.00\n",
       "1993                43.63   0.21   0.00         0.00   4.54    0.00\n",
       "1994                47.37   0.82  12.87         6.03  12.14    0.00\n",
       "1995                35.80   0.57   4.22        35.96  11.57    0.00\n",
       "1996                86.05   0.10  10.61        94.70   7.69    0.00\n",
       "1997                46.86   0.00  11.27       136.17   6.77    0.00\n",
       "1998                76.36   0.00   3.26       169.49   7.20    0.00\n",
       "1999                95.36   0.46   4.74       144.53   5.25    0.00\n",
       "2000                53.80   0.68   4.66       135.54   5.99    0.99\n",
       "2001               100.36   0.28   5.47       202.02   1.07   22.26\n",
       "2002               126.05   0.00   8.57       212.05   0.29   48.01\n",
       "2003               107.28   0.00   8.84       186.38   0.00   55.04\n",
       "2004               124.00   0.00  10.39       218.87   0.00   65.42\n",
       "2005               191.62   0.00   4.37       204.50   0.00   56.08\n",
       "2006               273.50   0.00   2.85       179.70   0.00   61.66\n",
       "2007               303.38   0.00   9.28       196.11   0.02   95.96\n",
       "2008               316.63   0.00  12.42       206.97   0.04  135.44\n",
       "2009               326.51   0.00  16.91       195.11   0.00  120.29\n",
       "2010               212.97   0.00  24.28       182.85   0.00  170.03\n",
       "2011               149.03   0.00  35.03       179.68   0.00  143.84\n",
       "2012               101.64   0.00  23.14       131.23   0.00   99.74\n",
       "2013                88.35   0.00  12.38       152.97   0.00  107.54\n",
       "2014                69.54   0.00  13.28       159.90   0.00   88.81\n",
       "2015                45.27   0.00   8.52       142.09   0.00   72.10\n",
       "2016                19.92   0.00   5.25        77.10   0.00   27.67"
      ]
     },
     "execution_count": 63,
     "metadata": {},
     "output_type": "execute_result"
    }
   ],
   "source": [
    "from textwrap import fill\n",
    "#agregar los datos\n",
    "sales_per_platform = games.pivot_table(\n",
    "    index = 'year_of_release',\n",
    "    columns = 'platform_group',\n",
    "    values = 'total_sales',\n",
    "    aggfunc = 'sum',\n",
    "    fill_value= 0\n",
    ")\n",
    "\n",
    "sales_per_platform"
   ]
  },
  {
   "cell_type": "code",
   "execution_count": 64,
   "metadata": {},
   "outputs": [
    {
     "data": {
      "image/png": "[encoded data removed]",
      "text/plain": [
       "<Figure size 1000x600 with 1 Axes>"
      ]
     },
     "metadata": {},
     "output_type": "display_data"
    }
   ],
   "source": [
    "#Graficar\n",
    "# Filtrar desde el año 1995, ya que es cuando se tienen más datos\n",
    "sales_per_platform = sales_per_platform[sales_per_platform.index >= 1995]\n",
    "\n",
    "# Seleccionar solo las plataformas relevantes\n",
    "selected_platforms = ['PlayStation', 'Nintendo', 'XBox']\n",
    "sales_per_platform = sales_per_platform[selected_platforms]\n",
    "\n",
    "# Graficar línea temporal\n",
    "sales_per_platform.plot(kind='line', figsize=(10, 6), marker='o')\n",
    "\n",
    "plt.title('Annual sales by platform group (since 1995)')\n",
    "plt.xlabel('Year')\n",
    "plt.ylabel('Total sales (millions of USD)')\n",
    "plt.legend(title='Platform')\n",
    "plt.grid(True)\n",
    "plt.tight_layout()\n",
    "plt.show()"
   ]
  },
  {
   "cell_type": "markdown",
   "metadata": {},
   "source": [
    "A pesar de que Nintendo tuvo un pico importante de sus ventas, la caída fue mucho más estrepitosa. En cambio se puede ver que PlayStation ha tenido mayor estabilidad a lo largo del tiempo, con picos y valles, pero mucho más moderados. Xbox es la tercera plataforma con mayores ventas."
   ]
  },
  {
   "cell_type": "markdown",
   "metadata": {},
   "source": [
    "#### **6. Evaluación de las reseñas**"
   ]
  },
  {
   "cell_type": "markdown",
   "metadata": {},
   "source": [
    "Evaluar cómo las reseñas de usuarios y de los profesionales de la industria, afectan las ventas de PlayStation. Crear un gráfico de dispersión y calcular la correlación."
   ]
  },
  {
   "cell_type": "code",
   "execution_count": 65,
   "metadata": {},
   "outputs": [],
   "source": [
    "# Filtrar datos de PlayStation y eliminar valores nulos\n",
    "ps_data = games[\n",
    "    (games['platform_group'] == 'PlayStation') &\n",
    "    (games['critic_score'].notna()) &\n",
    "    (games['user_score'].notna()) &\n",
    "    (games['total_sales'].notna())\n",
    "]"
   ]
  },
  {
   "cell_type": "code",
   "execution_count": 66,
   "metadata": {},
   "outputs": [
    {
     "data": {
      "image/png": "[encoded data removed]",
      "text/plain": [
       "<Figure size 1200x500 with 2 Axes>"
      ]
     },
     "metadata": {},
     "output_type": "display_data"
    }
   ],
   "source": [
    "# Crear scatter plot: Crítica vs Ventas\n",
    "plt.figure(figsize=(12, 5))\n",
    "\n",
    "plt.subplot(1, 2, 1)\n",
    "sns.scatterplot(data=ps_data, x='critic_score', y='total_sales', color='steelblue')\n",
    "plt.title('Ventas vs Reseñas de Críticos (PlayStation)')\n",
    "plt.xlabel('Puntaje de críticos')\n",
    "plt.ylabel('Ventas (millones de USD)')\n",
    "\n",
    "# Crear scatter plot: Usuarios vs Ventas\n",
    "plt.subplot(1, 2, 2)\n",
    "sns.scatterplot(data=ps_data, x='user_score', y='total_sales', color='orange')\n",
    "plt.title('Ventas vs Reseñas de Usuarios (PlayStation)')\n",
    "plt.xlabel('Puntaje de usuarios')\n",
    "plt.ylabel('Ventas (millones de USD)')\n",
    "\n",
    "plt.tight_layout()\n",
    "plt.show()"
   ]
  },
  {
   "cell_type": "code",
   "execution_count": 67,
   "metadata": {},
   "outputs": [
    {
     "name": "stdout",
     "output_type": "stream",
     "text": [
      "Correlación entre reseñas de críticos y ventas: 0.40\n",
      "Correlación entre reseñas de usuarios y ventas: 0.13\n"
     ]
    }
   ],
   "source": [
    "# Calcular correlaciones de las ventas\n",
    "corr_critic = ps_data['critic_score'].corr(ps_data['total_sales'])\n",
    "corr_user = ps_data['user_score'].corr(ps_data['total_sales'])\n",
    "\n",
    "print(f\"Correlación entre reseñas de críticos y ventas: {corr_critic:.2f}\")\n",
    "print(f\"Correlación entre reseñas de usuarios y ventas: {corr_user:.2f}\")"
   ]
  },
  {
   "cell_type": "markdown",
   "metadata": {},
   "source": [
    "Tanto en el gráfico, como en el dato de correlación (0.4), es más evidente que la correlación es más alta entre los críticos y las ventas totales, que entre las reseñas de los usuarios y las ventas. Es decir, que la calificación que pueden llegar a dar los usuarios incide poco o casi nada en las ventas de los videojuegos. \n",
    "\n",
    "Debido a que hay valores(juegos) que sobresalen, tomaré algún ejemplo para evaluar más puntual. "
   ]
  },
  {
   "cell_type": "code",
   "execution_count": 68,
   "metadata": {},
   "outputs": [
    {
     "name": "stdout",
     "output_type": "stream",
     "text": [
      "Juegos de PlayStation con mayores ventas:\n",
      "                             name  critic_score  user_score  total_sales\n",
      "16             grand theft auto v          97.0        82.0        21.05\n",
      "17   grand theft auto san andreas          95.0        90.0        20.81\n",
      "24     grand theft auto vice city          95.0        87.0        16.15\n",
      "28           gran turismo 3 aspec          95.0        84.0        14.97\n",
      "34      call of duty black ops ii          83.0        53.0        13.79\n",
      "37  call of duty modern warfare 3          88.0        32.0        13.33\n",
      "38           grand theft auto iii          97.0        85.0        13.10\n",
      "41         call of duty black ops          88.0        64.0        12.63\n",
      "42             grand theft auto v          97.0        83.0        12.62\n",
      "48                 gran turismo 4          89.0        85.0        11.65\n"
     ]
    }
   ],
   "source": [
    "# Ordenar por ventas más altas\n",
    "top_sales_ps = ps_data.sort_values('total_sales', ascending=False).head(10)\n",
    "\n",
    "# Mostrar tabla de juegos más vendidos\n",
    "print(\"Juegos de PlayStation con mayores ventas:\")\n",
    "print(top_sales_ps[['name', 'critic_score', 'user_score', 'total_sales']])"
   ]
  },
  {
   "cell_type": "markdown",
   "metadata": {},
   "source": [
    "Tomaré el juego de 'grand theft auto v ', ya que tiene las ventas más altas y de las mejores reseñas. De esta forma puedo comparar si realmente las reseñas tienen alguna incidencia sobre las ventas, o tiene que ver con otros factores propios de cada plataforma."
   ]
  },
  {
   "cell_type": "code",
   "execution_count": 83,
   "metadata": {},
   "outputs": [
    {
     "name": "stdout",
     "output_type": "stream",
     "text": [
      "Plataformas donde fue lanzado 'grand theft auto v':\n",
      "     platform  critic_score  user_score  total_sales\n",
      "16        PS3          97.0        82.0        21.05\n",
      "23       X360          97.0        81.0        16.27\n",
      "42        PS4          97.0        83.0        12.62\n",
      "165      XOne          97.0        79.0         5.47\n",
      "1730       PC          96.0        79.0         1.17\n"
     ]
    }
   ],
   "source": [
    "# Filtrar solo las entradas del juego \"grand theft auto v\"\n",
    "grand_auto = games[\n",
    "    games['name'].str.lower() == 'grand theft auto v'\n",
    "][['platform', 'critic_score', 'user_score', 'total_sales']]\n",
    "\n",
    "# Verificar las filas encontradas\n",
    "print(\"Plataformas donde fue lanzado 'grand theft auto v':\")\n",
    "print(grand_auto)"
   ]
  },
  {
   "cell_type": "code",
   "execution_count": 84,
   "metadata": {},
   "outputs": [
    {
     "name": "stdout",
     "output_type": "stream",
     "text": [
      "Matriz de correlación:\n",
      "              critic_score  user_score  total_sales\n",
      "critic_score      1.000000    0.562500     0.706069\n",
      "user_score        0.562500    1.000000     0.771171\n",
      "total_sales       0.706069    0.771171     1.000000\n"
     ]
    }
   ],
   "source": [
    "# Calcular la matriz de correlación\n",
    "correlation = grand_auto[['critic_score', 'user_score', 'total_sales']].corr()\n",
    "print(\"Matriz de correlación:\")\n",
    "print(correlation)"
   ]
  },
  {
   "cell_type": "markdown",
   "metadata": {},
   "source": [
    "Ahora podemos ver de manera más clara, que la calificación de los críticos tiene una incidencia de 0.7 sobre las ventas, mientras que la calificación de los usuarios influye en 0.77, es decir, que en este juego en específico, ha pesado más la calificación de los usuarios, que la de los críticos. "
   ]
  },
  {
   "cell_type": "markdown",
   "metadata": {},
   "source": [
    "## **Pruebas de hipótesis**"
   ]
  },
  {
   "cell_type": "markdown",
   "metadata": {},
   "source": [
    "#### **Prueba de hipótesis 1**\n",
    "\n",
    "H0 = Las calificaciones promedio de los usuarios para las plataformas Xbox One y PC son las mismas.\n",
    "\n",
    "H1 = Las calificaciones promedio de los usuarios para las plataformas Xbox One y PC son diferentes."
   ]
  },
  {
   "cell_type": "code",
   "execution_count": 72,
   "metadata": {},
   "outputs": [],
   "source": [
    "#Prueba: prueba t de Student para muestras independientes, comparando las calificaciones de usuarios entre Xbox One y PC\n",
    "#establecer los datos para demostrar la hipótesis\n",
    "#como tenemos muchos valores ausentes en la columna 'user_score', tenemos que quitarlos\n",
    "\n",
    "xbox = games[(games['platform'] == 'XOne') & (games['user_score'].notna())]['user_score']\n",
    "pc = games[(games['platform'] == 'PC') & (games['user_score'].notna())]['user_score']"
   ]
  },
  {
   "cell_type": "code",
   "execution_count": 73,
   "metadata": {},
   "outputs": [
    {
     "name": "stdout",
     "output_type": "stream",
     "text": [
      "Prueba de Levene - valor p: 0.2787984933367411\n",
      "Varianzas iguales: usamos equal_var=True\n"
     ]
    }
   ],
   "source": [
    "alpha= 0.05\n",
    "\n",
    "#Prueba Levene para igualdad de varianzas\n",
    "levene_stat, levene_p = st.levene(xbox, pc)\n",
    "print('Prueba de Levene - valor p:', levene_p)\n",
    "\n",
    "#Basado en eso decido el parámetro equal_var\n",
    "if levene_p < alpha:\n",
    "    print(\"Varianzas desiguales: usamos equal_var=False\")\n",
    "    equal_var = False\n",
    "else:\n",
    "    print(\"Varianzas iguales: usamos equal_var=True\")\n",
    "    equal_var = True"
   ]
  },
  {
   "cell_type": "code",
   "execution_count": 74,
   "metadata": {},
   "outputs": [
    {
     "name": "stdout",
     "output_type": "stream",
     "text": [
      "Valor p: 1.4016223685119627e-05\n",
      "Rechazamos la hipótesis nula\n"
     ]
    }
   ],
   "source": [
    "#Considerando que salió equal_var= True, esa utilizamos:\n",
    "results = st.ttest_ind(xbox, pc, equal_var= True)\n",
    "\n",
    "print('Valor p:', results.pvalue) #extraer el valor p\n",
    "\n",
    "if results.pvalue < alpha: # comparar el valor p con el umbral\n",
    "    print(\"Rechazamos la hipótesis nula\")\n",
    "else:\n",
    "    print(\"No podemos rechazar la hipótesis nula\")\n"
   ]
  },
  {
   "cell_type": "code",
   "execution_count": 75,
   "metadata": {},
   "outputs": [
    {
     "name": "stdout",
     "output_type": "stream",
     "text": [
      "Media Xbox: 65.2\n",
      "Media PC: 70.6\n"
     ]
    }
   ],
   "source": [
    "print(\"Media Xbox:\", xbox.mean().round(1))\n",
    "print(\"Media PC:\", pc.mean().round(1))"
   ]
  },
  {
   "cell_type": "markdown",
   "metadata": {},
   "source": [
    "Rechazamos la hipótesis nula, es decir, las calificaciones promedio para las plataformas XOne y PC no son las mismas. Al imprimir las medias, reafirmamos que éstas no son iguales."
   ]
  },
  {
   "cell_type": "markdown",
   "metadata": {},
   "source": [
    "#### **Prueba de hipótesis 2**\n",
    "\n",
    "H0 = Las calificaciones promedio de los usuarios para los géneros de Acción y Deportes son iguales.\n",
    "\n",
    "H1 = Las calificaciones promedio de los usuarios para los géneros de Acción y Deportes son diferentes."
   ]
  },
  {
   "cell_type": "code",
   "execution_count": 76,
   "metadata": {},
   "outputs": [],
   "source": [
    "#Prueba: prueba t de Student para muestras independientes, comparando las calificaciones de usuarios para diferentes géneros.\n",
    "#establecer los valores para demostrar la hipótesis\n",
    "\n",
    "action = games[(games['genre'] == 'Action') & (games['user_score'].notna())]['user_score']\n",
    "sports = games[(games['genre'] == 'Sports') & (games['user_score'].notna())]['user_score']"
   ]
  },
  {
   "cell_type": "code",
   "execution_count": 77,
   "metadata": {},
   "outputs": [
    {
     "name": "stdout",
     "output_type": "stream",
     "text": [
      "Prueba de Levene - valor p: 9.39210274080246e-05\n",
      "Varianzas desiguales: usamos equal_var=False\n"
     ]
    }
   ],
   "source": [
    "alpha= 0.05\n",
    "\n",
    "#Prueba Levene para igualdad de varianzas\n",
    "levene_stat, levene_p = st.levene(action, sports)\n",
    "print('Prueba de Levene - valor p:', levene_p)\n",
    "\n",
    "#Basado en eso decido el parámetro equal_var\n",
    "if levene_p < alpha:\n",
    "    print(\"Varianzas desiguales: usamos equal_var=False\")\n",
    "    equal_var = False\n",
    "else:\n",
    "    print(\"Varianzas iguales: usamos equal_var=True\")\n",
    "    equal_var = True"
   ]
  },
  {
   "cell_type": "code",
   "execution_count": 78,
   "metadata": {},
   "outputs": [
    {
     "name": "stdout",
     "output_type": "stream",
     "text": [
      "Valor p: 0.07751671595536654\n",
      "No podemos rechazar la hipótesis nula\n"
     ]
    }
   ],
   "source": [
    "#Considerando que salió equal_var= False, esa utilizamos:\n",
    "results = st.ttest_ind(action, sports, equal_var= False)\n",
    "\n",
    "print('Valor p:', results.pvalue) #extraer el valor p\n",
    "\n",
    "if results.pvalue < alpha: # comparar el valor p con el umbral\n",
    "    print(\"Rechazamos la hipótesis nula\")\n",
    "else:\n",
    "    print(\"No podemos rechazar la hipótesis nula\")\n"
   ]
  },
  {
   "cell_type": "code",
   "execution_count": 79,
   "metadata": {},
   "outputs": [
    {
     "name": "stdout",
     "output_type": "stream",
     "text": [
      "Media Action: 74.0\n",
      "Media Sports: 74.0\n"
     ]
    }
   ],
   "source": [
    "print(\"Media Action:\", action.median().round(1))\n",
    "print(\"Media Sports:\", sports.median().round(1))"
   ]
  },
  {
   "cell_type": "markdown",
   "metadata": {},
   "source": [
    "No podemos rechazar la hipótesis nula, por tanto, las calificaciones promedio de los usuarios para los géneros de Acción y Deportes son iguales. Al imprimir el dato para obtener la mediana de cada uno, vemos que son iguales, por lo que se puede interpretar que son géneros que gustan de la misma forma entre los usuarios."
   ]
  },
  {
   "cell_type": "markdown",
   "metadata": {},
   "source": [
    "## **Conclusiones generales**"
   ]
  },
  {
   "cell_type": "markdown",
   "metadata": {},
   "source": [
    "Del análisis realizado, se observa que PlayStation lidera en volumen de ventas globales, a pesar de haber ingresado al mercado después de Nintendo. Sus ventas han sido más estables y sostenidas, a diferencia de la alta volatilidad de Nintendo, explicada en parte por lanzamientos esporádicos de gran impacto seguidos de periodos con menor actividad.\n",
    "\n",
    "A nivel regional, Norteamérica representa el mercado con mayores ingresos, seguido por Europa. Japón, aunque históricamente relevante, es un mercado más acotado en volumen. En cuanto a géneros, *Action* es el más rentable globalmente, seguido por *Sports* y *Shooter*, con un dominio claro en Norteamérica y Europa. En Japón, en cambio, predomina el género *Role-Playing*, evidenciando diferencias culturales clave. Géneros como *Strategy*, *Puzzle* y *Adventure* registran las ventas más bajas a nivel mundial.\n",
    "\n",
    "También se identifica una tendencia alcista en lanzamientos hasta 2008, seguida por una baja sostenida. Esta caída se asocia a la crisis financiera global, al salto tecnológico hacia consolas más sofisticadas que extendió los ciclos de desarrollo, y al crecimiento de los juegos móviles, que desplazaron parte del mercado. Finalmente, según el tipo de juego, la crítica especializada y la opinión de los usuarios pueden influir significativamente en su éxito comercial."
   ]
  }
 ],
 "metadata": {
  "kernelspec": {
   "display_name": "Python 3 (ipykernel)",
   "language": "python",
   "name": "python3"
  },
  "language_info": {
   "codemirror_mode": {
    "name": "ipython",
    "version": 3
   },
   "file_extension": ".py",
   "mimetype": "text/x-python",
   "name": "python",
   "nbconvert_exporter": "python",
   "pygments_lexer": "ipython3",
   "version": "3.9.23"
  }
 },
 "nbformat": 4,
 "nbformat_minor": 4
}
