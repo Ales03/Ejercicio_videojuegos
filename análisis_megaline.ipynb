{
 "cells": [
  {
   "cell_type": "markdown",
   "metadata": {
    "id": "3rYiDeEH0q0f"
   },
   "source": [
    "# ¿Cuál es la mejor tarifa?\n",
    "\n",
    "Trabajas como analista para el operador de telecomunicaciones Megaline. La empresa ofrece a sus clientes dos tarifas de prepago, Surf y Ultimate. El departamento comercial quiere saber cuál de las tarifas genera más ingresos para poder ajustar el presupuesto de publicidad.\n",
    "\n",
    "Vas a realizar un análisis preliminar de las tarifas basado en una selección de clientes relativamente pequeña. Tendrás los datos de 500 clientes de Megaline: quiénes son los clientes, de dónde son, qué tarifa usan, así como la cantidad de llamadas que hicieron y los mensajes de texto que enviaron en 2018. Tu trabajo es analizar el comportamiento de los clientes y determinar qué tarifa de prepago genera más ingresos."
   ]
  },
  {
   "cell_type": "markdown",
   "metadata": {
    "id": "VNddPNRQ0q0w"
   },
   "source": [
    "**Objetivo: analizar el comportamiento de los clientes y determinar qué tarifa de prepago genera más ingresos.**\n",
    "\n",
    "Pasos a seguir:\n",
    "\n",
    "1. Diagnósticos de los datos\n",
    "2. Procesamiento de los datos\n",
    "3. Juntar las bases de información en uno solo.\n",
    "4. Análisis y gráficos\n",
    "5. Conclusiones generales"
   ]
  },
  {
   "cell_type": "markdown",
   "metadata": {
    "id": "MQi4IPy70q0y"
   },
   "source": [
    "## Inicialización"
   ]
  },
  {
   "cell_type": "code",
   "execution_count": 1,
   "metadata": {
    "id": "MtYIuBxu0q0z"
   },
   "outputs": [],
   "source": [
    "# Cargar todas las librerías\n",
    "from scipy import stats as st\n",
    "import numpy as np\n",
    "import pandas as pd\n",
    "from matplotlib import pyplot as plt\n",
    "import seaborn as sns"
   ]
  },
  {
   "cell_type": "markdown",
   "metadata": {
    "id": "4ysWWC5i0q00"
   },
   "source": [
    "## Cargar datos"
   ]
  },
  {
   "cell_type": "code",
   "execution_count": 2,
   "metadata": {
    "id": "CCqPW7rS0q01"
   },
   "outputs": [],
   "source": [
    "# Carga los archivos de datos en diferentes DataFrames\n",
    "\n",
    "users = pd.read_csv('/datasets/megaline_users.csv')\n",
    "calls = pd.read_csv('/datasets/megaline_calls.csv')\n",
    "messages = pd.read_csv('/datasets/megaline_messages.csv')\n",
    "internet = pd.read_csv('/datasets/megaline_internet.csv')\n",
    "plans = pd.read_csv('/datasets/megaline_plans.csv')\n"
   ]
  },
  {
   "cell_type": "markdown",
   "metadata": {
    "id": "69qqoJ3r0q01"
   },
   "source": [
    "## Preparar los datos"
   ]
  },
  {
   "cell_type": "markdown",
   "metadata": {
    "id": "vUuZw80S0q01"
   },
   "source": [
    "#Voy a crear una función para poder diagnosticar cómo vienen los datos."
   ]
  },
  {
   "cell_type": "code",
   "execution_count": 3,
   "metadata": {},
   "outputs": [],
   "source": [
    "def fun_diagnostico(df):\n",
    "    print('Estructura general:')\n",
    "    print(df.info())\n",
    "    print()\n",
    "    print('Muestra de los datos:')\n",
    "    print(df.sample(10))"
   ]
  },
  {
   "cell_type": "markdown",
   "metadata": {
    "id": "ohBhimvH0q01"
   },
   "source": [
    "## Tarifas"
   ]
  },
  {
   "cell_type": "code",
   "execution_count": 4,
   "metadata": {
    "id": "GptqP3Q40q02"
   },
   "outputs": [
    {
     "name": "stdout",
     "output_type": "stream",
     "text": [
      "<class 'pandas.core.frame.DataFrame'>\n",
      "RangeIndex: 2 entries, 0 to 1\n",
      "Data columns (total 8 columns):\n",
      " #   Column                 Non-Null Count  Dtype  \n",
      "---  ------                 --------------  -----  \n",
      " 0   messages_included      2 non-null      int64  \n",
      " 1   mb_per_month_included  2 non-null      int64  \n",
      " 2   minutes_included       2 non-null      int64  \n",
      " 3   usd_monthly_pay        2 non-null      int64  \n",
      " 4   usd_per_gb             2 non-null      int64  \n",
      " 5   usd_per_message        2 non-null      float64\n",
      " 6   usd_per_minute         2 non-null      float64\n",
      " 7   plan_name              2 non-null      object \n",
      "dtypes: float64(2), int64(5), object(1)\n",
      "memory usage: 256.0+ bytes\n",
      "None\n"
     ]
    }
   ],
   "source": [
    "# Imprime la información general/resumida sobre el DataFrame de las tarifas\n",
    "print(plans.info())"
   ]
  },
  {
   "cell_type": "code",
   "execution_count": 5,
   "metadata": {},
   "outputs": [
    {
     "name": "stdout",
     "output_type": "stream",
     "text": [
      "   messages_included  mb_per_month_included  minutes_included  \\\n",
      "0                 50                  15360               500   \n",
      "1               1000                  30720              3000   \n",
      "\n",
      "   usd_monthly_pay  usd_per_gb  usd_per_message  usd_per_minute plan_name  \n",
      "0               20          10             0.03            0.03      surf  \n",
      "1               70           7             0.01            0.01  ultimate  \n"
     ]
    }
   ],
   "source": [
    "#Imprime un ejemplo\n",
    "print(plans.head())"
   ]
  },
  {
   "cell_type": "markdown",
   "metadata": {
    "id": "mEc_3_hs0q02"
   },
   "source": [
    "Este DF solo contiene 2 variables (los 2 planes que tiene la compañía). No hay datos nulos. La variable 'mb_per_month_included', la podemos transformar a GB, para que concuerde con 'usd_per_gb'. El nombre del plan se puede cambiar al principio para mejor entendimiento."
   ]
  },
  {
   "cell_type": "markdown",
   "metadata": {
    "collapsed": false,
    "id": "R3C05i1l0q03",
    "jupyter": {
     "outputs_hidden": false
    }
   },
   "source": [
    "## Corregir datos"
   ]
  },
  {
   "cell_type": "markdown",
   "metadata": {
    "id": "bIi8StZI0q03"
   },
   "source": [
    "#Cambiar mb por gb (la base técnica estándar es 1024 MB = 1 GB):"
   ]
  },
  {
   "cell_type": "code",
   "execution_count": 6,
   "metadata": {
    "id": "Y7SVmjGn0q03"
   },
   "outputs": [],
   "source": [
    "plans = plans.rename(columns = {\"mb_per_month_included\":\"gb_per_month_included\"})\n",
    "plans['gb_per_month_included'] = plans['gb_per_month_included'] / 1024"
   ]
  },
  {
   "cell_type": "code",
   "execution_count": 7,
   "metadata": {},
   "outputs": [
    {
     "name": "stdout",
     "output_type": "stream",
     "text": [
      "   messages_included  gb_per_month_included  minutes_included  \\\n",
      "0                 50                   15.0               500   \n",
      "1               1000                   30.0              3000   \n",
      "\n",
      "   usd_monthly_pay  usd_per_gb  usd_per_message  usd_per_minute plan_name  \n",
      "0               20          10             0.03            0.03      surf  \n",
      "1               70           7             0.01            0.01  ultimate  \n"
     ]
    }
   ],
   "source": [
    "print(plans.head())"
   ]
  },
  {
   "cell_type": "code",
   "execution_count": 8,
   "metadata": {},
   "outputs": [],
   "source": [
    "#La columna de 'plan_name' pasarla al principio"
   ]
  },
  {
   "cell_type": "code",
   "execution_count": 9,
   "metadata": {},
   "outputs": [],
   "source": [
    "col = 'plan_name'\n",
    "cols = [col] + [c for c in plans.columns if c != col]\n",
    "plans = plans[cols]"
   ]
  },
  {
   "cell_type": "code",
   "execution_count": 10,
   "metadata": {},
   "outputs": [
    {
     "name": "stdout",
     "output_type": "stream",
     "text": [
      "  plan_name  messages_included  gb_per_month_included  minutes_included  \\\n",
      "0      surf                 50                   15.0               500   \n",
      "1  ultimate               1000                   30.0              3000   \n",
      "\n",
      "   usd_monthly_pay  usd_per_gb  usd_per_message  usd_per_minute  \n",
      "0               20          10             0.03            0.03  \n",
      "1               70           7             0.01            0.01  \n"
     ]
    }
   ],
   "source": [
    "print(plans.head())"
   ]
  },
  {
   "cell_type": "code",
   "execution_count": 11,
   "metadata": {},
   "outputs": [
    {
     "name": "stdout",
     "output_type": "stream",
     "text": [
      "Duplicados: 0\n"
     ]
    }
   ],
   "source": [
    "#Verificar si hay duplicados:\n",
    "print(f\"Duplicados: {plans.duplicated().sum()}\")"
   ]
  },
  {
   "cell_type": "markdown",
   "metadata": {
    "id": "1n2X6WXf0q04"
   },
   "source": [
    "## Usuarios/as"
   ]
  },
  {
   "cell_type": "code",
   "execution_count": 12,
   "metadata": {
    "id": "2NgjWFqx0q05"
   },
   "outputs": [
    {
     "name": "stdout",
     "output_type": "stream",
     "text": [
      "Estructura general:\n",
      "<class 'pandas.core.frame.DataFrame'>\n",
      "RangeIndex: 500 entries, 0 to 499\n",
      "Data columns (total 8 columns):\n",
      " #   Column      Non-Null Count  Dtype \n",
      "---  ------      --------------  ----- \n",
      " 0   user_id     500 non-null    int64 \n",
      " 1   first_name  500 non-null    object\n",
      " 2   last_name   500 non-null    object\n",
      " 3   age         500 non-null    int64 \n",
      " 4   city        500 non-null    object\n",
      " 5   reg_date    500 non-null    object\n",
      " 6   plan        500 non-null    object\n",
      " 7   churn_date  34 non-null     object\n",
      "dtypes: int64(2), object(6)\n",
      "memory usage: 31.4+ KB\n",
      "None\n",
      "\n",
      "Muestra de los datos:\n",
      "     user_id first_name  last_name  age  \\\n",
      "356     1356        Hae       Ryan   46   \n",
      "249     1249      Kelly    Goodman   41   \n",
      "250     1250      Milan    Sellers   57   \n",
      "25      1025       Jess  Wilkinson   64   \n",
      "36      1036      Myron      Hodge   70   \n",
      "269     1269     Irving   Thompson   39   \n",
      "126     1126   Jermaine    Mcguire   68   \n",
      "387     1387   Raymonde       Lowe   28   \n",
      "464     1464       Burt      Burke   70   \n",
      "377     1377     Vallie     Conway   18   \n",
      "\n",
      "                                         city    reg_date      plan  \\\n",
      "356                Milwaukee-Waukesha, WI MSA  2018-05-16      surf   \n",
      "249                  Cincinnati, OH-KY-IN MSA  2018-05-14  ultimate   \n",
      "250  Houston-The Woodlands-Sugar Land, TX MSA  2018-04-03  ultimate   \n",
      "25      Atlanta-Sandy Springs-Roswell, GA MSA  2018-10-28  ultimate   \n",
      "36             Denver-Aurora-Lakewood, CO MSA  2018-05-09  ultimate   \n",
      "269       Dallas-Fort Worth-Arlington, TX MSA  2018-09-13  ultimate   \n",
      "126    Chicago-Naperville-Elgin, IL-IN-WI MSA  2018-06-02  ultimate   \n",
      "387       Bridgeport-Stamford-Norwalk, CT MSA  2018-05-25      surf   \n",
      "464             Providence-Warwick, RI-MA MSA  2018-11-07      surf   \n",
      "377                         Rochester, NY MSA  2018-03-27      surf   \n",
      "\n",
      "     churn_date  \n",
      "356         NaN  \n",
      "249         NaN  \n",
      "250         NaN  \n",
      "25          NaN  \n",
      "36          NaN  \n",
      "269  2018-12-15  \n",
      "126         NaN  \n",
      "387         NaN  \n",
      "464         NaN  \n",
      "377         NaN  \n"
     ]
    }
   ],
   "source": [
    "# Imprime la información general/resumida sobre el DataFrame de usuarios\n",
    "fun_diagnostico(users)"
   ]
  },
  {
   "cell_type": "markdown",
   "metadata": {
    "id": "dCZoUq4f0q06"
   },
   "source": [
    "Casi no hay valores ausentes, excepto por la variable 'churn-date', pero no parece afectar el análisis general, ya que quiere decir que el usuario sigue activo.  La variable 'reg_date' y 'churn_date' no tienen el formato adecuado."
   ]
  },
  {
   "cell_type": "markdown",
   "metadata": {
    "id": "BX5FQh_I0q06"
   },
   "source": [
    "### Corregir los datos"
   ]
  },
  {
   "cell_type": "markdown",
   "metadata": {
    "id": "8OdKMwJv0q06"
   },
   "source": [
    "#Cambiar a tipo datetime:"
   ]
  },
  {
   "cell_type": "code",
   "execution_count": 13,
   "metadata": {
    "id": "yUqX-K0C0q07",
    "scrolled": true
   },
   "outputs": [],
   "source": [
    "users['churn_date'] = pd.to_datetime(users['churn_date'])\n",
    "users['reg_date'] = pd.to_datetime(users['reg_date'])"
   ]
  },
  {
   "cell_type": "code",
   "execution_count": 14,
   "metadata": {},
   "outputs": [
    {
     "name": "stdout",
     "output_type": "stream",
     "text": [
      "<class 'pandas.core.frame.DataFrame'>\n",
      "RangeIndex: 500 entries, 0 to 499\n",
      "Data columns (total 8 columns):\n",
      " #   Column      Non-Null Count  Dtype         \n",
      "---  ------      --------------  -----         \n",
      " 0   user_id     500 non-null    int64         \n",
      " 1   first_name  500 non-null    object        \n",
      " 2   last_name   500 non-null    object        \n",
      " 3   age         500 non-null    int64         \n",
      " 4   city        500 non-null    object        \n",
      " 5   reg_date    500 non-null    datetime64[ns]\n",
      " 6   plan        500 non-null    object        \n",
      " 7   churn_date  34 non-null     datetime64[ns]\n",
      "dtypes: datetime64[ns](2), int64(2), object(4)\n",
      "memory usage: 31.4+ KB\n"
     ]
    }
   ],
   "source": [
    "users.info()"
   ]
  },
  {
   "cell_type": "code",
   "execution_count": 15,
   "metadata": {},
   "outputs": [
    {
     "name": "stdout",
     "output_type": "stream",
     "text": [
      "Duplicados: 0\n"
     ]
    }
   ],
   "source": [
    "#Revisar si hay duplicados:\n",
    "print(f\"Duplicados: {users.duplicated().sum()}\")"
   ]
  },
  {
   "cell_type": "code",
   "execution_count": 16,
   "metadata": {},
   "outputs": [
    {
     "name": "stdout",
     "output_type": "stream",
     "text": [
      "user_id: 500 únicos\n",
      "first_name: 458 únicos\n",
      "last_name: 399 únicos\n",
      "age: 58 únicos\n",
      "city: 73 únicos\n",
      "reg_date: 266 únicos\n",
      "plan: 2 únicos\n",
      "churn_date: 29 únicos\n"
     ]
    }
   ],
   "source": [
    "#Revisar valores únicos por columna:\n",
    "for col in users.columns:\n",
    "    print(f\"{col}: {users[col].nunique()} únicos\")"
   ]
  },
  {
   "cell_type": "markdown",
   "metadata": {
    "id": "ycwuARJp0q07"
   },
   "source": [
    "### Enriquecer los datos"
   ]
  },
  {
   "cell_type": "code",
   "execution_count": 17,
   "metadata": {},
   "outputs": [
    {
     "name": "stdout",
     "output_type": "stream",
     "text": [
      "surf        339\n",
      "ultimate    161\n",
      "Name: plan, dtype: int64\n"
     ]
    }
   ],
   "source": [
    "#contar el numero de usuarios que tienen el plan surf y los que tienen el plan ultimate\n",
    "print(users['plan'].value_counts())"
   ]
  },
  {
   "cell_type": "code",
   "execution_count": 18,
   "metadata": {},
   "outputs": [],
   "source": [
    "#Hay muchos más clientes que pertenecen al plan Surf, lo cual tiene sentido al ser más económico."
   ]
  },
  {
   "cell_type": "markdown",
   "metadata": {
    "id": "96NIh4CJ0q08"
   },
   "source": [
    "#pasar la columna de 'plan' al principio para mejor entendimiento."
   ]
  },
  {
   "cell_type": "code",
   "execution_count": 19,
   "metadata": {
    "id": "iq0AaBS90q08"
   },
   "outputs": [
    {
     "name": "stdout",
     "output_type": "stream",
     "text": [
      "       plan  user_id first_name  last_name  age  \\\n",
      "0  ultimate     1000   Anamaria      Bauer   45   \n",
      "1      surf     1001     Mickey  Wilkerson   28   \n",
      "2      surf     1002     Carlee    Hoffman   36   \n",
      "3      surf     1003   Reynaldo    Jenkins   52   \n",
      "4      surf     1004    Leonila   Thompson   40   \n",
      "\n",
      "                                    city   reg_date churn_date  \n",
      "0  Atlanta-Sandy Springs-Roswell, GA MSA 2018-12-24        NaT  \n",
      "1        Seattle-Tacoma-Bellevue, WA MSA 2018-08-13        NaT  \n",
      "2   Las Vegas-Henderson-Paradise, NV MSA 2018-10-21        NaT  \n",
      "3                          Tulsa, OK MSA 2018-01-28        NaT  \n",
      "4        Seattle-Tacoma-Bellevue, WA MSA 2018-05-23        NaT  \n"
     ]
    }
   ],
   "source": [
    "col = 'plan'\n",
    "cols = [col] + [c for c in users.columns if c != col]\n",
    "users = users[cols]\n",
    "print(users.head(5))"
   ]
  },
  {
   "cell_type": "code",
   "execution_count": 20,
   "metadata": {},
   "outputs": [],
   "source": [
    "#Agregar una columna booleana para filtrar usuarios activos:\n",
    "users['is_active'] = users['churn_date'].isna()"
   ]
  },
  {
   "cell_type": "code",
   "execution_count": 21,
   "metadata": {},
   "outputs": [
    {
     "name": "stdout",
     "output_type": "stream",
     "text": [
      "       plan  user_id first_name  last_name  age  \\\n",
      "0  ultimate     1000   Anamaria      Bauer   45   \n",
      "1      surf     1001     Mickey  Wilkerson   28   \n",
      "2      surf     1002     Carlee    Hoffman   36   \n",
      "3      surf     1003   Reynaldo    Jenkins   52   \n",
      "4      surf     1004    Leonila   Thompson   40   \n",
      "\n",
      "                                    city   reg_date churn_date  is_active  \n",
      "0  Atlanta-Sandy Springs-Roswell, GA MSA 2018-12-24        NaT       True  \n",
      "1        Seattle-Tacoma-Bellevue, WA MSA 2018-08-13        NaT       True  \n",
      "2   Las Vegas-Henderson-Paradise, NV MSA 2018-10-21        NaT       True  \n",
      "3                          Tulsa, OK MSA 2018-01-28        NaT       True  \n",
      "4        Seattle-Tacoma-Bellevue, WA MSA 2018-05-23        NaT       True  \n"
     ]
    }
   ],
   "source": [
    "print(users.head(5))"
   ]
  },
  {
   "cell_type": "markdown",
   "metadata": {
    "id": "o7MeKCid0q08"
   },
   "source": [
    "## Llamadas"
   ]
  },
  {
   "cell_type": "code",
   "execution_count": 22,
   "metadata": {
    "id": "6dDlnoDm0q08"
   },
   "outputs": [
    {
     "name": "stdout",
     "output_type": "stream",
     "text": [
      "Estructura general:\n",
      "<class 'pandas.core.frame.DataFrame'>\n",
      "RangeIndex: 137735 entries, 0 to 137734\n",
      "Data columns (total 4 columns):\n",
      " #   Column     Non-Null Count   Dtype  \n",
      "---  ------     --------------   -----  \n",
      " 0   id         137735 non-null  object \n",
      " 1   user_id    137735 non-null  int64  \n",
      " 2   call_date  137735 non-null  object \n",
      " 3   duration   137735 non-null  float64\n",
      "dtypes: float64(1), int64(1), object(2)\n",
      "memory usage: 4.2+ MB\n",
      "None\n",
      "\n",
      "Muestra de los datos:\n",
      "               id  user_id   call_date  duration\n",
      "113191  1397_1005     1397  2018-11-17      0.00\n",
      "7415       1036_7     1036  2018-10-08     19.70\n",
      "97677    1348_499     1348  2018-11-21      0.00\n",
      "132048   1475_195     1475  2018-11-01      3.96\n",
      "102510   1363_123     1363  2018-10-29      1.73\n",
      "26284    1099_611     1099  2018-11-01      6.48\n",
      "29501    1111_142     1111  2018-11-13     14.26\n",
      "105071   1370_172     1370  2018-12-11      6.82\n",
      "117646   1411_255     1411  2018-10-10      7.50\n",
      "78786    1281_584     1281  2018-08-28      9.96\n"
     ]
    }
   ],
   "source": [
    "# Imprime la información general/resumida sobre el DataFrame de las llamadas\n",
    "fun_diagnostico(calls)"
   ]
  },
  {
   "cell_type": "markdown",
   "metadata": {
    "id": "DOAxYJSx0q09"
   },
   "source": [
    "La variable 'call_date' no está en el formato adecuado. Veo que hay llamadas con duración = 0, podría significar ¿intentos fallidos? ¿llamadas sin respuesta? La duración podríamos redondearla ya que se cobra el minuto completo. "
   ]
  },
  {
   "cell_type": "markdown",
   "metadata": {
    "id": "S7hzxmbX0q0-"
   },
   "source": [
    "### Corregir los datos"
   ]
  },
  {
   "cell_type": "markdown",
   "metadata": {
    "id": "YxWyAjD20q0-"
   },
   "source": [
    "#Convertir 'call_date' a tipo datetime:"
   ]
  },
  {
   "cell_type": "code",
   "execution_count": 23,
   "metadata": {
    "id": "S2r8xA4f0q0-"
   },
   "outputs": [
    {
     "name": "stdout",
     "output_type": "stream",
     "text": [
      "<class 'pandas.core.frame.DataFrame'>\n",
      "RangeIndex: 137735 entries, 0 to 137734\n",
      "Data columns (total 4 columns):\n",
      " #   Column     Non-Null Count   Dtype         \n",
      "---  ------     --------------   -----         \n",
      " 0   id         137735 non-null  object        \n",
      " 1   user_id    137735 non-null  int64         \n",
      " 2   call_date  137735 non-null  datetime64[ns]\n",
      " 3   duration   137735 non-null  float64       \n",
      "dtypes: datetime64[ns](1), float64(1), int64(1), object(1)\n",
      "memory usage: 4.2+ MB\n"
     ]
    }
   ],
   "source": [
    "calls['call_date'] = pd.to_datetime(calls['call_date'])\n",
    "calls.info()"
   ]
  },
  {
   "cell_type": "code",
   "execution_count": 24,
   "metadata": {},
   "outputs": [
    {
     "name": "stdout",
     "output_type": "stream",
     "text": [
      "Llamadas duplicadas: 0\n"
     ]
    }
   ],
   "source": [
    "#Verificar si hay duplicados:\n",
    "print(f\"Llamadas duplicadas: {calls.duplicated().sum()}\")"
   ]
  },
  {
   "cell_type": "code",
   "execution_count": 25,
   "metadata": {},
   "outputs": [
    {
     "data": {
      "text/plain": [
       "id           0\n",
       "user_id      0\n",
       "call_date    0\n",
       "duration     0\n",
       "dtype: int64"
      ]
     },
     "execution_count": 25,
     "metadata": {},
     "output_type": "execute_result"
    }
   ],
   "source": [
    "#Verificar si hay faltantes:\n",
    "calls.isna().sum()"
   ]
  },
  {
   "cell_type": "code",
   "execution_count": 26,
   "metadata": {
    "id": "iZ1avpA_0q0_"
   },
   "outputs": [
    {
     "name": "stdout",
     "output_type": "stream",
     "text": [
      "Llamadas con duración 0: 26834\n"
     ]
    }
   ],
   "source": [
    "#Ver cuántas llamadas hay con duración = 0\n",
    "zero_duration_calls = calls[calls['duration'] == 0]\n",
    "print(f\"Llamadas con duración 0: {len(zero_duration_calls)}\")"
   ]
  },
  {
   "cell_type": "code",
   "execution_count": 27,
   "metadata": {},
   "outputs": [],
   "source": [
    "#¡Son muchas! Como éstas no afectan a las tarifas, ¿tal vez convenga quitarlas?"
   ]
  },
  {
   "cell_type": "markdown",
   "metadata": {
    "id": "KrMgTrlG0q0_"
   },
   "source": [
    "### Enriquecer los datos"
   ]
  },
  {
   "cell_type": "markdown",
   "metadata": {
    "id": "a9MbmEvE0q0_"
   },
   "source": [
    "#Crear nueva columna para redondear la duración de las llamadas:"
   ]
  },
  {
   "cell_type": "code",
   "execution_count": 28,
   "metadata": {},
   "outputs": [
    {
     "name": "stdout",
     "output_type": "stream",
     "text": [
      "              id  user_id  call_date  duration  rounded_duration\n",
      "98566   1353_273     1353 2018-10-25     14.44                15\n",
      "130890  1470_339     1470 2018-11-29      0.00                 0\n",
      "55184   1197_163     1197 2018-12-14      0.00                 0\n",
      "34327   1127_148     1127 2018-07-30     15.53                16\n",
      "135853   1493_15     1493 2018-11-06      6.29                 7\n",
      "46052   1167_135     1167 2018-11-25      5.72                 6\n",
      "104370   1368_43     1368 2018-08-14      0.00                 0\n",
      "24050   1090_230     1090 2018-05-24      0.00                 0\n",
      "109888  1387_260     1387 2018-11-12      6.12                 7\n",
      "39233   1146_396     1146 2018-12-30     18.76                19\n"
     ]
    }
   ],
   "source": [
    "calls['rounded_duration'] = np.ceil(calls['duration']).astype('int')\n",
    "print(calls.sample(10))"
   ]
  },
  {
   "cell_type": "code",
   "execution_count": 29,
   "metadata": {},
   "outputs": [],
   "source": [
    "#Crear una nueva columna para agrupar los datos por mes:\n",
    "calls['month'] = calls['call_date'].dt.to_period('M')"
   ]
  },
  {
   "cell_type": "code",
   "execution_count": 30,
   "metadata": {},
   "outputs": [
    {
     "name": "stdout",
     "output_type": "stream",
     "text": [
      "         id  user_id  call_date  duration  rounded_duration    month\n",
      "0   1000_93     1000 2018-12-27      8.52                 9  2018-12\n",
      "1  1000_145     1000 2018-12-27     13.66                14  2018-12\n",
      "2  1000_247     1000 2018-12-27     14.48                15  2018-12\n",
      "3  1000_309     1000 2018-12-28      5.76                 6  2018-12\n",
      "4  1000_380     1000 2018-12-30      4.22                 5  2018-12\n"
     ]
    }
   ],
   "source": [
    "print(calls.head())"
   ]
  },
  {
   "cell_type": "markdown",
   "metadata": {
    "id": "mOUZSi180q0_"
   },
   "source": [
    "## Mensajes"
   ]
  },
  {
   "cell_type": "code",
   "execution_count": 31,
   "metadata": {
    "id": "R-bYJpdV0q1A"
   },
   "outputs": [
    {
     "name": "stdout",
     "output_type": "stream",
     "text": [
      "Estructura general:\n",
      "<class 'pandas.core.frame.DataFrame'>\n",
      "RangeIndex: 76051 entries, 0 to 76050\n",
      "Data columns (total 3 columns):\n",
      " #   Column        Non-Null Count  Dtype \n",
      "---  ------        --------------  ----- \n",
      " 0   id            76051 non-null  object\n",
      " 1   user_id       76051 non-null  int64 \n",
      " 2   message_date  76051 non-null  object\n",
      "dtypes: int64(1), object(2)\n",
      "memory usage: 1.7+ MB\n",
      "None\n",
      "\n",
      "Muestra de los datos:\n",
      "             id  user_id message_date\n",
      "27661  1172_118     1172   2018-10-31\n",
      "4416   1043_663     1043   2018-09-07\n",
      "22315  1133_340     1133   2018-09-10\n",
      "55377  1348_109     1348   2018-11-03\n",
      "8986   1066_159     1066   2018-03-09\n",
      "58941  1374_115     1374   2018-07-10\n",
      "14576  1099_139     1099   2018-04-02\n",
      "45523    1312_7     1312   2018-07-02\n",
      "63045  1399_110     1399   2018-10-12\n",
      "54767  1346_273     1346   2018-06-15\n"
     ]
    }
   ],
   "source": [
    "# Imprime la información general/resumida sobre el DataFrame de los mensajes\n",
    "fun_diagnostico(messages)"
   ]
  },
  {
   "cell_type": "markdown",
   "metadata": {
    "id": "04xDj7KH0q1A"
   },
   "source": [
    "Es una base más simple y parece completa. Al parecer no hay datos ausentes. El type de 'message_date' no es el adecuado. El formato de los nombres está bien. "
   ]
  },
  {
   "cell_type": "markdown",
   "metadata": {
    "id": "Sprfak900q1B"
   },
   "source": [
    "### Corregir los datos"
   ]
  },
  {
   "cell_type": "markdown",
   "metadata": {
    "id": "eGw7d9j10q1B"
   },
   "source": [
    "#Convertir 'message_date' a tipo datetime:"
   ]
  },
  {
   "cell_type": "code",
   "execution_count": 32,
   "metadata": {
    "id": "vsllvkoa0q1B"
   },
   "outputs": [
    {
     "name": "stdout",
     "output_type": "stream",
     "text": [
      "<class 'pandas.core.frame.DataFrame'>\n",
      "RangeIndex: 76051 entries, 0 to 76050\n",
      "Data columns (total 3 columns):\n",
      " #   Column        Non-Null Count  Dtype         \n",
      "---  ------        --------------  -----         \n",
      " 0   id            76051 non-null  object        \n",
      " 1   user_id       76051 non-null  int64         \n",
      " 2   message_date  76051 non-null  datetime64[ns]\n",
      "dtypes: datetime64[ns](1), int64(1), object(1)\n",
      "memory usage: 1.7+ MB\n"
     ]
    }
   ],
   "source": [
    "messages['message_date'] = pd.to_datetime(messages['message_date'])\n",
    "messages.info()"
   ]
  },
  {
   "cell_type": "code",
   "execution_count": 33,
   "metadata": {},
   "outputs": [
    {
     "name": "stdout",
     "output_type": "stream",
     "text": [
      "Mensajes duplicados: 0\n"
     ]
    }
   ],
   "source": [
    "#Verificar si hay duplicados:\n",
    "print(f\"Mensajes duplicados: {messages.duplicated().sum()}\")"
   ]
  },
  {
   "cell_type": "code",
   "execution_count": 34,
   "metadata": {},
   "outputs": [
    {
     "data": {
      "text/plain": [
       "id                  0\n",
       "user_id             0\n",
       "call_date           0\n",
       "duration            0\n",
       "rounded_duration    0\n",
       "month               0\n",
       "dtype: int64"
      ]
     },
     "execution_count": 34,
     "metadata": {},
     "output_type": "execute_result"
    }
   ],
   "source": [
    "#Verificar si hay faltantes:\n",
    "calls.isna().sum()"
   ]
  },
  {
   "cell_type": "markdown",
   "metadata": {
    "id": "HvLid7iD0q1B"
   },
   "source": [
    "### Enriquecer los datos"
   ]
  },
  {
   "cell_type": "markdown",
   "metadata": {
    "id": "8nhPFKIe0q1C"
   },
   "source": [
    "#analizar la frecuencia diaria o mensual"
   ]
  },
  {
   "cell_type": "code",
   "execution_count": 35,
   "metadata": {
    "id": "zYEXZac10q1C"
   },
   "outputs": [
    {
     "name": "stdout",
     "output_type": "stream",
     "text": [
      "message_date\n",
      "2018-03-11     20\n",
      "2018-08-12    227\n",
      "2018-11-15    454\n",
      "2018-03-07      8\n",
      "2018-11-20    493\n",
      "2018-09-20    322\n",
      "2018-07-14    162\n",
      "2018-09-15    282\n",
      "2018-02-24     14\n",
      "2018-03-17     19\n",
      "dtype: int64\n"
     ]
    }
   ],
   "source": [
    "sms_by_day = messages.groupby('message_date').size()\n",
    "print(sms_by_day.sample(10))"
   ]
  },
  {
   "cell_type": "code",
   "execution_count": 36,
   "metadata": {},
   "outputs": [],
   "source": [
    "#Agregar columna para separar datos por mes:\n",
    "messages['month'] = messages['message_date'].dt.to_period('M')"
   ]
  },
  {
   "cell_type": "code",
   "execution_count": 37,
   "metadata": {},
   "outputs": [
    {
     "name": "stdout",
     "output_type": "stream",
     "text": [
      "         id  user_id message_date    month\n",
      "0  1000_125     1000   2018-12-27  2018-12\n",
      "1  1000_160     1000   2018-12-31  2018-12\n",
      "2  1000_223     1000   2018-12-31  2018-12\n",
      "3  1000_251     1000   2018-12-27  2018-12\n",
      "4  1000_255     1000   2018-12-26  2018-12\n",
      "5  1000_346     1000   2018-12-29  2018-12\n",
      "6  1000_386     1000   2018-12-30  2018-12\n",
      "7  1000_413     1000   2018-12-31  2018-12\n",
      "8  1000_502     1000   2018-12-27  2018-12\n",
      "9  1000_525     1000   2018-12-28  2018-12\n"
     ]
    }
   ],
   "source": [
    "print(messages.head(10))"
   ]
  },
  {
   "cell_type": "markdown",
   "metadata": {
    "id": "bStkaxn40q1C"
   },
   "source": [
    "## Internet"
   ]
  },
  {
   "cell_type": "code",
   "execution_count": 38,
   "metadata": {
    "id": "e-Uz5qyn0q1C"
   },
   "outputs": [
    {
     "name": "stdout",
     "output_type": "stream",
     "text": [
      "Estructura general:\n",
      "<class 'pandas.core.frame.DataFrame'>\n",
      "RangeIndex: 104825 entries, 0 to 104824\n",
      "Data columns (total 4 columns):\n",
      " #   Column        Non-Null Count   Dtype  \n",
      "---  ------        --------------   -----  \n",
      " 0   id            104825 non-null  object \n",
      " 1   user_id       104825 non-null  int64  \n",
      " 2   session_date  104825 non-null  object \n",
      " 3   mb_used       104825 non-null  float64\n",
      "dtypes: float64(1), int64(1), object(2)\n",
      "memory usage: 3.2+ MB\n",
      "None\n",
      "\n",
      "Muestra de los datos:\n",
      "              id  user_id session_date  mb_used\n",
      "29864    1138_90     1138   2018-09-12     0.00\n",
      "59594   1268_263     1268   2018-07-29   259.33\n",
      "64106    1294_27     1294   2018-10-04   549.05\n",
      "78377    1366_66     1366   2018-09-22   480.87\n",
      "85874     1400_2     1400   2018-09-19    42.09\n",
      "33780   1153_334     1153   2018-08-14   347.30\n",
      "30181   1138_417     1138   2018-05-10  1091.98\n",
      "103708   1496_16     1496   2018-09-08   685.57\n",
      "40639   1182_362     1182   2018-11-15     0.00\n",
      "95664   1446_142     1446   2018-12-15   215.31\n"
     ]
    }
   ],
   "source": [
    "# Imprime la información general/resumida sobre el DataFrame de internet\n",
    "fun_diagnostico(internet)"
   ]
  },
  {
   "cell_type": "markdown",
   "metadata": {
    "id": "EzOG5ik30q1D"
   },
   "source": [
    "Parece que no hay datos ausentes. La columna 'session_date' no tiene el type adecuado. La columna 'mb_used' podemos cambiarla a GB y redondearla, ya que se cobra la tarifa completa."
   ]
  },
  {
   "cell_type": "markdown",
   "metadata": {
    "id": "yA0tkPFg0q1D"
   },
   "source": [
    "### Corregir los datos"
   ]
  },
  {
   "cell_type": "markdown",
   "metadata": {
    "id": "zlZMuIEK0q1D"
   },
   "source": [
    "#Convertir 'session_date' a tipo datetime"
   ]
  },
  {
   "cell_type": "code",
   "execution_count": 39,
   "metadata": {
    "id": "zVeanzdd0q1E"
   },
   "outputs": [
    {
     "name": "stdout",
     "output_type": "stream",
     "text": [
      "<class 'pandas.core.frame.DataFrame'>\n",
      "RangeIndex: 104825 entries, 0 to 104824\n",
      "Data columns (total 4 columns):\n",
      " #   Column        Non-Null Count   Dtype         \n",
      "---  ------        --------------   -----         \n",
      " 0   id            104825 non-null  object        \n",
      " 1   user_id       104825 non-null  int64         \n",
      " 2   session_date  104825 non-null  datetime64[ns]\n",
      " 3   mb_used       104825 non-null  float64       \n",
      "dtypes: datetime64[ns](1), float64(1), int64(1), object(1)\n",
      "memory usage: 3.2+ MB\n",
      "None\n"
     ]
    }
   ],
   "source": [
    "internet['session_date'] = pd.to_datetime(internet['session_date'])\n",
    "print(internet.info())"
   ]
  },
  {
   "cell_type": "code",
   "execution_count": 40,
   "metadata": {},
   "outputs": [
    {
     "name": "stdout",
     "output_type": "stream",
     "text": [
      "0\n"
     ]
    }
   ],
   "source": [
    "#Verificar si hay duplicados:\n",
    "print(internet.duplicated().sum())"
   ]
  },
  {
   "cell_type": "code",
   "execution_count": 41,
   "metadata": {},
   "outputs": [
    {
     "name": "stdout",
     "output_type": "stream",
     "text": [
      "id              0\n",
      "user_id         0\n",
      "session_date    0\n",
      "mb_used         0\n",
      "dtype: int64\n"
     ]
    }
   ],
   "source": [
    "#Verificar si hay datos nulos:\n",
    "print(internet.isna().sum())"
   ]
  },
  {
   "cell_type": "code",
   "execution_count": 42,
   "metadata": {},
   "outputs": [
    {
     "name": "stdout",
     "output_type": "stream",
     "text": [
      "Usuarios con internet igual a 0: 13747\n"
     ]
    }
   ],
   "source": [
    "#Ver cuántas sesiones web hay con duración = 0\n",
    "zero_duration_web = internet[internet['mb_used'] == 0]\n",
    "print(f\"Usuarios con internet igual a 0: {len(zero_duration_web)}\")"
   ]
  },
  {
   "cell_type": "code",
   "execution_count": 43,
   "metadata": {},
   "outputs": [],
   "source": [
    "#Esto podría significar que el usuario ¿no usó su internet?\n",
    "#o ¿que hay errores de registro?"
   ]
  },
  {
   "cell_type": "markdown",
   "metadata": {
    "id": "e8_mLF4a0q1E"
   },
   "source": [
    "### Enriquecer los datos"
   ]
  },
  {
   "cell_type": "markdown",
   "metadata": {
    "id": "xhNdn2tE0q1E"
   },
   "source": [
    "#Crear nueva columna para redondear datos a GB"
   ]
  },
  {
   "cell_type": "code",
   "execution_count": 44,
   "metadata": {},
   "outputs": [],
   "source": [
    "#Crear columna de mes:\n",
    "internet['month'] = internet['session_date'].dt.to_period('M')"
   ]
  },
  {
   "cell_type": "code",
   "execution_count": 45,
   "metadata": {},
   "outputs": [],
   "source": [
    "#Agrupar por usuario y mes, y sumar el total de MB usados\n",
    "internet_per_month = internet.groupby(['user_id', 'month'])['mb_used'].sum().reset_index()"
   ]
  },
  {
   "cell_type": "code",
   "execution_count": 46,
   "metadata": {},
   "outputs": [
    {
     "name": "stdout",
     "output_type": "stream",
     "text": [
      "      user_id    month   mb_used\n",
      "293      1064  2018-12  18268.83\n",
      "1521     1331  2018-11  15076.86\n",
      "1396     1302  2018-11  22987.59\n",
      "1118     1237  2018-12  15369.49\n",
      "1296     1277  2018-05  23037.63\n",
      "1617     1353  2018-05   4799.35\n",
      "455      1097  2018-12  19175.92\n",
      "220      1053  2018-10  16830.64\n",
      "1277     1268  2018-10  34350.54\n",
      "1236     1261  2018-03  17755.59\n"
     ]
    }
   ],
   "source": [
    "print(internet_per_month.sample(10))"
   ]
  },
  {
   "cell_type": "markdown",
   "metadata": {
    "id": "3UA2cqIW0q1E"
   },
   "source": [
    "## Estudiar las condiciones de las tarifas"
   ]
  },
  {
   "cell_type": "code",
   "execution_count": 47,
   "metadata": {
    "id": "i409op8p0q1F"
   },
   "outputs": [
    {
     "name": "stdout",
     "output_type": "stream",
     "text": [
      "  plan_name  messages_included  gb_per_month_included  minutes_included  \\\n",
      "0      surf                 50                   15.0               500   \n",
      "1  ultimate               1000                   30.0              3000   \n",
      "\n",
      "   usd_monthly_pay  usd_per_gb  usd_per_message  usd_per_minute  \n",
      "0               20          10             0.03            0.03  \n",
      "1               70           7             0.01            0.01  \n"
     ]
    }
   ],
   "source": [
    "#Print tarifas\n",
    "print(plans.head())"
   ]
  },
  {
   "cell_type": "markdown",
   "metadata": {
    "id": "hMR1tP5d0q1F"
   },
   "source": [
    "Agregar datos por usuario y por periodo para facilitar el análisis"
   ]
  },
  {
   "cell_type": "code",
   "execution_count": 48,
   "metadata": {
    "id": "A332cedB0q1G"
   },
   "outputs": [
    {
     "name": "stdout",
     "output_type": "stream",
     "text": [
      "      user_id    month  calls_count\n",
      "1032     1222  2018-11           83\n",
      "1779     1390  2018-09           91\n",
      "1057     1231  2018-06           57\n",
      "1002     1214  2018-12           59\n",
      "1672     1366  2018-10           98\n",
      "2212     1491  2018-07           60\n",
      "63       1017  2018-09           59\n",
      "1938     1420  2018-12           48\n",
      "1380     1305  2018-10           66\n",
      "1514     1335  2018-08           63\n"
     ]
    }
   ],
   "source": [
    "# Calcula el número de llamadas hechas por cada usuario al mes. Guarda el resultado.\n",
    "calls_per_month = calls.groupby(['user_id', 'month']).size().reset_index(name='calls_count')\n",
    "print(calls_per_month.sample(10))"
   ]
  },
  {
   "cell_type": "code",
   "execution_count": 49,
   "metadata": {
    "id": "aw2cmuql0q1G"
   },
   "outputs": [
    {
     "name": "stdout",
     "output_type": "stream",
     "text": [
      "      user_id    month  rounded_duration\n",
      "1910     1415  2018-07               587\n",
      "1601     1355  2018-10               474\n",
      "1574     1347  2018-11               425\n",
      "1706     1374  2018-07               380\n",
      "1449     1322  2018-11               172\n",
      "1711     1374  2018-12               272\n",
      "932      1199  2018-09               434\n",
      "1260     1273  2018-10               237\n",
      "369      1077  2018-10               537\n",
      "772      1164  2018-12               350\n"
     ]
    }
   ],
   "source": [
    "# Calcula la cantidad de minutos usados por cada usuario al mes. Guarda el resultado.\n",
    "minutes_per_month = calls.groupby(['user_id', 'month'])['rounded_duration'].sum().reset_index()\n",
    "print(minutes_per_month.sample(10))"
   ]
  },
  {
   "cell_type": "code",
   "execution_count": 50,
   "metadata": {
    "id": "CcQvNHn60q1G"
   },
   "outputs": [
    {
     "name": "stdout",
     "output_type": "stream",
     "text": [
      "      user_id    month  messages_count\n",
      "1624     1444  2018-11              49\n",
      "1700     1466  2018-11              38\n",
      "970      1257  2018-06              32\n",
      "1517     1408  2018-12              32\n",
      "1538     1416  2018-12              49\n",
      "617      1167  2018-05              16\n",
      "1421     1382  2018-06              14\n",
      "1143     1312  2018-04              38\n",
      "959      1255  2018-08              54\n",
      "1633     1446  2018-09              12\n"
     ]
    }
   ],
   "source": [
    "# Calcula el número de mensajes enviados por cada usuario al mes. Guarda el resultado.\n",
    "messages_per_month = messages.groupby(['user_id', 'month']).size().reset_index(name='messages_count')\n",
    "print(messages_per_month.sample(10))\n"
   ]
  },
  {
   "cell_type": "code",
   "execution_count": 51,
   "metadata": {},
   "outputs": [
    {
     "name": "stdout",
     "output_type": "stream",
     "text": [
      "      user_id    month   mb_used  gb_used\n",
      "1916     1409  2018-11  23534.62       23\n",
      "1260     1264  2018-08  13170.78       13\n",
      "2245     1493  2018-12  15289.09       15\n",
      "2096     1456  2018-07  14010.35       14\n",
      "146      1041  2018-03   1586.39        2\n",
      "220      1053  2018-10  16830.64       17\n",
      "1070     1224  2018-10  17909.54       18\n",
      "500      1106  2018-09  28192.49       28\n",
      "864      1181  2018-08  15246.59       15\n",
      "84       1023  2018-08   9991.79       10\n"
     ]
    }
   ],
   "source": [
    "# Calcula el volumen del tráfico de Internet usado por cada usuario al mes. Guarda el resultado.\n",
    "internet_per_month['gb_used'] = np.ceil(internet_per_month['mb_used'] / 1024).astype(int)\n",
    "print(internet_per_month.sample(10))"
   ]
  },
  {
   "cell_type": "markdown",
   "metadata": {
    "id": "VDfYXnj80q1H"
   },
   "source": [
    "Juntar los DataFrames de llamadas, mensajes e internet:"
   ]
  },
  {
   "cell_type": "code",
   "execution_count": 52,
   "metadata": {
    "id": "FW99ykyf0q1H"
   },
   "outputs": [],
   "source": [
    "# Fusiona los datos de llamadas, minutos, mensajes e Internet con base en user_id y month\n",
    "df_consolidado = pd.merge(\n",
    "    calls_per_month, minutes_per_month,\n",
    "    on = ['user_id', 'month'],\n",
    "    how='outer'\n",
    ").merge(\n",
    "    messages_per_month,\n",
    "    on = ['user_id', 'month'],\n",
    "    how='outer'\n",
    ").merge(\n",
    "    internet_per_month,\n",
    "    on = ['user_id', 'month'],\n",
    "    how='outer'\n",
    ").merge(\n",
    "    users[['user_id', 'plan']], \n",
    "    on= 'user_id',\n",
    "    how='outer'\n",
    ")"
   ]
  },
  {
   "cell_type": "code",
   "execution_count": 53,
   "metadata": {},
   "outputs": [
    {
     "name": "stdout",
     "output_type": "stream",
     "text": [
      "      user_id    month  calls_count  rounded_duration  messages_count  \\\n",
      "1654     1362  2018-09         86.0             620.0            53.0   \n",
      "928      1198  2018-09         51.0             429.0             7.0   \n",
      "1882     1408  2018-05         64.0             453.0            32.0   \n",
      "1125     1246  2018-03        102.0             627.0            21.0   \n",
      "208      1050  2018-06         55.0             471.0             NaN   \n",
      "2055     1451  2018-09         77.0             595.0            54.0   \n",
      "1584     1351  2018-10          7.0              51.0             2.0   \n",
      "871      1185  2018-10         65.0             439.0             NaN   \n",
      "1118     1245  2018-07         10.0              64.0             4.0   \n",
      "855      1182  2018-10         22.0             158.0             2.0   \n",
      "\n",
      "       mb_used  gb_used      plan  \n",
      "1654  12764.24     13.0      surf  \n",
      "928   13162.26     13.0      surf  \n",
      "1882  12856.42     13.0      surf  \n",
      "1125  31093.21     31.0  ultimate  \n",
      "208   11574.00     12.0  ultimate  \n",
      "2055  11951.66     12.0  ultimate  \n",
      "1584   4823.99      5.0  ultimate  \n",
      "871   24856.76     25.0  ultimate  \n",
      "1118   2530.84      3.0      surf  \n",
      "855   20959.70     21.0      surf  \n"
     ]
    }
   ],
   "source": [
    "print(df_consolidado.sample(10))"
   ]
  },
  {
   "cell_type": "code",
   "execution_count": 54,
   "metadata": {},
   "outputs": [],
   "source": [
    "#Rellenar con 0 los valores ausentes\n",
    "df_consolidado[['calls_count', 'rounded_duration', 'messages_count', 'gb_used']] = (\n",
    "    df_consolidado[['calls_count', 'rounded_duration', 'messages_count', 'gb_used']].fillna(0)\n",
    ")"
   ]
  },
  {
   "cell_type": "code",
   "execution_count": 55,
   "metadata": {},
   "outputs": [
    {
     "name": "stdout",
     "output_type": "stream",
     "text": [
      "      user_id    month  calls_count  rounded_duration  messages_count  \\\n",
      "1443     1321  2018-07         75.0             581.0             0.0   \n",
      "1604     1355  2018-10         56.0             474.0            91.0   \n",
      "846      1181  2018-09         89.0             640.0            30.0   \n",
      "189      1046  2018-12         83.0             644.0            32.0   \n",
      "2105     1465  2018-08         87.0             682.0            27.0   \n",
      "1672     1365  2018-11        150.0            1099.0            38.0   \n",
      "1273     1277  2018-07        113.0             738.0             0.0   \n",
      "1541     1339  2018-08          6.0              41.0            76.0   \n",
      "168      1043  2018-06         12.0              79.0            30.0   \n",
      "2056     1451  2018-10         72.0             518.0            49.0   \n",
      "\n",
      "       mb_used  gb_used      plan  messages_included  gb_per_month_included  \\\n",
      "1443  23604.01     24.0      surf                 50                   15.0   \n",
      "1604  14624.16     15.0      surf                 50                   15.0   \n",
      "846   19238.08     19.0      surf                 50                   15.0   \n",
      "189   13891.55     14.0      surf                 50                   15.0   \n",
      "2105  19231.79     19.0  ultimate               1000                   30.0   \n",
      "1672   5833.38      6.0      surf                 50                   15.0   \n",
      "1273  23335.52     23.0      surf                 50                   15.0   \n",
      "1541   3202.36      4.0      surf                 50                   15.0   \n",
      "168    9891.43     10.0  ultimate               1000                   30.0   \n",
      "2056  13541.86     14.0  ultimate               1000                   30.0   \n",
      "\n",
      "      minutes_included  usd_monthly_pay  usd_per_gb  usd_per_message  \\\n",
      "1443               500               20          10             0.03   \n",
      "1604               500               20          10             0.03   \n",
      "846                500               20          10             0.03   \n",
      "189                500               20          10             0.03   \n",
      "2105              3000               70           7             0.01   \n",
      "1672               500               20          10             0.03   \n",
      "1273               500               20          10             0.03   \n",
      "1541               500               20          10             0.03   \n",
      "168               3000               70           7             0.01   \n",
      "2056              3000               70           7             0.01   \n",
      "\n",
      "      usd_per_minute  \n",
      "1443            0.03  \n",
      "1604            0.03  \n",
      "846             0.03  \n",
      "189             0.03  \n",
      "2105            0.01  \n",
      "1672            0.03  \n",
      "1273            0.03  \n",
      "1541            0.03  \n",
      "168             0.01  \n",
      "2056            0.01  \n"
     ]
    }
   ],
   "source": [
    "# Añadir la información de la tarifa\n",
    "plans = plans.rename(columns={'plan_name': 'plan'})\n",
    "df_consolidado = df_consolidado.merge(\n",
    "    plans,\n",
    "    on='plan',\n",
    "    how='left'\n",
    ")\n",
    "print(df_consolidado.sample(10))"
   ]
  },
  {
   "cell_type": "code",
   "execution_count": 56,
   "metadata": {},
   "outputs": [
    {
     "name": "stdout",
     "output_type": "stream",
     "text": [
      "<class 'pandas.core.frame.DataFrame'>\n",
      "Int64Index: 2303 entries, 0 to 2302\n",
      "Data columns (total 15 columns):\n",
      " #   Column                 Non-Null Count  Dtype    \n",
      "---  ------                 --------------  -----    \n",
      " 0   user_id                2303 non-null   int64    \n",
      " 1   month                  2293 non-null   period[M]\n",
      " 2   calls_count            2303 non-null   float64  \n",
      " 3   rounded_duration       2303 non-null   float64  \n",
      " 4   messages_count         2303 non-null   float64  \n",
      " 5   mb_used                2277 non-null   float64  \n",
      " 6   gb_used                2303 non-null   float64  \n",
      " 7   plan                   2303 non-null   object   \n",
      " 8   messages_included      2303 non-null   int64    \n",
      " 9   gb_per_month_included  2303 non-null   float64  \n",
      " 10  minutes_included       2303 non-null   int64    \n",
      " 11  usd_monthly_pay        2303 non-null   int64    \n",
      " 12  usd_per_gb             2303 non-null   int64    \n",
      " 13  usd_per_message        2303 non-null   float64  \n",
      " 14  usd_per_minute         2303 non-null   float64  \n",
      "dtypes: float64(8), int64(5), object(1), period[M](1)\n",
      "memory usage: 287.9+ KB\n"
     ]
    }
   ],
   "source": [
    "df_consolidado.info()"
   ]
  },
  {
   "cell_type": "markdown",
   "metadata": {
    "id": "1IwGo4wg0q1I"
   },
   "source": [
    "Calcular el costo mensual por usuario, considerando el costo de su plan más los excedentes"
   ]
  },
  {
   "cell_type": "code",
   "execution_count": 57,
   "metadata": {
    "id": "5FGCf_c60q1I"
   },
   "outputs": [],
   "source": [
    "# Calcular los minutos, mensajes y GB excedentes.\n",
    "df_consolidado['min_exced'] = (df_consolidado['rounded_duration'] - df_consolidado['minutes_included']).clip(lower=0)\n",
    "df_consolidado['msg_exced'] = (df_consolidado['messages_count'] - df_consolidado['messages_included']).clip(lower=0)\n",
    "df_consolidado['gb_exced'] = (df_consolidado['gb_used'] - df_consolidado['gb_per_month_included']).clip(lower=0)"
   ]
  },
  {
   "cell_type": "code",
   "execution_count": 58,
   "metadata": {},
   "outputs": [
    {
     "data": {
      "text/plain": [
       "0        2.0\n",
       "1        7.0\n",
       "2       14.0\n",
       "3       22.0\n",
       "4       19.0\n",
       "        ... \n",
       "2298     0.0\n",
       "2299     0.0\n",
       "2300     0.0\n",
       "2301     0.0\n",
       "2302     0.0\n",
       "Name: gb_used, Length: 2303, dtype: float64"
      ]
     },
     "execution_count": 58,
     "metadata": {},
     "output_type": "execute_result"
    }
   ],
   "source": [
    "df_consolidado['gb_used']"
   ]
  },
  {
   "cell_type": "code",
   "execution_count": 59,
   "metadata": {},
   "outputs": [],
   "source": [
    "#Calcular el costo extra mensual\n",
    "df_consolidado['extra_cost'] = (\n",
    "    df_consolidado['min_exced'] * df_consolidado['usd_per_minute'] +\n",
    "    df_consolidado['msg_exced'] * df_consolidado['usd_per_message'] + \n",
    "    df_consolidado['gb_exced'] * df_consolidado['usd_per_gb']\n",
    ")"
   ]
  },
  {
   "cell_type": "code",
   "execution_count": 60,
   "metadata": {},
   "outputs": [],
   "source": [
    "#Calcular el costo mensual por usuario\n",
    "df_consolidado['total_cost'] = df_consolidado['usd_monthly_pay'] + df_consolidado['extra_cost']"
   ]
  },
  {
   "cell_type": "code",
   "execution_count": 61,
   "metadata": {},
   "outputs": [
    {
     "name": "stdout",
     "output_type": "stream",
     "text": [
      "      user_id    month  calls_count  rounded_duration  messages_count  \\\n",
      "101      1028  2018-10          6.0              39.0            73.0   \n",
      "1915     1415  2018-08         66.0             443.0             0.0   \n",
      "888      1189  2018-09         13.0             119.0             6.0   \n",
      "574      1123  2018-10         88.0             620.0            27.0   \n",
      "2092     1460  2018-11         53.0             307.0            54.0   \n",
      "751      1160  2018-09         89.0             680.0            23.0   \n",
      "842      1181  2018-05         67.0             578.0            20.0   \n",
      "1668     1365  2018-07        155.0            1082.0            52.0   \n",
      "2155     1475  2018-07         16.0             128.0            17.0   \n",
      "1804     1395  2018-12         34.0             263.0            25.0   \n",
      "\n",
      "       mb_used  gb_used      plan  messages_included  gb_per_month_included  \\\n",
      "101   46595.33     46.0  ultimate               1000                   30.0   \n",
      "1915  20240.43     20.0      surf                 50                   15.0   \n",
      "888    4255.45      5.0      surf                 50                   15.0   \n",
      "574   21505.98     22.0      surf                 50                   15.0   \n",
      "2092  24967.01     25.0  ultimate               1000                   30.0   \n",
      "751   15166.30     15.0      surf                 50                   15.0   \n",
      "842   12394.05     13.0      surf                 50                   15.0   \n",
      "1668   5979.39      6.0      surf                 50                   15.0   \n",
      "2155   4130.99      5.0  ultimate               1000                   30.0   \n",
      "1804  11144.27     11.0  ultimate               1000                   30.0   \n",
      "\n",
      "      minutes_included  usd_monthly_pay  usd_per_gb  usd_per_message  \\\n",
      "101               3000               70           7             0.01   \n",
      "1915               500               20          10             0.03   \n",
      "888                500               20          10             0.03   \n",
      "574                500               20          10             0.03   \n",
      "2092              3000               70           7             0.01   \n",
      "751                500               20          10             0.03   \n",
      "842                500               20          10             0.03   \n",
      "1668               500               20          10             0.03   \n",
      "2155              3000               70           7             0.01   \n",
      "1804              3000               70           7             0.01   \n",
      "\n",
      "      usd_per_minute  min_exced  msg_exced  gb_exced  extra_cost  total_cost  \n",
      "101             0.01        0.0        0.0      16.0      112.00      182.00  \n",
      "1915            0.03        0.0        0.0       5.0       50.00       70.00  \n",
      "888             0.03        0.0        0.0       0.0        0.00       20.00  \n",
      "574             0.03      120.0        0.0       7.0       73.60       93.60  \n",
      "2092            0.01        0.0        0.0       0.0        0.00       70.00  \n",
      "751             0.03      180.0        0.0       0.0        5.40       25.40  \n",
      "842             0.03       78.0        0.0       0.0        2.34       22.34  \n",
      "1668            0.03      582.0        2.0       0.0       17.52       37.52  \n",
      "2155            0.01        0.0        0.0       0.0        0.00       70.00  \n",
      "1804            0.01        0.0        0.0       0.0        0.00       70.00  \n"
     ]
    }
   ],
   "source": [
    "print(df_consolidado.sample(10))"
   ]
  },
  {
   "cell_type": "code",
   "execution_count": 62,
   "metadata": {},
   "outputs": [
    {
     "data": {
      "text/html": [
       "<div>\n",
       "<style scoped>\n",
       "    .dataframe tbody tr th:only-of-type {\n",
       "        vertical-align: middle;\n",
       "    }\n",
       "\n",
       "    .dataframe tbody tr th {\n",
       "        vertical-align: top;\n",
       "    }\n",
       "\n",
       "    .dataframe thead th {\n",
       "        text-align: right;\n",
       "    }\n",
       "</style>\n",
       "<table border=\"1\" class=\"dataframe\">\n",
       "  <thead>\n",
       "    <tr style=\"text-align: right;\">\n",
       "      <th></th>\n",
       "      <th>user_id</th>\n",
       "      <th>month</th>\n",
       "      <th>calls_count</th>\n",
       "      <th>rounded_duration</th>\n",
       "      <th>messages_count</th>\n",
       "      <th>mb_used</th>\n",
       "      <th>gb_used</th>\n",
       "      <th>plan</th>\n",
       "      <th>messages_included</th>\n",
       "      <th>gb_per_month_included</th>\n",
       "      <th>minutes_included</th>\n",
       "      <th>usd_monthly_pay</th>\n",
       "      <th>usd_per_gb</th>\n",
       "      <th>usd_per_message</th>\n",
       "      <th>usd_per_minute</th>\n",
       "      <th>min_exced</th>\n",
       "      <th>msg_exced</th>\n",
       "      <th>gb_exced</th>\n",
       "      <th>extra_cost</th>\n",
       "      <th>total_cost</th>\n",
       "    </tr>\n",
       "  </thead>\n",
       "  <tbody>\n",
       "    <tr>\n",
       "      <th>0</th>\n",
       "      <td>1000</td>\n",
       "      <td>2018-12</td>\n",
       "      <td>16.0</td>\n",
       "      <td>124.0</td>\n",
       "      <td>11.0</td>\n",
       "      <td>1901.47</td>\n",
       "      <td>2.0</td>\n",
       "      <td>ultimate</td>\n",
       "      <td>1000</td>\n",
       "      <td>30.0</td>\n",
       "      <td>3000</td>\n",
       "      <td>70</td>\n",
       "      <td>7</td>\n",
       "      <td>0.01</td>\n",
       "      <td>0.01</td>\n",
       "      <td>0.0</td>\n",
       "      <td>0.0</td>\n",
       "      <td>0.0</td>\n",
       "      <td>0.00</td>\n",
       "      <td>70.00</td>\n",
       "    </tr>\n",
       "    <tr>\n",
       "      <th>1</th>\n",
       "      <td>1001</td>\n",
       "      <td>2018-08</td>\n",
       "      <td>27.0</td>\n",
       "      <td>182.0</td>\n",
       "      <td>30.0</td>\n",
       "      <td>6919.15</td>\n",
       "      <td>7.0</td>\n",
       "      <td>surf</td>\n",
       "      <td>50</td>\n",
       "      <td>15.0</td>\n",
       "      <td>500</td>\n",
       "      <td>20</td>\n",
       "      <td>10</td>\n",
       "      <td>0.03</td>\n",
       "      <td>0.03</td>\n",
       "      <td>0.0</td>\n",
       "      <td>0.0</td>\n",
       "      <td>0.0</td>\n",
       "      <td>0.00</td>\n",
       "      <td>20.00</td>\n",
       "    </tr>\n",
       "    <tr>\n",
       "      <th>2</th>\n",
       "      <td>1001</td>\n",
       "      <td>2018-09</td>\n",
       "      <td>49.0</td>\n",
       "      <td>315.0</td>\n",
       "      <td>44.0</td>\n",
       "      <td>13314.82</td>\n",
       "      <td>14.0</td>\n",
       "      <td>surf</td>\n",
       "      <td>50</td>\n",
       "      <td>15.0</td>\n",
       "      <td>500</td>\n",
       "      <td>20</td>\n",
       "      <td>10</td>\n",
       "      <td>0.03</td>\n",
       "      <td>0.03</td>\n",
       "      <td>0.0</td>\n",
       "      <td>0.0</td>\n",
       "      <td>0.0</td>\n",
       "      <td>0.00</td>\n",
       "      <td>20.00</td>\n",
       "    </tr>\n",
       "    <tr>\n",
       "      <th>3</th>\n",
       "      <td>1001</td>\n",
       "      <td>2018-10</td>\n",
       "      <td>65.0</td>\n",
       "      <td>393.0</td>\n",
       "      <td>53.0</td>\n",
       "      <td>22330.49</td>\n",
       "      <td>22.0</td>\n",
       "      <td>surf</td>\n",
       "      <td>50</td>\n",
       "      <td>15.0</td>\n",
       "      <td>500</td>\n",
       "      <td>20</td>\n",
       "      <td>10</td>\n",
       "      <td>0.03</td>\n",
       "      <td>0.03</td>\n",
       "      <td>0.0</td>\n",
       "      <td>3.0</td>\n",
       "      <td>7.0</td>\n",
       "      <td>70.09</td>\n",
       "      <td>90.09</td>\n",
       "    </tr>\n",
       "    <tr>\n",
       "      <th>4</th>\n",
       "      <td>1001</td>\n",
       "      <td>2018-11</td>\n",
       "      <td>64.0</td>\n",
       "      <td>426.0</td>\n",
       "      <td>36.0</td>\n",
       "      <td>18504.30</td>\n",
       "      <td>19.0</td>\n",
       "      <td>surf</td>\n",
       "      <td>50</td>\n",
       "      <td>15.0</td>\n",
       "      <td>500</td>\n",
       "      <td>20</td>\n",
       "      <td>10</td>\n",
       "      <td>0.03</td>\n",
       "      <td>0.03</td>\n",
       "      <td>0.0</td>\n",
       "      <td>0.0</td>\n",
       "      <td>4.0</td>\n",
       "      <td>40.00</td>\n",
       "      <td>60.00</td>\n",
       "    </tr>\n",
       "    <tr>\n",
       "      <th>...</th>\n",
       "      <td>...</td>\n",
       "      <td>...</td>\n",
       "      <td>...</td>\n",
       "      <td>...</td>\n",
       "      <td>...</td>\n",
       "      <td>...</td>\n",
       "      <td>...</td>\n",
       "      <td>...</td>\n",
       "      <td>...</td>\n",
       "      <td>...</td>\n",
       "      <td>...</td>\n",
       "      <td>...</td>\n",
       "      <td>...</td>\n",
       "      <td>...</td>\n",
       "      <td>...</td>\n",
       "      <td>...</td>\n",
       "      <td>...</td>\n",
       "      <td>...</td>\n",
       "      <td>...</td>\n",
       "      <td>...</td>\n",
       "    </tr>\n",
       "    <tr>\n",
       "      <th>2298</th>\n",
       "      <td>1307</td>\n",
       "      <td>NaT</td>\n",
       "      <td>0.0</td>\n",
       "      <td>0.0</td>\n",
       "      <td>0.0</td>\n",
       "      <td>NaN</td>\n",
       "      <td>0.0</td>\n",
       "      <td>surf</td>\n",
       "      <td>50</td>\n",
       "      <td>15.0</td>\n",
       "      <td>500</td>\n",
       "      <td>20</td>\n",
       "      <td>10</td>\n",
       "      <td>0.03</td>\n",
       "      <td>0.03</td>\n",
       "      <td>0.0</td>\n",
       "      <td>0.0</td>\n",
       "      <td>0.0</td>\n",
       "      <td>0.00</td>\n",
       "      <td>20.00</td>\n",
       "    </tr>\n",
       "    <tr>\n",
       "      <th>2299</th>\n",
       "      <td>1319</td>\n",
       "      <td>NaT</td>\n",
       "      <td>0.0</td>\n",
       "      <td>0.0</td>\n",
       "      <td>0.0</td>\n",
       "      <td>NaN</td>\n",
       "      <td>0.0</td>\n",
       "      <td>surf</td>\n",
       "      <td>50</td>\n",
       "      <td>15.0</td>\n",
       "      <td>500</td>\n",
       "      <td>20</td>\n",
       "      <td>10</td>\n",
       "      <td>0.03</td>\n",
       "      <td>0.03</td>\n",
       "      <td>0.0</td>\n",
       "      <td>0.0</td>\n",
       "      <td>0.0</td>\n",
       "      <td>0.00</td>\n",
       "      <td>20.00</td>\n",
       "    </tr>\n",
       "    <tr>\n",
       "      <th>2300</th>\n",
       "      <td>1378</td>\n",
       "      <td>NaT</td>\n",
       "      <td>0.0</td>\n",
       "      <td>0.0</td>\n",
       "      <td>0.0</td>\n",
       "      <td>NaN</td>\n",
       "      <td>0.0</td>\n",
       "      <td>surf</td>\n",
       "      <td>50</td>\n",
       "      <td>15.0</td>\n",
       "      <td>500</td>\n",
       "      <td>20</td>\n",
       "      <td>10</td>\n",
       "      <td>0.03</td>\n",
       "      <td>0.03</td>\n",
       "      <td>0.0</td>\n",
       "      <td>0.0</td>\n",
       "      <td>0.0</td>\n",
       "      <td>0.00</td>\n",
       "      <td>20.00</td>\n",
       "    </tr>\n",
       "    <tr>\n",
       "      <th>2301</th>\n",
       "      <td>1463</td>\n",
       "      <td>NaT</td>\n",
       "      <td>0.0</td>\n",
       "      <td>0.0</td>\n",
       "      <td>0.0</td>\n",
       "      <td>NaN</td>\n",
       "      <td>0.0</td>\n",
       "      <td>ultimate</td>\n",
       "      <td>1000</td>\n",
       "      <td>30.0</td>\n",
       "      <td>3000</td>\n",
       "      <td>70</td>\n",
       "      <td>7</td>\n",
       "      <td>0.01</td>\n",
       "      <td>0.01</td>\n",
       "      <td>0.0</td>\n",
       "      <td>0.0</td>\n",
       "      <td>0.0</td>\n",
       "      <td>0.00</td>\n",
       "      <td>70.00</td>\n",
       "    </tr>\n",
       "    <tr>\n",
       "      <th>2302</th>\n",
       "      <td>1473</td>\n",
       "      <td>NaT</td>\n",
       "      <td>0.0</td>\n",
       "      <td>0.0</td>\n",
       "      <td>0.0</td>\n",
       "      <td>NaN</td>\n",
       "      <td>0.0</td>\n",
       "      <td>surf</td>\n",
       "      <td>50</td>\n",
       "      <td>15.0</td>\n",
       "      <td>500</td>\n",
       "      <td>20</td>\n",
       "      <td>10</td>\n",
       "      <td>0.03</td>\n",
       "      <td>0.03</td>\n",
       "      <td>0.0</td>\n",
       "      <td>0.0</td>\n",
       "      <td>0.0</td>\n",
       "      <td>0.00</td>\n",
       "      <td>20.00</td>\n",
       "    </tr>\n",
       "  </tbody>\n",
       "</table>\n",
       "<p>2303 rows × 20 columns</p>\n",
       "</div>"
      ],
      "text/plain": [
       "      user_id    month  calls_count  rounded_duration  messages_count  \\\n",
       "0        1000  2018-12         16.0             124.0            11.0   \n",
       "1        1001  2018-08         27.0             182.0            30.0   \n",
       "2        1001  2018-09         49.0             315.0            44.0   \n",
       "3        1001  2018-10         65.0             393.0            53.0   \n",
       "4        1001  2018-11         64.0             426.0            36.0   \n",
       "...       ...      ...          ...               ...             ...   \n",
       "2298     1307      NaT          0.0               0.0             0.0   \n",
       "2299     1319      NaT          0.0               0.0             0.0   \n",
       "2300     1378      NaT          0.0               0.0             0.0   \n",
       "2301     1463      NaT          0.0               0.0             0.0   \n",
       "2302     1473      NaT          0.0               0.0             0.0   \n",
       "\n",
       "       mb_used  gb_used      plan  messages_included  gb_per_month_included  \\\n",
       "0      1901.47      2.0  ultimate               1000                   30.0   \n",
       "1      6919.15      7.0      surf                 50                   15.0   \n",
       "2     13314.82     14.0      surf                 50                   15.0   \n",
       "3     22330.49     22.0      surf                 50                   15.0   \n",
       "4     18504.30     19.0      surf                 50                   15.0   \n",
       "...        ...      ...       ...                ...                    ...   \n",
       "2298       NaN      0.0      surf                 50                   15.0   \n",
       "2299       NaN      0.0      surf                 50                   15.0   \n",
       "2300       NaN      0.0      surf                 50                   15.0   \n",
       "2301       NaN      0.0  ultimate               1000                   30.0   \n",
       "2302       NaN      0.0      surf                 50                   15.0   \n",
       "\n",
       "      minutes_included  usd_monthly_pay  usd_per_gb  usd_per_message  \\\n",
       "0                 3000               70           7             0.01   \n",
       "1                  500               20          10             0.03   \n",
       "2                  500               20          10             0.03   \n",
       "3                  500               20          10             0.03   \n",
       "4                  500               20          10             0.03   \n",
       "...                ...              ...         ...              ...   \n",
       "2298               500               20          10             0.03   \n",
       "2299               500               20          10             0.03   \n",
       "2300               500               20          10             0.03   \n",
       "2301              3000               70           7             0.01   \n",
       "2302               500               20          10             0.03   \n",
       "\n",
       "      usd_per_minute  min_exced  msg_exced  gb_exced  extra_cost  total_cost  \n",
       "0               0.01        0.0        0.0       0.0        0.00       70.00  \n",
       "1               0.03        0.0        0.0       0.0        0.00       20.00  \n",
       "2               0.03        0.0        0.0       0.0        0.00       20.00  \n",
       "3               0.03        0.0        3.0       7.0       70.09       90.09  \n",
       "4               0.03        0.0        0.0       4.0       40.00       60.00  \n",
       "...              ...        ...        ...       ...         ...         ...  \n",
       "2298            0.03        0.0        0.0       0.0        0.00       20.00  \n",
       "2299            0.03        0.0        0.0       0.0        0.00       20.00  \n",
       "2300            0.03        0.0        0.0       0.0        0.00       20.00  \n",
       "2301            0.01        0.0        0.0       0.0        0.00       70.00  \n",
       "2302            0.03        0.0        0.0       0.0        0.00       20.00  \n",
       "\n",
       "[2303 rows x 20 columns]"
      ]
     },
     "execution_count": 62,
     "metadata": {},
     "output_type": "execute_result"
    }
   ],
   "source": [
    "df_consolidado"
   ]
  },
  {
   "cell_type": "markdown",
   "metadata": {
    "id": "-jtyHzJb0q1I"
   },
   "source": [
    "## Estudia el comportamiento de usuario"
   ]
  },
  {
   "cell_type": "code",
   "execution_count": 63,
   "metadata": {},
   "outputs": [
    {
     "name": "stdout",
     "output_type": "stream",
     "text": [
      "339\n",
      "161\n"
     ]
    }
   ],
   "source": [
    "#Contar cuántos usuarios hay de cada plan:\n",
    "print(df_consolidado[df_consolidado['plan'] == 'surf']['user_id'].nunique())\n",
    "print(df_consolidado[df_consolidado['plan'] == 'ultimate']['user_id'].nunique())"
   ]
  },
  {
   "cell_type": "code",
   "execution_count": 64,
   "metadata": {},
   "outputs": [
    {
     "name": "stdout",
     "output_type": "stream",
     "text": [
      "60.55\n",
      "72.3\n"
     ]
    }
   ],
   "source": [
    "#Obtener el promedio del 'total_cost' para cada tipo de plan:\n",
    "print(df_consolidado[df_consolidado['plan'] == 'surf']['total_cost'].mean().round(2))\n",
    "print(df_consolidado[df_consolidado['plan'] == 'ultimate']['total_cost'].mean().round(2))"
   ]
  },
  {
   "cell_type": "code",
   "execution_count": 65,
   "metadata": {},
   "outputs": [],
   "source": [
    "#Hay menos usuarios Ultimate y en promedio pagan una tarifa más alta al mes.\n",
    "#Esto ya nos podría dar una idea de cuál es el plan más rentable, pero evaluaremos las cifras de manera desglosada. "
   ]
  },
  {
   "cell_type": "markdown",
   "metadata": {
    "id": "vtW4CJEe0q1J"
   },
   "source": [
    "### Llamadas"
   ]
  },
  {
   "cell_type": "code",
   "execution_count": 66,
   "metadata": {
    "id": "Jf5v5--k0q1J"
   },
   "outputs": [
    {
     "name": "stdout",
     "output_type": "stream",
     "text": [
      "plan      month  \n",
      "surf      2018-01    203.000000\n",
      "          2018-02    297.000000\n",
      "          2018-03    330.000000\n",
      "          2018-04    351.540000\n",
      "          2018-05    399.584416\n",
      "          2018-06    431.298969\n",
      "          2018-07    449.983471\n",
      "          2018-08    410.111111\n",
      "          2018-09    414.226804\n",
      "          2018-10    429.729958\n",
      "          2018-11    423.325088\n",
      "          2018-12    473.836478\n",
      "ultimate  2018-01    193.500000\n",
      "          2018-02    403.142857\n",
      "          2018-03    304.250000\n",
      "          2018-04    336.857143\n",
      "          2018-05    406.241379\n",
      "          2018-06    370.957447\n",
      "          2018-07    427.067797\n",
      "          2018-08    421.436620\n",
      "          2018-09    437.511628\n",
      "          2018-10    450.735849\n",
      "          2018-11    445.196850\n",
      "          2018-12    459.099338\n",
      "Name: rounded_duration, dtype: float64\n"
     ]
    }
   ],
   "source": [
    "# Compara la duración promedio de llamadas por cada plan y por cada mes. Traza un gráfico de barras para visualizarla.\n",
    "df_llamadas = df_consolidado.groupby(['plan', 'month'])['rounded_duration'].mean()\n",
    "print(df_llamadas)"
   ]
  },
  {
   "cell_type": "code",
   "execution_count": 67,
   "metadata": {},
   "outputs": [],
   "source": [
    "#Como todos los datos son de 2018, quitaré el año para solo mostrar el mes:\n",
    "df_consolidado['month_num'] = df_consolidado['month'].dt.strftime('%m')\n",
    "#Nuevamente el código\n",
    "df_llamadas = df_consolidado.groupby(['plan', 'month_num'])['rounded_duration'].mean().reset_index()"
   ]
  },
  {
   "cell_type": "code",
   "execution_count": 68,
   "metadata": {},
   "outputs": [
    {
     "data": {
      "image/png": "[encoded data removed]",
      "text/plain": [
       "<Figure size 1200x600 with 1 Axes>"
      ]
     },
     "metadata": {},
     "output_type": "display_data"
    }
   ],
   "source": [
    "#Gráficar utilizando sns y plot\n",
    "plt.figure(figsize=(12, 6))\n",
    "sns.barplot(\n",
    "    data=df_llamadas,\n",
    "    x='month_num',\n",
    "    y='rounded_duration',\n",
    "    hue='plan'\n",
    ")\n",
    "\n",
    "# Personalizar\n",
    "plt.title('Duración promedio de llamadas por plan y mes')\n",
    "plt.xlabel('Mes (número)')\n",
    "plt.ylabel('Duración promedio (minutos)')\n",
    "plt.legend(title='Plan')\n",
    "plt.tight_layout()\n",
    "plt.show()\n"
   ]
  },
  {
   "cell_type": "code",
   "execution_count": 69,
   "metadata": {},
   "outputs": [],
   "source": [
    "#Parece estar parejo: en 6 meses hay más llamadas del plan ultimate, y en los otros 6, más llamadas del plan surf\n",
    "#Pero al ser más caro 'Ultimate', probablemente sea más rentable\n",
    "#Diciembre es el mes con mayor #de llamadas en ambos planes, asociado a las fiestas decembrinas"
   ]
  },
  {
   "cell_type": "code",
   "execution_count": 70,
   "metadata": {
    "id": "QoLqW1S_0q1J"
   },
   "outputs": [],
   "source": [
    "# Compara el número de minutos mensuales que necesitan los usuarios de cada plan. Traza un histograma.\n",
    "# Filtrar por plan\n",
    "surf_call = df_consolidado[df_consolidado['plan'] == 'surf']['rounded_duration']\n",
    "ultimate_call = df_consolidado[df_consolidado['plan'] == 'ultimate']['rounded_duration']"
   ]
  },
  {
   "cell_type": "code",
   "execution_count": 71,
   "metadata": {},
   "outputs": [
    {
     "data": {
      "image/png": "[encoded data removed]",
      "text/plain": [
       "<Figure size 1200x600 with 1 Axes>"
      ]
     },
     "metadata": {},
     "output_type": "display_data"
    }
   ],
   "source": [
    "# Crear histograma\n",
    "plt.figure(figsize=(12, 6))\n",
    "plt.hist(surf_call, bins=30, alpha=0.7, label='Surf', color='skyblue', edgecolor='black')\n",
    "plt.hist(ultimate_call, bins=30, alpha=0.7, label='Ultimate', color='orange', edgecolor='black')\n",
    "\n",
    "# Personalizar\n",
    "plt.title('Distribución de minutos usados por mes según plan')\n",
    "plt.xlabel('Minutos por mes')\n",
    "plt.ylabel('Cantidad de usuarios')\n",
    "plt.legend(title='Plan')\n",
    "plt.tight_layout()\n",
    "plt.show()"
   ]
  },
  {
   "cell_type": "code",
   "execution_count": 72,
   "metadata": {
    "id": "oSndbAnt0q1K"
   },
   "outputs": [
    {
     "name": "stdout",
     "output_type": "stream",
     "text": [
      "       plan    mean       var     std\n",
      "0      surf  427.12  55455.58  235.49\n",
      "1  ultimate  428.07  58543.88  241.96\n"
     ]
    }
   ],
   "source": [
    "# Calcula la media y la varianza de la duración mensual de llamadas.\n",
    "estadisticas_llamadas = df_consolidado.groupby('plan')['rounded_duration'].agg(['mean', 'var', 'std']).reset_index()\n",
    "print(estadisticas_llamadas.round(2))"
   ]
  },
  {
   "cell_type": "code",
   "execution_count": 73,
   "metadata": {},
   "outputs": [],
   "source": [
    "#En promedio, los usuarios del plan Ultimate generan más ingresos solo por las llamadas."
   ]
  },
  {
   "cell_type": "code",
   "execution_count": 74,
   "metadata": {},
   "outputs": [
    {
     "data": {
      "text/plain": [
       "<Figure size 800x600 with 0 Axes>"
      ]
     },
     "metadata": {},
     "output_type": "display_data"
    },
    {
     "data": {
      "image/png": "[encoded data removed]",
      "text/plain": [
       "<Figure size 640x480 with 1 Axes>"
      ]
     },
     "metadata": {},
     "output_type": "display_data"
    }
   ],
   "source": [
    "# Traza un diagrama de caja para visualizar la distribución de la duración mensual de llamadas\n",
    "plt.figure(figsize=(8, 6))\n",
    "df_consolidado.boxplot(column='rounded_duration', by='plan')\n",
    "plt.title('Distribución de la duración mensual de llamadas por tipo de plan')\n",
    "plt.suptitle('')\n",
    "plt.xlabel('Plan')\n",
    "plt.ylabel('Duración de llamadas (minutos)')\n",
    "plt.grid(True)\n",
    "plt.tight_layout()\n",
    "plt.show()"
   ]
  },
  {
   "cell_type": "markdown",
   "metadata": {
    "id": "r627zBO50q1K"
   },
   "source": [
    "Conclusiones:\n",
    "\n",
    "*Los usuarios de Surf muestran una mayor variabilidad en su consumo de minutos, incluyendo tanto bajos como altos niveles.\n",
    "\n",
    "*Los usuarios de Ultimate tienden a usar minutos de forma más consistente, concentrándose en un rango medio de consumo, es decir, están menos dispersos.\n",
    "\n",
    "*El plan Ultimate al incluir más minutos, parece ser que los usuarios están aprovechando más el plan de forma más predecible o, puede ser que, algunos clientes que saben que hablarán mucho, prefieran comprar este plan.\n",
    "\n",
    "*El plan 'Ultimate' genera más ingresos en promedio por usuario (solo analizando las llamadas)."
   ]
  },
  {
   "cell_type": "markdown",
   "metadata": {
    "id": "8idKy8Wh0q1L"
   },
   "source": [
    "### Mensajes"
   ]
  },
  {
   "cell_type": "code",
   "execution_count": 75,
   "metadata": {
    "id": "NXLxiTit0q1L"
   },
   "outputs": [
    {
     "name": "stdout",
     "output_type": "stream",
     "text": [
      "        plan month_num  messages_count\n",
      "0       surf        01       10.500000\n",
      "1       surf        02       12.000000\n",
      "2       surf        03       15.260870\n",
      "3       surf        04       17.400000\n",
      "4       surf        05       24.012987\n",
      "5       surf        06       25.298969\n",
      "6       surf        07       27.033058\n",
      "7       surf        08       28.777778\n",
      "8       surf        09       30.762887\n",
      "9       surf        10       33.839662\n",
      "10      surf        11       32.385159\n",
      "11      surf        12       38.600629\n",
      "12  ultimate        01       15.500000\n",
      "13  ultimate        02       21.571429\n",
      "14  ultimate        03       20.250000\n",
      "15  ultimate        04       22.047619\n",
      "16  ultimate        05       32.103448\n",
      "17  ultimate        06       29.340426\n",
      "18  ultimate        07       32.830508\n",
      "19  ultimate        08       38.478873\n",
      "20  ultimate        09       37.895349\n",
      "21  ultimate        10       39.443396\n",
      "22  ultimate        11       38.606299\n",
      "23  ultimate        12       45.006623\n"
     ]
    }
   ],
   "source": [
    "# Comprara el número de mensajes que tienden a enviar cada mes los usuarios de cada plan\n",
    "df_mensajes = df_consolidado.groupby(['plan', 'month_num'])['messages_count'].mean().reset_index()\n",
    "print(df_mensajes)"
   ]
  },
  {
   "cell_type": "code",
   "execution_count": 76,
   "metadata": {},
   "outputs": [
    {
     "data": {
      "image/png": "[encoded data removed]",
      "text/plain": [
       "<Figure size 1200x600 with 1 Axes>"
      ]
     },
     "metadata": {},
     "output_type": "display_data"
    }
   ],
   "source": [
    "#Traza un gráfico de barras para visualizarlo\n",
    "plt.figure(figsize=(12, 6))\n",
    "sns.barplot(\n",
    "    data=df_mensajes.reset_index(),\n",
    "    x='month_num',\n",
    "    y='messages_count',\n",
    "    hue='plan'\n",
    ")\n",
    "\n",
    "#personalizar\n",
    "plt.title('Número de mensajes enviados por plan y mes')\n",
    "plt.xlabel('Mes (número)')\n",
    "plt.ylabel('Número de mensajes')\n",
    "plt.legend(title='Plan')\n",
    "plt.tight_layout()\n",
    "plt.show()"
   ]
  },
  {
   "cell_type": "code",
   "execution_count": 77,
   "metadata": {},
   "outputs": [],
   "source": [
    "#Los usuarios de Ultimate tienden a enviar más mensajes por persona, en promedio."
   ]
  },
  {
   "cell_type": "code",
   "execution_count": 78,
   "metadata": {},
   "outputs": [
    {
     "data": {
      "image/png": "[encoded data removed]",
      "text/plain": [
       "<Figure size 1200x600 with 1 Axes>"
      ]
     },
     "metadata": {},
     "output_type": "display_data"
    }
   ],
   "source": [
    "# Compara el número de mensajes que envian los usuarios de cada plan. Traza un histograma.\n",
    "surf_msg = df_consolidado[df_consolidado['plan'] == 'surf']['messages_count']\n",
    "ultimate_msg = df_consolidado[df_consolidado['plan'] == 'ultimate']['messages_count']\n",
    "\n",
    "#crear histograma\n",
    "plt.figure(figsize=(12, 6))\n",
    "plt.hist(surf_msg, bins=30, alpha=0.7, label='Surf', color='skyblue', edgecolor='black')\n",
    "plt.hist(ultimate_msg, bins=30, alpha=0.7, label='Ultimate', color='orange', edgecolor='black')\n",
    "\n",
    "#personalizar\n",
    "plt.title('Distribución de mensajes enviados por mes según plan')\n",
    "plt.xlabel('Mensajes por mes')\n",
    "plt.ylabel('Cantidad de usuarios')\n",
    "plt.legend(title='Plan')\n",
    "plt.tight_layout()\n",
    "plt.show()"
   ]
  },
  {
   "cell_type": "code",
   "execution_count": 79,
   "metadata": {},
   "outputs": [],
   "source": [
    "#Hay una mayor dispersión en los clientes Surf"
   ]
  },
  {
   "cell_type": "code",
   "execution_count": 80,
   "metadata": {
    "id": "GRI_R7xF0q1L"
   },
   "outputs": [
    {
     "name": "stdout",
     "output_type": "stream",
     "text": [
      "       plan   mean      var    std\n",
      "0      surf  31.04  1126.12  33.56\n",
      "1  ultimate  37.34  1209.83  34.78\n"
     ]
    }
   ],
   "source": [
    "# Calcula la media, varianza y la desviacion estandar de la cantidad de mensajes por plan:\n",
    "estadisticas_mensajes = df_consolidado.groupby('plan')['messages_count'].agg(['mean', 'var', 'std']).reset_index()\n",
    "print(estadisticas_mensajes.round(2))"
   ]
  },
  {
   "cell_type": "code",
   "execution_count": 81,
   "metadata": {
    "id": "dtFwCGAp0q1M"
   },
   "outputs": [
    {
     "data": {
      "text/plain": [
       "<Figure size 800x600 with 0 Axes>"
      ]
     },
     "metadata": {},
     "output_type": "display_data"
    },
    {
     "data": {
      "image/png": "[encoded data removed]",
      "text/plain": [
       "<Figure size 640x480 with 1 Axes>"
      ]
     },
     "metadata": {},
     "output_type": "display_data"
    }
   ],
   "source": [
    "# Traza un diagrama de caja para visualizar la distribución de los mensajes al mes\n",
    "\n",
    "plt.figure(figsize=(8, 6))\n",
    "df_consolidado.boxplot(column='messages_count', by='plan')\n",
    "plt.title('Distribución de mensajes enviados por plan')\n",
    "plt.suptitle('')\n",
    "plt.xlabel('Plan')\n",
    "plt.ylabel('Mensajes por mes')\n",
    "plt.grid(True)\n",
    "plt.tight_layout()\n",
    "plt.show()"
   ]
  },
  {
   "cell_type": "markdown",
   "metadata": {
    "id": "390SSL480q1M"
   },
   "source": [
    "#El plan 'Ultimate' tiene una menor dispersión de los datos.\n",
    "\n",
    "#La mayoría de los clientes ni siquiera envía los mensajes permitidos dentro de su plan\n",
    "\n",
    "#La mayoría de los usuarios envían entre cero y 80 mensajes al mes.\n",
    "\n",
    "#Los usuarios de Ultimate tienden a enviar más mensajes por persona, en promedio."
   ]
  },
  {
   "cell_type": "markdown",
   "metadata": {
    "id": "42YSypXz0q1M"
   },
   "source": [
    "### Internet"
   ]
  },
  {
   "cell_type": "code",
   "execution_count": 82,
   "metadata": {
    "id": "lSuKPtjh0q1M"
   },
   "outputs": [
    {
     "name": "stdout",
     "output_type": "stream",
     "text": [
      "plan      month_num\n",
      "surf      01            5.000000\n",
      "          02           12.222222\n",
      "          03           13.565217\n",
      "          04           12.220000\n",
      "          05           14.116883\n",
      "          06           15.484536\n",
      "          07           16.876033\n",
      "          08           16.882716\n",
      "          09           16.690722\n",
      "          10           17.409283\n",
      "          11           16.431095\n",
      "          12           18.238994\n",
      "ultimate  01            7.250000\n",
      "          02           17.285714\n",
      "          03           18.416667\n",
      "          04           16.333333\n",
      "          05           16.862069\n",
      "          06           15.425532\n",
      "          07           16.491525\n",
      "          08           17.845070\n",
      "          09           17.011628\n",
      "          10           17.716981\n",
      "          11           17.118110\n",
      "          12           18.397351\n",
      "Name: gb_used, dtype: float64\n"
     ]
    }
   ],
   "source": [
    "# Compara la cantidad de tráfico de Internet consumido por usuarios por plan\n",
    "df_internet = df_consolidado.groupby(['plan', 'month_num'])['gb_used'].mean()\n",
    "print(df_internet)"
   ]
  },
  {
   "cell_type": "code",
   "execution_count": 83,
   "metadata": {
    "id": "wnh8jYXi0q1N"
   },
   "outputs": [
    {
     "data": {
      "image/png": "[encoded data removed]",
      "text/plain": [
       "<Figure size 1200x600 with 1 Axes>"
      ]
     },
     "metadata": {},
     "output_type": "display_data"
    }
   ],
   "source": [
    "#Traza un gráfico de barras para visualizarlo\n",
    "plt.figure(figsize=(12, 6))\n",
    "sns.barplot(\n",
    "    data=df_internet.reset_index(),\n",
    "    x='month_num',\n",
    "    y='gb_used',\n",
    "    hue='plan'\n",
    ")\n",
    "\n",
    "#personalizarlo\n",
    "plt.title('Consumo de Internet por plan y mes')\n",
    "plt.xlabel('Mes (número)')\n",
    "plt.ylabel('Consumo de Internet (GB)')\n",
    "plt.legend(title='Plan')\n",
    "plt.tight_layout()\n",
    "plt.show()"
   ]
  },
  {
   "cell_type": "markdown",
   "metadata": {},
   "source": [
    "#En los primeros meses del año, el consumo de internet en Ultimate es más alto; después son muy parecidos."
   ]
  },
  {
   "cell_type": "code",
   "execution_count": 84,
   "metadata": {
    "id": "5VlyJ9ry0q1N"
   },
   "outputs": [
    {
     "data": {
      "image/png": "[encoded data removed]",
      "text/plain": [
       "<Figure size 1200x600 with 1 Axes>"
      ]
     },
     "metadata": {},
     "output_type": "display_data"
    }
   ],
   "source": [
    "# Compara el consumo de internet por plan y por mes. Traza un histograma.\n",
    "surf_int = df_consolidado[df_consolidado['plan'] == 'surf']['gb_used']\n",
    "ultimate_int = df_consolidado[df_consolidado['plan'] == 'ultimate']['gb_used']\n",
    "\n",
    "#crear histograma\n",
    "plt.figure(figsize=(12, 6))\n",
    "plt.hist(surf_int, bins=30, alpha=0.7, label='Surf', color='skyblue', edgecolor='black')\n",
    "plt.hist(ultimate_int, bins=30, alpha=0.7, label='Ultimate', color='orange', edgecolor='black')\n",
    "\n",
    "#personalizar\n",
    "plt.title('Distribución del consumo de Internet por mes según plan')\n",
    "plt.xlabel('Consumo de Internet (GB)')\n",
    "plt.ylabel('Cantidad de usuarios')\n",
    "plt.legend(title='Plan')\n",
    "plt.tight_layout()\n",
    "plt.show()"
   ]
  },
  {
   "cell_type": "code",
   "execution_count": 85,
   "metadata": {},
   "outputs": [
    {
     "name": "stdout",
     "output_type": "stream",
     "text": [
      "       plan   mean    var   std\n",
      "0      surf  16.61  62.40  7.90\n",
      "1  ultimate  17.21  60.15  7.76\n"
     ]
    }
   ],
   "source": [
    "# Calcula la media, varianza y la desviacion estandar:\n",
    "estadisticas_internet = df_consolidado.groupby('plan')['gb_used'].agg(['mean', 'var', 'std']).reset_index()\n",
    "print(estadisticas_internet.round(2))"
   ]
  },
  {
   "cell_type": "code",
   "execution_count": 86,
   "metadata": {},
   "outputs": [
    {
     "data": {
      "text/plain": [
       "<Figure size 800x600 with 0 Axes>"
      ]
     },
     "metadata": {},
     "output_type": "display_data"
    },
    {
     "data": {
      "image/png": "[encoded data removed]",
      "text/plain": [
       "<Figure size 640x480 with 1 Axes>"
      ]
     },
     "metadata": {},
     "output_type": "display_data"
    }
   ],
   "source": [
    "# Traza un diagrama de caja para visualizar la distribución de la cantidad de internet utilizada por mes:\n",
    "\n",
    "plt.figure(figsize=(8, 6))\n",
    "df_consolidado.boxplot(column='gb_used', by='plan')\n",
    "plt.title('Distribución de GB de internet usados por plan')\n",
    "plt.suptitle('')\n",
    "plt.xlabel('Plan')\n",
    "plt.ylabel('GB usados por mes')\n",
    "plt.grid(True)\n",
    "plt.tight_layout()\n",
    "plt.show()"
   ]
  },
  {
   "cell_type": "markdown",
   "metadata": {
    "id": "UN9zwuMP0q1N"
   },
   "source": [
    "#Enero es un mes con muy poco consumo de internet en ambos planes.\n",
    "#Diciembre es el mes con mayor consumo en Surf, pero para Ultimate es en marzo.\n",
    "#Los usuarios de Surf muestran una mayor variabilidad en su consumo de GB\n",
    "#El consumo de internet es más o menos entre 15 y 22 GB al mes.\n",
    "#Ultimate presenta menor dispersión de los datos, es decir, están más agrupados. La mayoría de lo usuarios usan 17GB en promedio al mes. Y, a excepción de enero, el consumo se mantiene muy similar a lo largo del año."
   ]
  },
  {
   "cell_type": "markdown",
   "metadata": {
    "id": "tCijq3260q1N"
   },
   "source": [
    "## Ingreso"
   ]
  },
  {
   "cell_type": "markdown",
   "metadata": {
    "id": "9nq5IAcy0q1O"
   },
   "source": [
    "Describe estadísticamente los ingresos de los planes."
   ]
  },
  {
   "cell_type": "code",
   "execution_count": 87,
   "metadata": {
    "id": "tz-dq_V00q1O"
   },
   "outputs": [
    {
     "name": "stdout",
     "output_type": "stream",
     "text": [
      "60.55\n",
      "72.3\n"
     ]
    }
   ],
   "source": [
    "#Total_cost general\n",
    "print(df_consolidado[df_consolidado['plan'] == 'surf']['total_cost'].mean().round(2))\n",
    "print(df_consolidado[df_consolidado['plan'] == 'ultimate']['total_cost'].mean().round(2))"
   ]
  },
  {
   "cell_type": "code",
   "execution_count": 88,
   "metadata": {},
   "outputs": [
    {
     "data": {
      "text/html": [
       "<div>\n",
       "<style scoped>\n",
       "    .dataframe tbody tr th:only-of-type {\n",
       "        vertical-align: middle;\n",
       "    }\n",
       "\n",
       "    .dataframe tbody tr th {\n",
       "        vertical-align: top;\n",
       "    }\n",
       "\n",
       "    .dataframe thead th {\n",
       "        text-align: right;\n",
       "    }\n",
       "</style>\n",
       "<table border=\"1\" class=\"dataframe\">\n",
       "  <thead>\n",
       "    <tr style=\"text-align: right;\">\n",
       "      <th></th>\n",
       "      <th>count</th>\n",
       "      <th>mean</th>\n",
       "      <th>std</th>\n",
       "      <th>min</th>\n",
       "      <th>25%</th>\n",
       "      <th>50%</th>\n",
       "      <th>75%</th>\n",
       "      <th>max</th>\n",
       "    </tr>\n",
       "    <tr>\n",
       "      <th>plan</th>\n",
       "      <th></th>\n",
       "      <th></th>\n",
       "      <th></th>\n",
       "      <th></th>\n",
       "      <th></th>\n",
       "      <th></th>\n",
       "      <th></th>\n",
       "      <th></th>\n",
       "    </tr>\n",
       "  </thead>\n",
       "  <tbody>\n",
       "    <tr>\n",
       "      <th>surf</th>\n",
       "      <td>1579.0</td>\n",
       "      <td>60.6</td>\n",
       "      <td>55.3</td>\n",
       "      <td>20.0</td>\n",
       "      <td>20.0</td>\n",
       "      <td>40.2</td>\n",
       "      <td>80.3</td>\n",
       "      <td>590.4</td>\n",
       "    </tr>\n",
       "    <tr>\n",
       "      <th>ultimate</th>\n",
       "      <td>724.0</td>\n",
       "      <td>72.3</td>\n",
       "      <td>11.4</td>\n",
       "      <td>70.0</td>\n",
       "      <td>70.0</td>\n",
       "      <td>70.0</td>\n",
       "      <td>70.0</td>\n",
       "      <td>182.0</td>\n",
       "    </tr>\n",
       "  </tbody>\n",
       "</table>\n",
       "</div>"
      ],
      "text/plain": [
       "           count  mean   std   min   25%   50%   75%    max\n",
       "plan                                                       \n",
       "surf      1579.0  60.6  55.3  20.0  20.0  40.2  80.3  590.4\n",
       "ultimate   724.0  72.3  11.4  70.0  70.0  70.0  70.0  182.0"
      ]
     },
     "execution_count": 88,
     "metadata": {},
     "output_type": "execute_result"
    }
   ],
   "source": [
    "df_consolidado.groupby('plan')['total_cost'].describe().round(1)"
   ]
  },
  {
   "cell_type": "markdown",
   "metadata": {
    "id": "KAFidcXZ0q1P"
   },
   "source": [
    "El plan Ultimate genera más ingresos en promedio para la compañía (72 USD por usuario). Además de que son ingresos más estables y predecibles (ideal si se quieren hacer proyecciones financieras). La estabilidad también se puede asociar a que al ser un plan robusto, la mayoría de usuarios se apega a lo que contiene su plan. Por el contrario, el plan Surf es menos rentable y con ingresos volatiles, es decir, que algunos usuarios pagan el mínimo (20), mientras que otros se exceden por mucho (hasta 590). "
   ]
  },
  {
   "cell_type": "markdown",
   "metadata": {
    "id": "ajJ7VKeI0q1Q"
   },
   "source": [
    "## Prueba las hipótesis estadísticas"
   ]
  },
  {
   "cell_type": "markdown",
   "metadata": {
    "id": "AdXAZ-yL0q1Q"
   },
   "source": [
    "#Prueba de hipótesis para la diferencia de medias:\n",
    "#H0: El ingreso promedio de los usuarios de las tarifas Ultimate y Surf es igual.\n",
    "#H1: El ingreso promedio de los usuarios de las tarifas Ultimate y Surf difiere."
   ]
  },
  {
   "cell_type": "code",
   "execution_count": 89,
   "metadata": {},
   "outputs": [],
   "source": [
    "alpha= 0.05\n",
    "surf_cost = df_consolidado[df_consolidado['plan'] == 'surf']['total_cost']\n",
    "ultimate_cost = df_consolidado[df_consolidado['plan'] == 'ultimate']['total_cost']"
   ]
  },
  {
   "cell_type": "code",
   "execution_count": 90,
   "metadata": {
    "id": "nFoPNlPq0q1R"
   },
   "outputs": [
    {
     "name": "stdout",
     "output_type": "stream",
     "text": [
      "Prueba de Levene - valor p: 3.070976609395645e-83\n",
      "Varianzas desiguales: usamos equal_var=False\n"
     ]
    }
   ],
   "source": [
    "#Prueba Levene para igualdad de varianzas\n",
    "levene_stat, levene_p = st.levene(surf_cost, ultimate_cost)\n",
    "print('Prueba de Levene - valor p:', levene_p)\n",
    "\n",
    "#Basado en eso decido el parámetro equal_var\n",
    "if levene_p < alpha:\n",
    "    print(\"Varianzas desiguales: usamos equal_var=False\")\n",
    "    equal_var = False\n",
    "else:\n",
    "    print(\"Varianzas iguales: usamos equal_var=True\")\n",
    "    equal_var = True"
   ]
  },
  {
   "cell_type": "code",
   "execution_count": 91,
   "metadata": {},
   "outputs": [
    {
     "name": "stdout",
     "output_type": "stream",
     "text": [
      "Valor p: 1.218411585212325e-15\n",
      "Rechazamos la hipótesis nula\n"
     ]
    }
   ],
   "source": [
    "#Considerando que salió equal_var= False, esa utilizamos:\n",
    "results = st.ttest_ind(surf_cost, ultimate_cost, equal_var=False)\n",
    "\n",
    "print('Valor p:', results.pvalue) #extraer el valor p\n",
    "\n",
    "if results.pvalue < alpha: # comparar el valor p con el umbral\n",
    "    print(\"Rechazamos la hipótesis nula\")\n",
    "else:\n",
    "    print(\"No podemos rechazar la hipótesis nula\")\n"
   ]
  },
  {
   "cell_type": "code",
   "execution_count": 92,
   "metadata": {},
   "outputs": [],
   "source": [
    "#Rechazamos la hipótesis nula, es decir, que los ingresos promedio por plan son diferentes.\n",
    "#Esto ya lo habíamos comprobado anteriormente. "
   ]
  },
  {
   "cell_type": "markdown",
   "metadata": {
    "id": "tCcAruM60q1R"
   },
   "source": [
    "#Pruebas de hipótesis\n",
    "#H0: El ingreso promedio de los usuarios en el área de estados Nueva York-Nueva Jersey es igual al de otras regiones.\n",
    "#H1: El ingreso promedio de los usuarios en el área de estados Nueva York-Nueva Jersey es diferente al de los usuarios de otras regiones."
   ]
  },
  {
   "cell_type": "code",
   "execution_count": 93,
   "metadata": {},
   "outputs": [],
   "source": [
    "#extraer a las ciudades del DF users\n",
    "main_users = users[users['city'].str.contains('New York-Newark-Jersey City', case=False)]\n",
    "other_users = users[~users['user_id'].isin(main_users['user_id'])]\n",
    "\n",
    "#incorporar con el costo\n",
    "cities_income = df_consolidado[df_consolidado['user_id'].isin(main_users['user_id'])]['total_cost']\n",
    "other_income = df_consolidado[df_consolidado['user_id'].isin(other_users['user_id'])]['total_cost']"
   ]
  },
  {
   "cell_type": "code",
   "execution_count": 94,
   "metadata": {
    "id": "Cqcj7wrZ0q1S"
   },
   "outputs": [
    {
     "name": "stdout",
     "output_type": "stream",
     "text": [
      "Prueba de Levene - valor p: 3.070976609395645e-83\n",
      "Varianzas desiguales: usamos equal_var=False\n"
     ]
    }
   ],
   "source": [
    "# Prueba las hipótesis\n",
    "alpha = 0.05\n",
    "\n",
    "#Prueba Levene para igualdad de varianzas\n",
    "levene_stat, levene_p = st.levene(surf_cost, ultimate_cost)\n",
    "print('Prueba de Levene - valor p:', levene_p)\n",
    "\n",
    "#Basado en eso decido el parámetro equal_var\n",
    "if levene_p < alpha:\n",
    "    print(\"Varianzas desiguales: usamos equal_var=False\")\n",
    "    equal_var = False\n",
    "else:\n",
    "    print(\"Varianzas iguales: usamos equal_var=True\")\n",
    "    equal_var = True"
   ]
  },
  {
   "cell_type": "code",
   "execution_count": 95,
   "metadata": {},
   "outputs": [
    {
     "name": "stdout",
     "output_type": "stream",
     "text": [
      "Valor p: 0.03870322661292944\n",
      "Rechazamos la hipótesis nula\n"
     ]
    }
   ],
   "source": [
    "#Considerando que salió equal_var= False, esa utilizamos:\n",
    "results = st.ttest_ind(cities_income, other_income, equal_var=False)\n",
    "\n",
    "# Imprime el resultado\n",
    "print('Valor p:', results.pvalue)\n",
    "\n",
    "if results.pvalue < alpha:\n",
    "    print(\"Rechazamos la hipótesis nula\")\n",
    "else:\n",
    "    print(\"No podemos rechazar la hipótesis nula\")"
   ]
  },
  {
   "cell_type": "code",
   "execution_count": 96,
   "metadata": {},
   "outputs": [],
   "source": [
    "#Nuevamente rechazamos la hipótesis nula, es decir, los ingresos de los usuarios en el \n",
    "#área de NY-NJ es diferente al de los usuarios de otras regiones."
   ]
  },
  {
   "cell_type": "markdown",
   "metadata": {
    "id": "bbTR8UQO0q1T"
   },
   "source": [
    "## Conclusión general\n",
    "\n",
    "Tras el desarrollo de este análisis, pudimos constatar que el plan Ultimate genera más ingresos en promedio para la compañía (72USD vs 60USD del Surf), aun y cuando menos de la mitad de los clientes de la compañía lo tiene. Además de que son ingresos más estables y predecibles. Esto también puede estar asociado a que al ser un plan robusto, la mayoría de usuarios se apega a lo que contiene su plan. Ultimate parece ser más usado por clientes que son constantes y regulares, probablemente porque su trabajo o actividades así lo requiere. Por el contrario, el plan Surf es menos rentable y con ingresos volatiles, es decir, hay mucha diferencia entre los usuarios que pagan el minimo (20), y los que se exceden por mucho (hasta 590).  \n",
    "\n",
    "Mi recomendación es que la compañía se enfoque en el lanzamiento de campañas para atraer más usuarios al plan Ultimate y fidelizarlos, para aprovechar la estabilidad que este plan conlleva."
   ]
  }
 ],
 "metadata": {
  "ExecuteTimeLog": [
   {
    "duration": 828,
    "start_time": "2021-11-16T09:21:11.304Z"
   },
   {
    "duration": 893,
    "start_time": "2021-11-16T09:21:17.728Z"
   },
   {
    "duration": 1150,
    "start_time": "2021-11-16T09:21:29.568Z"
   },
   {
    "duration": 3,
    "start_time": "2021-11-16T09:24:14.495Z"
   },
   {
    "duration": 120,
    "start_time": "2021-11-16T09:24:46.630Z"
   },
   {
    "duration": 3,
    "start_time": "2021-11-16T09:28:27.882Z"
   },
   {
    "duration": 4,
    "start_time": "2021-11-16T09:29:54.281Z"
   },
   {
    "duration": 3,
    "start_time": "2021-11-16T09:30:45.936Z"
   },
   {
    "duration": 4,
    "start_time": "2021-11-16T09:31:06.300Z"
   },
   {
    "duration": 113,
    "start_time": "2021-11-16T09:31:37.208Z"
   },
   {
    "duration": 143,
    "start_time": "2021-11-16T09:31:48.656Z"
   },
   {
    "duration": 98,
    "start_time": "2021-11-16T09:31:55.678Z"
   },
   {
    "duration": 3,
    "start_time": "2021-11-16T09:32:08.535Z"
   },
   {
    "duration": 111,
    "start_time": "2021-11-16T09:32:10.120Z"
   },
   {
    "duration": 3,
    "start_time": "2021-11-16T09:32:15.732Z"
   },
   {
    "duration": 4,
    "start_time": "2021-11-16T09:32:29.423Z"
   },
   {
    "duration": 3,
    "start_time": "2021-11-16T10:03:03.074Z"
   },
   {
    "duration": 3,
    "start_time": "2021-11-16T10:10:01.288Z"
   },
   {
    "duration": 3,
    "start_time": "2021-11-16T10:10:46.923Z"
   },
   {
    "duration": 121,
    "start_time": "2021-11-16T10:37:46.494Z"
   },
   {
    "duration": 125,
    "start_time": "2021-11-16T10:38:20.632Z"
   },
   {
    "duration": 112,
    "start_time": "2021-11-16T10:46:53.001Z"
   },
   {
    "duration": 110,
    "start_time": "2021-11-16T10:48:25.775Z"
   },
   {
    "duration": 3,
    "start_time": "2021-11-16T10:50:18.720Z"
   },
   {
    "duration": 4,
    "start_time": "2021-11-16T10:50:37.649Z"
   },
   {
    "duration": 2,
    "start_time": "2021-11-16T10:50:51.884Z"
   },
   {
    "duration": 3,
    "start_time": "2021-11-16T10:51:56.237Z"
   },
   {
    "duration": 101,
    "start_time": "2021-11-16T10:53:13.791Z"
   },
   {
    "duration": 3,
    "start_time": "2021-11-16T10:55:59.186Z"
   },
   {
    "duration": 3,
    "start_time": "2021-11-16T10:56:10.751Z"
   },
   {
    "duration": 3,
    "start_time": "2021-11-16T10:56:49.038Z"
   },
   {
    "duration": 3,
    "start_time": "2021-11-16T10:56:49.174Z"
   },
   {
    "duration": 4,
    "start_time": "2021-11-16T10:56:49.414Z"
   },
   {
    "duration": 3,
    "start_time": "2021-11-16T10:56:49.680Z"
   },
   {
    "duration": 3,
    "start_time": "2021-11-16T10:56:50.370Z"
   },
   {
    "duration": 114,
    "start_time": "2021-11-16T10:59:34.518Z"
   },
   {
    "duration": 3,
    "start_time": "2021-11-16T11:01:41.201Z"
   },
   {
    "duration": 116,
    "start_time": "2021-11-16T11:01:48.754Z"
   },
   {
    "duration": 3,
    "start_time": "2021-11-16T11:02:16.685Z"
   },
   {
    "duration": 3,
    "start_time": "2021-11-16T11:02:19.479Z"
   },
   {
    "duration": 3,
    "start_time": "2021-11-16T11:02:47.067Z"
   },
   {
    "duration": 3,
    "start_time": "2021-11-16T11:02:49.353Z"
   },
   {
    "duration": 3,
    "start_time": "2021-11-16T11:03:07.835Z"
   },
   {
    "duration": 3,
    "start_time": "2021-11-16T11:03:07.953Z"
   },
   {
    "duration": 112,
    "start_time": "2021-11-16T11:07:52.072Z"
   },
   {
    "duration": 187,
    "start_time": "2021-11-16T11:09:23.468Z"
   },
   {
    "duration": 4,
    "start_time": "2021-11-16T11:10:01.455Z"
   },
   {
    "duration": 3,
    "start_time": "2021-11-16T11:10:05.069Z"
   },
   {
    "duration": 4,
    "start_time": "2021-11-16T11:10:13.376Z"
   },
   {
    "duration": 3,
    "start_time": "2021-11-16T11:10:14.434Z"
   },
   {
    "duration": 3,
    "start_time": "2021-11-16T11:10:22.853Z"
   },
   {
    "duration": 4,
    "start_time": "2021-11-16T11:27:29.279Z"
   },
   {
    "duration": 4,
    "start_time": "2021-11-16T11:29:08.919Z"
   },
   {
    "duration": 118,
    "start_time": "2021-11-16T11:29:46.703Z"
   },
   {
    "duration": 437,
    "start_time": "2021-11-16T11:36:02.181Z"
   },
   {
    "duration": 157,
    "start_time": "2021-11-16T11:36:14.388Z"
   },
   {
    "duration": 207,
    "start_time": "2021-11-16T11:47:15.898Z"
   },
   {
    "duration": 3,
    "start_time": "2021-11-16T11:53:52.092Z"
   },
   {
    "duration": 3,
    "start_time": "2021-11-16T11:53:52.236Z"
   },
   {
    "duration": 3,
    "start_time": "2021-11-16T11:59:12.005Z"
   },
   {
    "duration": 112,
    "start_time": "2021-11-16T12:00:33.446Z"
   },
   {
    "duration": 3,
    "start_time": "2021-11-16T12:02:14.453Z"
   },
   {
    "duration": 3,
    "start_time": "2021-11-16T12:02:39.512Z"
   },
   {
    "duration": 106,
    "start_time": "2021-11-16T12:03:03.460Z"
   },
   {
    "duration": 3,
    "start_time": "2021-11-17T20:37:21.139Z"
   },
   {
    "duration": 3,
    "start_time": "2021-11-17T20:37:22.229Z"
   },
   {
    "duration": 3,
    "start_time": "2021-11-17T20:38:38.806Z"
   },
   {
    "duration": 3,
    "start_time": "2021-11-17T20:38:41.958Z"
   },
   {
    "duration": 3,
    "start_time": "2021-11-17T20:43:46.551Z"
   },
   {
    "duration": 4,
    "start_time": "2021-11-17T20:58:21.835Z"
   },
   {
    "duration": 3,
    "start_time": "2021-11-17T20:59:21.872Z"
   },
   {
    "duration": 4,
    "start_time": "2021-11-17T20:59:45.352Z"
   },
   {
    "duration": 4,
    "start_time": "2021-11-17T20:59:49.646Z"
   },
   {
    "duration": 159,
    "start_time": "2021-11-17T21:02:26.949Z"
   },
   {
    "duration": 3,
    "start_time": "2021-11-17T21:03:53.461Z"
   },
   {
    "duration": 3,
    "start_time": "2021-11-17T21:03:53.694Z"
   },
   {
    "duration": 3,
    "start_time": "2021-11-17T21:05:28.145Z"
   },
   {
    "duration": 116,
    "start_time": "2021-11-17T21:05:57.787Z"
   },
   {
    "duration": 3,
    "start_time": "2021-11-17T21:06:37.993Z"
   },
   {
    "duration": 3,
    "start_time": "2021-11-17T21:06:38.261Z"
   },
   {
    "duration": 3,
    "start_time": "2021-11-17T21:11:54.358Z"
   },
   {
    "duration": 3,
    "start_time": "2021-11-17T21:12:43.846Z"
   },
   {
    "duration": 4,
    "start_time": "2021-11-17T21:13:08.773Z"
   },
   {
    "duration": 3,
    "start_time": "2021-11-17T21:14:44.441Z"
   },
   {
    "duration": 3,
    "start_time": "2021-11-17T21:15:42.059Z"
   },
   {
    "duration": 4,
    "start_time": "2021-11-17T21:15:51.995Z"
   },
   {
    "duration": 3,
    "start_time": "2021-11-17T21:15:53.923Z"
   },
   {
    "duration": 3,
    "start_time": "2021-11-17T21:15:55.282Z"
   },
   {
    "duration": 3,
    "start_time": "2021-11-17T21:16:28.492Z"
   },
   {
    "duration": 3,
    "start_time": "2021-11-17T21:16:32.603Z"
   },
   {
    "duration": 3,
    "start_time": "2021-11-17T21:17:06.941Z"
   },
   {
    "duration": 98,
    "start_time": "2021-11-17T21:18:05.733Z"
   },
   {
    "duration": 4,
    "start_time": "2021-11-17T21:21:35.255Z"
   },
   {
    "duration": 3,
    "start_time": "2021-11-17T21:21:37.804Z"
   },
   {
    "duration": 4,
    "start_time": "2021-11-17T21:23:06.071Z"
   },
   {
    "duration": 3,
    "start_time": "2021-11-17T21:23:24.799Z"
   },
   {
    "duration": 3,
    "start_time": "2021-11-17T21:23:32.591Z"
   },
   {
    "duration": 98,
    "start_time": "2021-11-17T21:28:31.559Z"
   },
   {
    "duration": 3,
    "start_time": "2021-11-17T21:28:45.448Z"
   },
   {
    "duration": 3,
    "start_time": "2021-11-17T21:29:17.303Z"
   },
   {
    "duration": 3,
    "start_time": "2021-11-17T21:29:29.617Z"
   },
   {
    "duration": 3,
    "start_time": "2021-11-17T21:29:32.681Z"
   },
   {
    "duration": 3,
    "start_time": "2021-11-17T21:36:11.474Z"
   },
   {
    "duration": 3,
    "start_time": "2021-11-17T21:36:14.791Z"
   },
   {
    "duration": 3,
    "start_time": "2021-11-17T21:36:53.943Z"
   },
   {
    "duration": 3,
    "start_time": "2021-11-17T21:36:56.165Z"
   },
   {
    "duration": 4,
    "start_time": "2021-11-17T21:37:16.590Z"
   },
   {
    "duration": 3,
    "start_time": "2021-11-17T21:37:22.702Z"
   },
   {
    "duration": 4,
    "start_time": "2021-11-17T21:38:03.479Z"
   },
   {
    "duration": 3,
    "start_time": "2021-11-17T21:38:08.601Z"
   },
   {
    "duration": 3,
    "start_time": "2021-11-17T21:38:12.928Z"
   },
   {
    "duration": 3,
    "start_time": "2021-11-17T21:38:48.896Z"
   },
   {
    "duration": 2,
    "start_time": "2021-11-17T21:38:49.171Z"
   },
   {
    "duration": 4,
    "start_time": "2021-11-17T21:39:57.889Z"
   },
   {
    "duration": 3,
    "start_time": "2021-11-17T21:39:58.057Z"
   },
   {
    "duration": 3,
    "start_time": "2021-11-17T21:41:20.108Z"
   },
   {
    "duration": 3,
    "start_time": "2021-11-17T21:41:20.629Z"
   },
   {
    "duration": 3,
    "start_time": "2021-11-17T21:42:49.136Z"
   },
   {
    "duration": 3,
    "start_time": "2021-11-17T21:43:15.137Z"
   },
   {
    "duration": 4,
    "start_time": "2021-11-17T21:43:16.766Z"
   },
   {
    "duration": 4,
    "start_time": "2021-11-17T21:43:31.711Z"
   },
   {
    "duration": 3,
    "start_time": "2021-11-17T21:43:36.312Z"
   },
   {
    "duration": 4,
    "start_time": "2021-11-17T21:45:08.825Z"
   },
   {
    "duration": 4,
    "start_time": "2021-11-17T21:45:10.119Z"
   },
   {
    "duration": 4,
    "start_time": "2021-11-17T21:45:13.748Z"
   },
   {
    "duration": 3,
    "start_time": "2021-11-17T21:45:22.219Z"
   },
   {
    "duration": 3,
    "start_time": "2021-11-17T21:45:33.412Z"
   },
   {
    "duration": 2,
    "start_time": "2021-11-17T21:46:01.885Z"
   },
   {
    "duration": 3,
    "start_time": "2021-11-17T21:46:03.628Z"
   },
   {
    "duration": 107,
    "start_time": "2021-11-17T21:47:32.512Z"
   },
   {
    "duration": 103,
    "start_time": "2021-11-17T21:50:36.243Z"
   },
   {
    "duration": 3,
    "start_time": "2021-11-18T06:28:31.440Z"
   },
   {
    "duration": 3,
    "start_time": "2021-11-18T06:29:00.168Z"
   },
   {
    "duration": 3,
    "start_time": "2021-11-18T06:31:27.008Z"
   },
   {
    "duration": 2,
    "start_time": "2021-11-18T06:35:34.288Z"
   },
   {
    "duration": 2,
    "start_time": "2021-11-18T06:38:04.527Z"
   }
  ],
  "colab": {
   "provenance": []
  },
  "kernelspec": {
   "display_name": "Python 3 (ipykernel)",
   "language": "python",
   "name": "python3"
  },
  "language_info": {
   "codemirror_mode": {
    "name": "ipython",
    "version": 3
   },
   "file_extension": ".py",
   "mimetype": "text/x-python",
   "name": "python",
   "nbconvert_exporter": "python",
   "pygments_lexer": "ipython3",
   "version": "3.9.23"
  },
  "toc": {
   "base_numbering": 1,
   "nav_menu": {},
   "number_sections": true,
   "sideBar": true,
   "skip_h1_title": false,
   "title_cell": "Table of Contents",
   "title_sidebar": "Contents",
   "toc_cell": false,
   "toc_position": {},
   "toc_section_display": true,
   "toc_window_display": true
  }
 },
 "nbformat": 4,
 "nbformat_minor": 4
}
